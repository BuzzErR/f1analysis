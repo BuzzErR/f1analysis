{
 "cells": [
  {
   "cell_type": "markdown",
   "source": [
    "<h1>Анализ формулы один с использованием методов машинного обучения и математической статистики</h1>"
   ],
   "metadata": {
    "collapsed": false
   }
  },
  {
   "cell_type": "markdown",
   "source": [
    "<h2> Структура </h2>\n",
    "<ul>\n",
    "<li><a href=\"#overtakes\">Фиксирующиеся обгоны</a></li>\n",
    "<li><a href=\"#overtakes_all\">Обгоны в секторах</a></li>\n",
    "<li><a href=\"#tracks\">Данные о трассах</a></li>\n",
    "<li><a href=\"#predictor\">Определение результата гонки по квалификации</a></li>\n",
    "</ul>"
   ],
   "metadata": {
    "collapsed": false
   }
  },
  {
   "cell_type": "markdown",
   "source": [
    "<h2 id=\"overtakes\">Первоначальной нашей целью будет прогноз вероятности совершения обгона на каждом из участков трассы.</h2>"
   ],
   "metadata": {
    "collapsed": false
   }
  },
  {
   "cell_type": "markdown",
   "source": [
    "<h3>Этап первый: определение обгонов</h3>"
   ],
   "metadata": {
    "collapsed": false
   }
  },
  {
   "cell_type": "code",
   "execution_count": 1,
   "metadata": {
    "collapsed": true
   },
   "outputs": [
    {
     "name": "stderr",
     "output_type": "stream",
     "text": [
      "utils          INFO \tNumExpr defaulting to 8 threads.\n",
      "core           INFO \tLoading data for Australian Grand Prix - Qualifying [v2.2.4]\n",
      "api            INFO \tUsing cached data for driver_info\n",
      "api            INFO \tUsing cached data for timing_data\n",
      "api            INFO \tUsing cached data for timing_app_data\n",
      "core           INFO \tProcessing timing data...\n",
      "api            INFO \tUsing cached data for session_status_data\n",
      "api            INFO \tUsing cached data for track_status_data\n",
      "api            INFO \tUsing cached data for car_data\n",
      "api            INFO \tUsing cached data for position_data\n",
      "api            INFO \tUsing cached data for weather_data\n",
      "core           INFO \tFinished loading data for 20 drivers: ['44', '7', '5', '33', '3', '20', '8', '27', '55', '77', '14', '2', '11', '18', '31', '28', '9', '16', '35', '10']\n"
     ]
    }
   ],
   "source": [
    "import fastf1 as ff1\n",
    "import pandas as pd\n",
    "import numpy as np\n",
    "import math\n",
    "import requests\n",
    "from scipy import stats\n",
    "import logging\n",
    "\n",
    "selected_season = 2018\n",
    "selected_race = 1\n",
    "\n",
    "ff1.Cache.enable_cache('cache')\n",
    "session = ff1.get_session(selected_season, selected_race, 'R')\n",
    "quali = ff1.get_session(selected_season, selected_race, 'Q')\n",
    "quali.load()\n",
    "quali = quali.results"
   ]
  },
  {
   "cell_type": "code",
   "execution_count": 438,
   "outputs": [
    {
     "data": {
      "text/plain": "   DriverNumber BroadcastName Abbreviation         TeamName TeamColor  \\\n44           44    L HAMILTON          HAM         Mercedes    00D2BE   \n7             7   K RAIKKONEN          RAI          Ferrari    DC0000   \n5             5      S VETTEL          VET          Ferrari    DC0000   \n33           33  M VERSTAPPEN          VER  Red Bull Racing    1E41FF   \n3             3   D RICCIARDO          RIC  Red Bull Racing    1E41FF   \n20           20   K MAGNUSSEN          MAG     Haas F1 Team    828282   \n8             8    R GROSJEAN          GRO     Haas F1 Team    828282   \n27           27  N HULKENBERG          HUL          Renault    FFF500   \n55           55       C SAINZ          SAI          Renault    FFF500   \n77           77      V BOTTAS          BOT         Mercedes    00D2BE   \n14           14      F ALONSO          ALO          McLaren    FF8700   \n2             2   S VANDOORNE          VAN          McLaren    FF8700   \n11           11       S PEREZ          PER      Force India    F596C8   \n18           18      L STROLL          STR         Williams    FFFFFF   \n31           31        E OCON          OCO      Force India    F596C8   \n28           28     B HARTLEY          HAR       Toro Rosso    469BFF   \n9             9    M ERICSSON          ERI           Sauber    9B0000   \n16           16     C LECLERC          LEC           Sauber    9B0000   \n35           35    S SIROTKIN          SIR         Williams    FFFFFF   \n10           10       P GASLY          GAS       Toro Rosso    469BFF   \n\n    FirstName    LastName           FullName  Position  GridPosition  \\\n44      Lewis    Hamilton     Lewis Hamilton       1.0           0.0   \n7        Kimi   Räikkönen     Kimi Räikkönen       2.0           0.0   \n5   Sebastian      Vettel   Sebastian Vettel       3.0           0.0   \n33        Max  Verstappen     Max Verstappen       4.0           0.0   \n3      Daniel   Ricciardo   Daniel Ricciardo       5.0           0.0   \n20      Kevin   Magnussen    Kevin Magnussen       6.0           0.0   \n8      Romain    Grosjean    Romain Grosjean       7.0           0.0   \n27       Nico  Hulkenberg    Nico Hulkenberg       8.0           0.0   \n55     Carlos       Sainz       Carlos Sainz       9.0           0.0   \n77   Valtteri      Bottas    Valtteri Bottas      10.0           0.0   \n14   Fernando      Alonso    Fernando Alonso      11.0           0.0   \n2     Stoffel   Vandoorne  Stoffel Vandoorne      12.0           0.0   \n11     Sergio       Perez       Sergio Perez      13.0           0.0   \n18      Lance      Stroll       Lance Stroll      14.0           0.0   \n31    Esteban        Ocon       Esteban Ocon      15.0           0.0   \n28    Brendon     Hartley    Brendon Hartley      16.0           0.0   \n9      Marcus    Ericsson    Marcus Ericsson      17.0           0.0   \n16    Charles     Leclerc    Charles Leclerc      18.0           0.0   \n35     Sergey    Sirotkin    Sergey Sirotkin      19.0           0.0   \n10     Pierre       Gasly       Pierre Gasly      20.0           0.0   \n\n                       Q1                     Q2                     Q3 Time  \\\n44 0 days 00:01:22.824000 0 days 00:01:22.051000 0 days 00:01:21.164000  NaT   \n7  0 days 00:01:23.096000 0 days 00:01:22.507000 0 days 00:01:21.828000  NaT   \n5  0 days 00:01:23.348000 0 days 00:01:21.944000 0 days 00:01:21.838000  NaT   \n33 0 days 00:01:23.483000 0 days 00:01:22.416000 0 days 00:01:21.879000  NaT   \n3  0 days 00:01:23.494000 0 days 00:01:22.897000 0 days 00:01:22.152000  NaT   \n20 0 days 00:01:23.909000 0 days 00:01:23.300000 0 days 00:01:23.187000  NaT   \n8  0 days 00:01:23.671000 0 days 00:01:23.468000 0 days 00:01:23.339000  NaT   \n27 0 days 00:01:23.782000 0 days 00:01:23.544000 0 days 00:01:23.532000  NaT   \n55 0 days 00:01:23.529000 0 days 00:01:23.061000 0 days 00:01:23.577000  NaT   \n77 0 days 00:01:23.686000 0 days 00:01:22.089000                    NaT  NaT   \n14 0 days 00:01:23.597000 0 days 00:01:23.692000                    NaT  NaT   \n2  0 days 00:01:24.073000 0 days 00:01:23.853000                    NaT  NaT   \n11 0 days 00:01:24.344000 0 days 00:01:24.005000                    NaT  NaT   \n18 0 days 00:01:24.464000 0 days 00:01:24.230000                    NaT  NaT   \n31 0 days 00:01:24.503000 0 days 00:01:24.786000                    NaT  NaT   \n28 0 days 00:01:24.532000                    NaT                    NaT  NaT   \n9  0 days 00:01:24.556000                    NaT                    NaT  NaT   \n16 0 days 00:01:24.636000                    NaT                    NaT  NaT   \n35 0 days 00:01:24.922000                    NaT                    NaT  NaT   \n10 0 days 00:01:25.295000                    NaT                    NaT  NaT   \n\n   Status  Points  \n44            0.0  \n7             0.0  \n5             0.0  \n33            0.0  \n3             0.0  \n20            0.0  \n8             0.0  \n27            0.0  \n55            0.0  \n77            0.0  \n14            0.0  \n2             0.0  \n11            0.0  \n18            0.0  \n31            0.0  \n28            0.0  \n9             0.0  \n16            0.0  \n35            0.0  \n10            0.0  ",
      "text/html": "<div>\n<style scoped>\n    .dataframe tbody tr th:only-of-type {\n        vertical-align: middle;\n    }\n\n    .dataframe tbody tr th {\n        vertical-align: top;\n    }\n\n    .dataframe thead th {\n        text-align: right;\n    }\n</style>\n<table border=\"1\" class=\"dataframe\">\n  <thead>\n    <tr style=\"text-align: right;\">\n      <th></th>\n      <th>DriverNumber</th>\n      <th>BroadcastName</th>\n      <th>Abbreviation</th>\n      <th>TeamName</th>\n      <th>TeamColor</th>\n      <th>FirstName</th>\n      <th>LastName</th>\n      <th>FullName</th>\n      <th>Position</th>\n      <th>GridPosition</th>\n      <th>Q1</th>\n      <th>Q2</th>\n      <th>Q3</th>\n      <th>Time</th>\n      <th>Status</th>\n      <th>Points</th>\n    </tr>\n  </thead>\n  <tbody>\n    <tr>\n      <th>44</th>\n      <td>44</td>\n      <td>L HAMILTON</td>\n      <td>HAM</td>\n      <td>Mercedes</td>\n      <td>00D2BE</td>\n      <td>Lewis</td>\n      <td>Hamilton</td>\n      <td>Lewis Hamilton</td>\n      <td>1.0</td>\n      <td>0.0</td>\n      <td>0 days 00:01:22.824000</td>\n      <td>0 days 00:01:22.051000</td>\n      <td>0 days 00:01:21.164000</td>\n      <td>NaT</td>\n      <td></td>\n      <td>0.0</td>\n    </tr>\n    <tr>\n      <th>7</th>\n      <td>7</td>\n      <td>K RAIKKONEN</td>\n      <td>RAI</td>\n      <td>Ferrari</td>\n      <td>DC0000</td>\n      <td>Kimi</td>\n      <td>Räikkönen</td>\n      <td>Kimi Räikkönen</td>\n      <td>2.0</td>\n      <td>0.0</td>\n      <td>0 days 00:01:23.096000</td>\n      <td>0 days 00:01:22.507000</td>\n      <td>0 days 00:01:21.828000</td>\n      <td>NaT</td>\n      <td></td>\n      <td>0.0</td>\n    </tr>\n    <tr>\n      <th>5</th>\n      <td>5</td>\n      <td>S VETTEL</td>\n      <td>VET</td>\n      <td>Ferrari</td>\n      <td>DC0000</td>\n      <td>Sebastian</td>\n      <td>Vettel</td>\n      <td>Sebastian Vettel</td>\n      <td>3.0</td>\n      <td>0.0</td>\n      <td>0 days 00:01:23.348000</td>\n      <td>0 days 00:01:21.944000</td>\n      <td>0 days 00:01:21.838000</td>\n      <td>NaT</td>\n      <td></td>\n      <td>0.0</td>\n    </tr>\n    <tr>\n      <th>33</th>\n      <td>33</td>\n      <td>M VERSTAPPEN</td>\n      <td>VER</td>\n      <td>Red Bull Racing</td>\n      <td>1E41FF</td>\n      <td>Max</td>\n      <td>Verstappen</td>\n      <td>Max Verstappen</td>\n      <td>4.0</td>\n      <td>0.0</td>\n      <td>0 days 00:01:23.483000</td>\n      <td>0 days 00:01:22.416000</td>\n      <td>0 days 00:01:21.879000</td>\n      <td>NaT</td>\n      <td></td>\n      <td>0.0</td>\n    </tr>\n    <tr>\n      <th>3</th>\n      <td>3</td>\n      <td>D RICCIARDO</td>\n      <td>RIC</td>\n      <td>Red Bull Racing</td>\n      <td>1E41FF</td>\n      <td>Daniel</td>\n      <td>Ricciardo</td>\n      <td>Daniel Ricciardo</td>\n      <td>5.0</td>\n      <td>0.0</td>\n      <td>0 days 00:01:23.494000</td>\n      <td>0 days 00:01:22.897000</td>\n      <td>0 days 00:01:22.152000</td>\n      <td>NaT</td>\n      <td></td>\n      <td>0.0</td>\n    </tr>\n    <tr>\n      <th>20</th>\n      <td>20</td>\n      <td>K MAGNUSSEN</td>\n      <td>MAG</td>\n      <td>Haas F1 Team</td>\n      <td>828282</td>\n      <td>Kevin</td>\n      <td>Magnussen</td>\n      <td>Kevin Magnussen</td>\n      <td>6.0</td>\n      <td>0.0</td>\n      <td>0 days 00:01:23.909000</td>\n      <td>0 days 00:01:23.300000</td>\n      <td>0 days 00:01:23.187000</td>\n      <td>NaT</td>\n      <td></td>\n      <td>0.0</td>\n    </tr>\n    <tr>\n      <th>8</th>\n      <td>8</td>\n      <td>R GROSJEAN</td>\n      <td>GRO</td>\n      <td>Haas F1 Team</td>\n      <td>828282</td>\n      <td>Romain</td>\n      <td>Grosjean</td>\n      <td>Romain Grosjean</td>\n      <td>7.0</td>\n      <td>0.0</td>\n      <td>0 days 00:01:23.671000</td>\n      <td>0 days 00:01:23.468000</td>\n      <td>0 days 00:01:23.339000</td>\n      <td>NaT</td>\n      <td></td>\n      <td>0.0</td>\n    </tr>\n    <tr>\n      <th>27</th>\n      <td>27</td>\n      <td>N HULKENBERG</td>\n      <td>HUL</td>\n      <td>Renault</td>\n      <td>FFF500</td>\n      <td>Nico</td>\n      <td>Hulkenberg</td>\n      <td>Nico Hulkenberg</td>\n      <td>8.0</td>\n      <td>0.0</td>\n      <td>0 days 00:01:23.782000</td>\n      <td>0 days 00:01:23.544000</td>\n      <td>0 days 00:01:23.532000</td>\n      <td>NaT</td>\n      <td></td>\n      <td>0.0</td>\n    </tr>\n    <tr>\n      <th>55</th>\n      <td>55</td>\n      <td>C SAINZ</td>\n      <td>SAI</td>\n      <td>Renault</td>\n      <td>FFF500</td>\n      <td>Carlos</td>\n      <td>Sainz</td>\n      <td>Carlos Sainz</td>\n      <td>9.0</td>\n      <td>0.0</td>\n      <td>0 days 00:01:23.529000</td>\n      <td>0 days 00:01:23.061000</td>\n      <td>0 days 00:01:23.577000</td>\n      <td>NaT</td>\n      <td></td>\n      <td>0.0</td>\n    </tr>\n    <tr>\n      <th>77</th>\n      <td>77</td>\n      <td>V BOTTAS</td>\n      <td>BOT</td>\n      <td>Mercedes</td>\n      <td>00D2BE</td>\n      <td>Valtteri</td>\n      <td>Bottas</td>\n      <td>Valtteri Bottas</td>\n      <td>10.0</td>\n      <td>0.0</td>\n      <td>0 days 00:01:23.686000</td>\n      <td>0 days 00:01:22.089000</td>\n      <td>NaT</td>\n      <td>NaT</td>\n      <td></td>\n      <td>0.0</td>\n    </tr>\n    <tr>\n      <th>14</th>\n      <td>14</td>\n      <td>F ALONSO</td>\n      <td>ALO</td>\n      <td>McLaren</td>\n      <td>FF8700</td>\n      <td>Fernando</td>\n      <td>Alonso</td>\n      <td>Fernando Alonso</td>\n      <td>11.0</td>\n      <td>0.0</td>\n      <td>0 days 00:01:23.597000</td>\n      <td>0 days 00:01:23.692000</td>\n      <td>NaT</td>\n      <td>NaT</td>\n      <td></td>\n      <td>0.0</td>\n    </tr>\n    <tr>\n      <th>2</th>\n      <td>2</td>\n      <td>S VANDOORNE</td>\n      <td>VAN</td>\n      <td>McLaren</td>\n      <td>FF8700</td>\n      <td>Stoffel</td>\n      <td>Vandoorne</td>\n      <td>Stoffel Vandoorne</td>\n      <td>12.0</td>\n      <td>0.0</td>\n      <td>0 days 00:01:24.073000</td>\n      <td>0 days 00:01:23.853000</td>\n      <td>NaT</td>\n      <td>NaT</td>\n      <td></td>\n      <td>0.0</td>\n    </tr>\n    <tr>\n      <th>11</th>\n      <td>11</td>\n      <td>S PEREZ</td>\n      <td>PER</td>\n      <td>Force India</td>\n      <td>F596C8</td>\n      <td>Sergio</td>\n      <td>Perez</td>\n      <td>Sergio Perez</td>\n      <td>13.0</td>\n      <td>0.0</td>\n      <td>0 days 00:01:24.344000</td>\n      <td>0 days 00:01:24.005000</td>\n      <td>NaT</td>\n      <td>NaT</td>\n      <td></td>\n      <td>0.0</td>\n    </tr>\n    <tr>\n      <th>18</th>\n      <td>18</td>\n      <td>L STROLL</td>\n      <td>STR</td>\n      <td>Williams</td>\n      <td>FFFFFF</td>\n      <td>Lance</td>\n      <td>Stroll</td>\n      <td>Lance Stroll</td>\n      <td>14.0</td>\n      <td>0.0</td>\n      <td>0 days 00:01:24.464000</td>\n      <td>0 days 00:01:24.230000</td>\n      <td>NaT</td>\n      <td>NaT</td>\n      <td></td>\n      <td>0.0</td>\n    </tr>\n    <tr>\n      <th>31</th>\n      <td>31</td>\n      <td>E OCON</td>\n      <td>OCO</td>\n      <td>Force India</td>\n      <td>F596C8</td>\n      <td>Esteban</td>\n      <td>Ocon</td>\n      <td>Esteban Ocon</td>\n      <td>15.0</td>\n      <td>0.0</td>\n      <td>0 days 00:01:24.503000</td>\n      <td>0 days 00:01:24.786000</td>\n      <td>NaT</td>\n      <td>NaT</td>\n      <td></td>\n      <td>0.0</td>\n    </tr>\n    <tr>\n      <th>28</th>\n      <td>28</td>\n      <td>B HARTLEY</td>\n      <td>HAR</td>\n      <td>Toro Rosso</td>\n      <td>469BFF</td>\n      <td>Brendon</td>\n      <td>Hartley</td>\n      <td>Brendon Hartley</td>\n      <td>16.0</td>\n      <td>0.0</td>\n      <td>0 days 00:01:24.532000</td>\n      <td>NaT</td>\n      <td>NaT</td>\n      <td>NaT</td>\n      <td></td>\n      <td>0.0</td>\n    </tr>\n    <tr>\n      <th>9</th>\n      <td>9</td>\n      <td>M ERICSSON</td>\n      <td>ERI</td>\n      <td>Sauber</td>\n      <td>9B0000</td>\n      <td>Marcus</td>\n      <td>Ericsson</td>\n      <td>Marcus Ericsson</td>\n      <td>17.0</td>\n      <td>0.0</td>\n      <td>0 days 00:01:24.556000</td>\n      <td>NaT</td>\n      <td>NaT</td>\n      <td>NaT</td>\n      <td></td>\n      <td>0.0</td>\n    </tr>\n    <tr>\n      <th>16</th>\n      <td>16</td>\n      <td>C LECLERC</td>\n      <td>LEC</td>\n      <td>Sauber</td>\n      <td>9B0000</td>\n      <td>Charles</td>\n      <td>Leclerc</td>\n      <td>Charles Leclerc</td>\n      <td>18.0</td>\n      <td>0.0</td>\n      <td>0 days 00:01:24.636000</td>\n      <td>NaT</td>\n      <td>NaT</td>\n      <td>NaT</td>\n      <td></td>\n      <td>0.0</td>\n    </tr>\n    <tr>\n      <th>35</th>\n      <td>35</td>\n      <td>S SIROTKIN</td>\n      <td>SIR</td>\n      <td>Williams</td>\n      <td>FFFFFF</td>\n      <td>Sergey</td>\n      <td>Sirotkin</td>\n      <td>Sergey Sirotkin</td>\n      <td>19.0</td>\n      <td>0.0</td>\n      <td>0 days 00:01:24.922000</td>\n      <td>NaT</td>\n      <td>NaT</td>\n      <td>NaT</td>\n      <td></td>\n      <td>0.0</td>\n    </tr>\n    <tr>\n      <th>10</th>\n      <td>10</td>\n      <td>P GASLY</td>\n      <td>GAS</td>\n      <td>Toro Rosso</td>\n      <td>469BFF</td>\n      <td>Pierre</td>\n      <td>Gasly</td>\n      <td>Pierre Gasly</td>\n      <td>20.0</td>\n      <td>0.0</td>\n      <td>0 days 00:01:25.295000</td>\n      <td>NaT</td>\n      <td>NaT</td>\n      <td>NaT</td>\n      <td></td>\n      <td>0.0</td>\n    </tr>\n  </tbody>\n</table>\n</div>"
     },
     "execution_count": 438,
     "metadata": {},
     "output_type": "execute_result"
    }
   ],
   "source": [
    "quali"
   ],
   "metadata": {
    "collapsed": false,
    "pycharm": {
     "name": "#%%\n"
    }
   }
  },
  {
   "cell_type": "code",
   "execution_count": 3,
   "outputs": [
    {
     "name": "stderr",
     "output_type": "stream",
     "text": [
      "core           INFO \tLoading data for Australian Grand Prix - Race [v2.2.4]\n",
      "api            INFO \tUsing cached data for driver_info\n",
      "api            INFO \tUsing cached data for timing_data\n",
      "api            INFO \tUsing cached data for timing_app_data\n",
      "core           INFO \tProcessing timing data...\n",
      "api            INFO \tUsing cached data for session_status_data\n",
      "api            INFO \tUsing cached data for track_status_data\n",
      "api            INFO \tUsing cached data for car_data\n",
      "api            INFO \tNo cached data found for position_data. Loading data...\n",
      "api            INFO \tFetching position data...\n",
      "core        WARNING \tFailed to load telemetry data!\n",
      "api            INFO \tUsing cached data for weather_data\n",
      "core           INFO \tFinished loading data for 20 drivers: ['5', '44', '7', '3', '14', '33', '27', '77', '2', '55', '11', '31', '16', '18', '28', '8', '20', '10', '9', '35']\n"
     ]
    }
   ],
   "source": [
    "session.load(laps=True, telemetry=True)\n",
    "laps = session.laps\n",
    "laps['LapEndTime'] = laps['LapStartTime'] + laps['LapTime']"
   ],
   "metadata": {
    "collapsed": false,
    "pycharm": {
     "name": "#%%\n"
    }
   }
  },
  {
   "cell_type": "markdown",
   "source": [
    "Сделаем подготовку данных для просчета обгонов\n",
    "Отберем для каждого гонщика те записи, где менялся гонщик впереди, аналогичные же записи отберем для других гонщиков"
   ],
   "metadata": {
    "collapsed": false
   }
  },
  {
   "cell_type": "markdown",
   "source": [
    "<h3> Дальнейшая работа и алгоритм вычисления места обгона </h3>\n",
    "Алгоритм следующий: для каждого гонщика считается его текущая позиция в каждый момент предполагаемого обгона. Обгон засчитывается, если позиция не была возвращена до конца круга, аналогично в дальнейших версиях алгоритма стоит исключить обгоны из-за заездов на питстоп. Таким образом, алгоритм будет следующим:\n",
    "<ol style=\"color: green\">\n",
    "<li>Посчитать сетку на конец круга</li>\n",
    "<li>Найти смены позиций, если таковые были</li>\n",
    "<li>Найти где была произведена окончательная смена позиций</li>\n",
    "<li style=\"color: red\">Выделить места борьбы за место</li>\n",
    "</ol>\n",
    "\n",
    "Что считается обгоном: <a href=\"https://www.motorsport.com/f1/news/overtaking-records-in-f1-most-overtakes-in-a-race-by-a-driver/6718440/\">motorsport.com</a>\n",
    "\n",
    "Чуть более подробно по пунктам:\n",
    "Первоначальная расстановка берется исходя из квалификации ( данный момент в процессе доработки, т.к. после квалификации перед гонкой могут происходить перестановки )\n",
    "Далее алгоритм:\n",
    "1. Берется расстановка на начало круга ( конец предыдущего ) и конец круга\n",
    "2. Вычисляется массив вида: a = <a style=\"color: yellow\">[1, -1, 0, 2, 0, -2 ... ]</a>, где в каждой ячейке стоит число n - количество потерянных / выигранных позиций относительно начала круга.\n",
    "3. Находится первый отрицательный элемент в массиве, назовем его <i>x</i>, тогда предыдущие abs(<i>x</i>) элементов - гонщиков, которые пропустили нашего, у предыдущих <i>x</i> элементов вычитается по единице, сам элемент x обнуляется\n",
    "4. вычисляются <i>x</i> гонщиков впереди, далее: y - рассматриваемый обогнавший гонщик, количество возможных значений <i>y</i>: abs(<i>x</i>)\n",
    "5. ищется наименьшее время, когда для обгоняемого гонщика ( с <i>x</i> потерянных позиций ), гонщик <i>y</i> оказался впереди, берется X и Y этой позиции и записывается один обгон\n",
    "\n",
    "Пример:\n",
    "[22, 11, 10] - номера гонщиков и их расположение на начало круга\n",
    "[10, 11, 22] - номера гонщиков и их расположение на конец круга\n",
    "\n",
    "тогда нужный нам массив смены мест:\n",
    "[2, 0, -2],\n",
    "первый отрицательный элемент = -2, тогда:\n",
    "1. ищем обгон 22'ого гощника 10'ым\n",
    "2. ищем обгон 22'ого гонщика 11'ым\n",
    "\n",
    "массив смены мест после этого:\n",
    "[1, -1, 0]\n",
    "Первый отрицательный элемент = -1, тогда:\n",
    "1. ищем обгон 11'ого гонщика 10'ым\n",
    "\n",
    "<a style=\"color: grey\"> Под поиском обгона подразумевается алгоритм нахождения под пунктом 5, а именно выделение наименьшего времени</a>"
   ],
   "metadata": {
    "collapsed": false
   }
  },
  {
   "cell_type": "code",
   "execution_count": null,
   "outputs": [],
   "source": [
    "laps[((laps['PitOutTime'].notna()) | (laps['PitInTime'].notna())) & (laps['DriverNumber'] == '33')]"
   ],
   "metadata": {
    "collapsed": false,
    "pycharm": {
     "name": "#%%\n"
    }
   }
  },
  {
   "cell_type": "code",
   "execution_count": null,
   "outputs": [],
   "source": [
    "laps.pick_driver(\"44\").get_telemetry()"
   ],
   "metadata": {
    "collapsed": false,
    "pycharm": {
     "name": "#%%\n"
    }
   }
  },
  {
   "cell_type": "code",
   "execution_count": 11,
   "outputs": [],
   "source": [
    "# получение стартовой решётки из api\n",
    "def get_starting_grid(season, race):\n",
    "    race_results = requests.get(f'http://ergast.com/api/f1/{season}/{race}/results.json').json()['MRData']['RaceTable']['Races'][0]['Results']\n",
    "    race_results = pd.DataFrame.from_dict(race_results)\n",
    "    race_results = race_results[['number', 'grid']]\n",
    "    race_results['grid'] = race_results['grid'].astype(int)\n",
    "    race_results = race_results.sort_values(by=['grid'])\n",
    "    zero_positions = race_results[race_results['grid'] == 0]\n",
    "    if len(zero_positions) > 0:\n",
    "        if len(zero_positions) == 1:\n",
    "            race_results['difference'] =  race_results['grid'].diff()\n",
    "            missing_value = race_results[race_results['difference'] == 2]\n",
    "            if len(missing_value) == 1:\n",
    "                missing_value = race_results[race_results['difference'] == 2].iloc[0]['grid'] - 1\n",
    "            else:\n",
    "                missing_value = race_results['grid'].max() + 1\n",
    "            race_results.loc[race_results['grid'] == 0, 'grid'] = missing_value\n",
    "            logging.info(\"fixed missing grid place\")\n",
    "        else:\n",
    "            logging.critical(\"MORE THAN ONE MISSING STARTING GRID VALUE\")\n",
    "            race_results.loc[race_results['grid'] == 0, 'grid'] = race_results['grid'].max() + 1\n",
    "        race_results = race_results.sort_values(by=['grid'])\n",
    "    return race_results['number'].tolist()\n",
    "\n",
    "# получение решётки на конец круга\n",
    "def calculate_lap_grid(data, lap_num):\n",
    "    return data[data['LapNumber'] == lap_num].sort_values(by=['LapEndTime'])\n",
    "\n",
    "# получаем место обгона одного гонщика другим\n",
    "def get_position_of_overtake(data, overtaken_driver, driver):\n",
    "    try:\n",
    "        driver_data = data.pick_driver(overtaken_driver).get_telemetry()\n",
    "    except KeyError:\n",
    "        logging.critical(f\"unable to pick driver: {overtaken_driver}\")\n",
    "        return [None, None]\n",
    "    index = driver_data[driver_data['DriverAhead'] == driver].index.min()\n",
    "    if np.isnan(index):\n",
    "        return [None, None]\n",
    "    else:\n",
    "        driver_row = driver_data.loc[[index]].iloc[0]\n",
    "        if len(data[(data['DriverNumber'] == overtaken_driver) & (data['PitInTime'] <= driver_row['SessionTime']) & (data['PitInTime'] + pd.Timedelta(seconds=80) >= driver_row['SessionTime'])]) == 0:\n",
    "            return [driver_row['X'], driver_row['Y']]\n",
    "        else:\n",
    "            logging.info(\"Overtake during pit\")\n",
    "            return [None, None]\n",
    "\n",
    "# нахождение и обработка обгона гонщика\n",
    "def find_and_process_overtake(grid_to_process, data, lap_number):\n",
    "    if len(grid_to_process) == 0:\n",
    "        return []\n",
    "    overtaken_driver = grid_to_process[-1]\n",
    "    lap_data = data[data['LapNumber'] == lap_number]\n",
    "    overtakes = []\n",
    "    for driver in grid_to_process[:-1]:\n",
    "        x, y = get_position_of_overtake(lap_data, overtaken_driver, driver)\n",
    "        if x is not None:\n",
    "            overtakes.append([x, y])\n",
    "    return overtakes\n",
    "\n",
    "# подсчет обгонов\n",
    "def calculate_overtakes_for_lap(grid_to_process, difference_in_grid, data, lap_number):\n",
    "    overtakes_to_find = []\n",
    "    i = 0\n",
    "    while i < len(difference_in_grid):\n",
    "        if difference_in_grid[i] < 0:\n",
    "            overtakes_to_find += (find_and_process_overtake(grid_to_process[i + difference_in_grid[i]:i + 1], data, lap_number))\n",
    "            difference_in_grid[i + difference_in_grid[i]:i] += np.full(len(difference_in_grid[i + difference_in_grid[i]:i]), -1)\n",
    "            difference_in_grid[i] = 0\n",
    "            difference_in_grid = np.array(list(difference_in_grid[:i + difference_in_grid[i]]) + list(difference_in_grid[i + difference_in_grid[i]:i]) + list(difference_in_grid[i:]))\n",
    "            i += difference_in_grid[i] - 1\n",
    "        i += 1\n",
    "    return overtakes_to_find"
   ],
   "metadata": {
    "collapsed": false,
    "pycharm": {
     "name": "#%%\n"
    }
   }
  },
  {
   "cell_type": "code",
   "execution_count": 9,
   "outputs": [],
   "source": [
    "def calculate_overtakes_during_race(laps, season, race):\n",
    "    previous_grid = get_starting_grid(season, race)\n",
    "    overtakes = []\n",
    "    for i in range(1, int(laps['LapNumber'].max()) + 1):\n",
    "        transition_grid = dict(zip(previous_grid, np.arange(1, len(previous_grid) + 1)))\n",
    "        current_grid = calculate_lap_grid(laps, i)['DriverNumber'].to_list()\n",
    "        previous_grid = current_grid\n",
    "        current_grid = np.array([transition_grid[driver] for driver in current_grid])\n",
    "        difference = current_grid - np.array(sorted(current_grid))\n",
    "        overtakes += calculate_overtakes_for_lap(previous_grid, difference, laps, i)\n",
    "    return overtakes\n",
    "\n",
    "# overtakes = calculate_overtakes_during_race(laps, selected_season, selected_race)"
   ],
   "metadata": {
    "collapsed": false,
    "pycharm": {
     "name": "#%%\n"
    }
   }
  },
  {
   "cell_type": "markdown",
   "source": [
    "## Посмотрим на визуализацию мест обгонов на одной конкретной трассе.\n",
    " <i style=\"color: #ff2800\"> небольшое уточнение, все координаты представлены в 1/10 метра, мы разделим всю трассу на зоны"
   ],
   "metadata": {
    "collapsed": false
   }
  },
  {
   "cell_type": "code",
   "execution_count": 6,
   "outputs": [],
   "source": [
    "x_size_of_sector = 50\n",
    "y_size_of_sector = 50"
   ],
   "metadata": {
    "collapsed": false,
    "pycharm": {
     "name": "#%%\n"
    }
   }
  },
  {
   "cell_type": "markdown",
   "source": [
    "<h2> Давайте создадим нашу трассу </h2>"
   ],
   "metadata": {
    "collapsed": false
   }
  },
  {
   "cell_type": "code",
   "execution_count": 10,
   "outputs": [
    {
     "ename": "NameError",
     "evalue": "name 'laps' is not defined",
     "output_type": "error",
     "traceback": [
      "\u001B[0;31m---------------------------------------------------------------------------\u001B[0m",
      "\u001B[0;31mNameError\u001B[0m                                 Traceback (most recent call last)",
      "\u001B[0;32m<ipython-input-10-e71b68da38d6>\u001B[0m in \u001B[0;36m<module>\u001B[0;34m\u001B[0m\n\u001B[1;32m     23\u001B[0m     \u001B[0;32mreturn\u001B[0m \u001B[0movertakes_to_display\u001B[0m\u001B[0;34m,\u001B[0m \u001B[0msegments\u001B[0m\u001B[0;34m\u001B[0m\u001B[0;34m\u001B[0m\u001B[0m\n\u001B[1;32m     24\u001B[0m \u001B[0;34m\u001B[0m\u001B[0m\n\u001B[0;32m---> 25\u001B[0;31m \u001B[0movertakes_to_display\u001B[0m\u001B[0;34m,\u001B[0m \u001B[0msegments\u001B[0m \u001B[0;34m=\u001B[0m \u001B[0mprepare_overtakes_to_display\u001B[0m\u001B[0;34m(\u001B[0m\u001B[0mlaps\u001B[0m\u001B[0;34m)\u001B[0m\u001B[0;34m\u001B[0m\u001B[0;34m\u001B[0m\u001B[0m\n\u001B[0m",
      "\u001B[0;31mNameError\u001B[0m: name 'laps' is not defined"
     ]
    }
   ],
   "source": [
    "def num_of_overtakes_in_segment(point, overtakes_df):\n",
    "    return len(overtakes_df[(overtakes_df['X'] == math.floor(point['X'] // 10  // x_size_of_sector)) & (overtakes_df['Y'] == math.floor(point['Y'] // 10 // y_size_of_sector))])\n",
    "\n",
    "def prepare_overtakes_to_display(laps):\n",
    "    lap = laps.pick_fastest()\n",
    "    try:\n",
    "        tel = lap.get_telemetry()\n",
    "    except KeyError as e:\n",
    "        logging.critical(f'{e}, please select another season or race')\n",
    "        return None, None\n",
    "\n",
    "    x = np.array(tel['X'].values)\n",
    "    y = np.array(tel['Y'].values)\n",
    "\n",
    "    overtakes_to_display = pd.DataFrame({\"X\": x, \"Y\": y})\n",
    "    overtakes_to_process = pd.DataFrame({\"X\": [x[0] for x in overtakes], \"Y\": [x[1] for x in overtakes]})\n",
    "    overtakes_to_process['X'] = overtakes_to_process['X'].apply(lambda i: math.floor(i // 10  // x_size_of_sector))\n",
    "    overtakes_to_process['Y'] = overtakes_to_process['Y'].apply(lambda i: math.floor(i // 10  // x_size_of_sector))\n",
    "    overtakes_to_display['nOvertakes'] = overtakes_to_display.apply(lambda i: num_of_overtakes_in_segment(i, overtakes_to_process), axis=1)\n",
    "\n",
    "    points = np.array([x, y]).T.reshape(-1, 1, 2)\n",
    "    segments = np.concatenate([points[:-1], points[1:]], axis=1)\n",
    "    return overtakes_to_display, segments\n",
    "\n",
    "overtakes_to_display, segments = prepare_overtakes_to_display(laps)"
   ],
   "metadata": {
    "collapsed": false,
    "pycharm": {
     "name": "#%%\n"
    }
   }
  },
  {
   "cell_type": "code",
   "execution_count": 10,
   "outputs": [
    {
     "ename": "ValueError",
     "evalue": "figure size must be positive finite not (nan, 10)",
     "output_type": "error",
     "traceback": [
      "\u001B[0;31m---------------------------------------------------------------------------\u001B[0m",
      "\u001B[0;31mValueError\u001B[0m                                Traceback (most recent call last)",
      "\u001B[0;32m<ipython-input-10-cef9ea42c749>\u001B[0m in \u001B[0;36m<module>\u001B[0;34m\u001B[0m\n\u001B[1;32m      8\u001B[0m \u001B[0mmin_y\u001B[0m \u001B[0;34m=\u001B[0m \u001B[0movertakes_to_display\u001B[0m\u001B[0;34m[\u001B[0m\u001B[0;34m'Y'\u001B[0m\u001B[0;34m]\u001B[0m\u001B[0;34m.\u001B[0m\u001B[0mmin\u001B[0m\u001B[0;34m(\u001B[0m\u001B[0;34m)\u001B[0m \u001B[0;34m-\u001B[0m \u001B[0;36m500\u001B[0m\u001B[0;34m\u001B[0m\u001B[0;34m\u001B[0m\u001B[0m\n\u001B[1;32m      9\u001B[0m \u001B[0;34m\u001B[0m\u001B[0m\n\u001B[0;32m---> 10\u001B[0;31m \u001B[0mfig\u001B[0m\u001B[0;34m,\u001B[0m\u001B[0max\u001B[0m \u001B[0;34m=\u001B[0m \u001B[0mplt\u001B[0m\u001B[0;34m.\u001B[0m\u001B[0msubplots\u001B[0m\u001B[0;34m(\u001B[0m\u001B[0mfigsize\u001B[0m\u001B[0;34m=\u001B[0m\u001B[0;34m(\u001B[0m\u001B[0;36m10\u001B[0m \u001B[0;34m*\u001B[0m \u001B[0;34m(\u001B[0m\u001B[0mmax_x\u001B[0m \u001B[0;34m+\u001B[0m \u001B[0mabs\u001B[0m\u001B[0;34m(\u001B[0m\u001B[0mmin_x\u001B[0m\u001B[0;34m)\u001B[0m\u001B[0;34m)\u001B[0m \u001B[0;34m/\u001B[0m \u001B[0;34m(\u001B[0m\u001B[0mmax_y\u001B[0m \u001B[0;34m+\u001B[0m \u001B[0mabs\u001B[0m\u001B[0;34m(\u001B[0m\u001B[0mmin_y\u001B[0m\u001B[0;34m)\u001B[0m\u001B[0;34m)\u001B[0m\u001B[0;34m,\u001B[0m \u001B[0;36m10\u001B[0m\u001B[0;34m)\u001B[0m\u001B[0;34m,\u001B[0m \u001B[0mdpi\u001B[0m\u001B[0;34m=\u001B[0m\u001B[0;36m80\u001B[0m\u001B[0;34m)\u001B[0m\u001B[0;34m\u001B[0m\u001B[0;34m\u001B[0m\u001B[0m\n\u001B[0m\u001B[1;32m     11\u001B[0m \u001B[0;34m\u001B[0m\u001B[0m\n\u001B[1;32m     12\u001B[0m \u001B[0movertake\u001B[0m \u001B[0;34m=\u001B[0m \u001B[0movertakes_to_display\u001B[0m\u001B[0;34m[\u001B[0m\u001B[0;34m'nOvertakes'\u001B[0m\u001B[0;34m]\u001B[0m\u001B[0;34m.\u001B[0m\u001B[0mto_numpy\u001B[0m\u001B[0;34m(\u001B[0m\u001B[0;34m)\u001B[0m\u001B[0;34m.\u001B[0m\u001B[0mastype\u001B[0m\u001B[0;34m(\u001B[0m\u001B[0mfloat\u001B[0m\u001B[0;34m)\u001B[0m\u001B[0;34m\u001B[0m\u001B[0;34m\u001B[0m\u001B[0m\n",
      "\u001B[0;32m~/opt/anaconda3/lib/python3.8/site-packages/matplotlib/cbook/deprecation.py\u001B[0m in \u001B[0;36mwrapper\u001B[0;34m(*args, **kwargs)\u001B[0m\n\u001B[1;32m    449\u001B[0m                 \u001B[0;34m\"parameter will become keyword-only %(removal)s.\"\u001B[0m\u001B[0;34m,\u001B[0m\u001B[0;34m\u001B[0m\u001B[0;34m\u001B[0m\u001B[0m\n\u001B[1;32m    450\u001B[0m                 name=name, obj_type=f\"parameter of {func.__name__}()\")\n\u001B[0;32m--> 451\u001B[0;31m         \u001B[0;32mreturn\u001B[0m \u001B[0mfunc\u001B[0m\u001B[0;34m(\u001B[0m\u001B[0;34m*\u001B[0m\u001B[0margs\u001B[0m\u001B[0;34m,\u001B[0m \u001B[0;34m**\u001B[0m\u001B[0mkwargs\u001B[0m\u001B[0;34m)\u001B[0m\u001B[0;34m\u001B[0m\u001B[0;34m\u001B[0m\u001B[0m\n\u001B[0m\u001B[1;32m    452\u001B[0m \u001B[0;34m\u001B[0m\u001B[0m\n\u001B[1;32m    453\u001B[0m     \u001B[0;32mreturn\u001B[0m \u001B[0mwrapper\u001B[0m\u001B[0;34m\u001B[0m\u001B[0;34m\u001B[0m\u001B[0m\n",
      "\u001B[0;32m~/opt/anaconda3/lib/python3.8/site-packages/matplotlib/pyplot.py\u001B[0m in \u001B[0;36msubplots\u001B[0;34m(nrows, ncols, sharex, sharey, squeeze, subplot_kw, gridspec_kw, **fig_kw)\u001B[0m\n\u001B[1;32m   1285\u001B[0m \u001B[0;34m\u001B[0m\u001B[0m\n\u001B[1;32m   1286\u001B[0m     \"\"\"\n\u001B[0;32m-> 1287\u001B[0;31m     \u001B[0mfig\u001B[0m \u001B[0;34m=\u001B[0m \u001B[0mfigure\u001B[0m\u001B[0;34m(\u001B[0m\u001B[0;34m**\u001B[0m\u001B[0mfig_kw\u001B[0m\u001B[0;34m)\u001B[0m\u001B[0;34m\u001B[0m\u001B[0;34m\u001B[0m\u001B[0m\n\u001B[0m\u001B[1;32m   1288\u001B[0m     axs = fig.subplots(nrows=nrows, ncols=ncols, sharex=sharex, sharey=sharey,\n\u001B[1;32m   1289\u001B[0m                        \u001B[0msqueeze\u001B[0m\u001B[0;34m=\u001B[0m\u001B[0msqueeze\u001B[0m\u001B[0;34m,\u001B[0m \u001B[0msubplot_kw\u001B[0m\u001B[0;34m=\u001B[0m\u001B[0msubplot_kw\u001B[0m\u001B[0;34m,\u001B[0m\u001B[0;34m\u001B[0m\u001B[0;34m\u001B[0m\u001B[0m\n",
      "\u001B[0;32m~/opt/anaconda3/lib/python3.8/site-packages/matplotlib/pyplot.py\u001B[0m in \u001B[0;36mfigure\u001B[0;34m(num, figsize, dpi, facecolor, edgecolor, frameon, FigureClass, clear, **kwargs)\u001B[0m\n\u001B[1;32m    685\u001B[0m             \u001B[0mdpi\u001B[0m \u001B[0;34m=\u001B[0m \u001B[0;36m72\u001B[0m\u001B[0;34m\u001B[0m\u001B[0;34m\u001B[0m\u001B[0m\n\u001B[1;32m    686\u001B[0m \u001B[0;34m\u001B[0m\u001B[0m\n\u001B[0;32m--> 687\u001B[0;31m         figManager = new_figure_manager(num, figsize=figsize,\n\u001B[0m\u001B[1;32m    688\u001B[0m                                         \u001B[0mdpi\u001B[0m\u001B[0;34m=\u001B[0m\u001B[0mdpi\u001B[0m\u001B[0;34m,\u001B[0m\u001B[0;34m\u001B[0m\u001B[0;34m\u001B[0m\u001B[0m\n\u001B[1;32m    689\u001B[0m                                         \u001B[0mfacecolor\u001B[0m\u001B[0;34m=\u001B[0m\u001B[0mfacecolor\u001B[0m\u001B[0;34m,\u001B[0m\u001B[0;34m\u001B[0m\u001B[0;34m\u001B[0m\u001B[0m\n",
      "\u001B[0;32m~/opt/anaconda3/lib/python3.8/site-packages/matplotlib/pyplot.py\u001B[0m in \u001B[0;36mnew_figure_manager\u001B[0;34m(*args, **kwargs)\u001B[0m\n\u001B[1;32m    313\u001B[0m     \u001B[0;34m\"\"\"Create a new figure manager instance.\"\"\"\u001B[0m\u001B[0;34m\u001B[0m\u001B[0;34m\u001B[0m\u001B[0m\n\u001B[1;32m    314\u001B[0m     \u001B[0m_warn_if_gui_out_of_main_thread\u001B[0m\u001B[0;34m(\u001B[0m\u001B[0;34m)\u001B[0m\u001B[0;34m\u001B[0m\u001B[0;34m\u001B[0m\u001B[0m\n\u001B[0;32m--> 315\u001B[0;31m     \u001B[0;32mreturn\u001B[0m \u001B[0m_backend_mod\u001B[0m\u001B[0;34m.\u001B[0m\u001B[0mnew_figure_manager\u001B[0m\u001B[0;34m(\u001B[0m\u001B[0;34m*\u001B[0m\u001B[0margs\u001B[0m\u001B[0;34m,\u001B[0m \u001B[0;34m**\u001B[0m\u001B[0mkwargs\u001B[0m\u001B[0;34m)\u001B[0m\u001B[0;34m\u001B[0m\u001B[0;34m\u001B[0m\u001B[0m\n\u001B[0m\u001B[1;32m    316\u001B[0m \u001B[0;34m\u001B[0m\u001B[0m\n\u001B[1;32m    317\u001B[0m \u001B[0;34m\u001B[0m\u001B[0m\n",
      "\u001B[0;32m~/opt/anaconda3/lib/python3.8/site-packages/matplotlib/backend_bases.py\u001B[0m in \u001B[0;36mnew_figure_manager\u001B[0;34m(cls, num, *args, **kwargs)\u001B[0m\n\u001B[1;32m   3491\u001B[0m         \u001B[0;32mfrom\u001B[0m \u001B[0mmatplotlib\u001B[0m\u001B[0;34m.\u001B[0m\u001B[0mfigure\u001B[0m \u001B[0;32mimport\u001B[0m \u001B[0mFigure\u001B[0m\u001B[0;34m\u001B[0m\u001B[0;34m\u001B[0m\u001B[0m\n\u001B[1;32m   3492\u001B[0m         \u001B[0mfig_cls\u001B[0m \u001B[0;34m=\u001B[0m \u001B[0mkwargs\u001B[0m\u001B[0;34m.\u001B[0m\u001B[0mpop\u001B[0m\u001B[0;34m(\u001B[0m\u001B[0;34m'FigureClass'\u001B[0m\u001B[0;34m,\u001B[0m \u001B[0mFigure\u001B[0m\u001B[0;34m)\u001B[0m\u001B[0;34m\u001B[0m\u001B[0;34m\u001B[0m\u001B[0m\n\u001B[0;32m-> 3493\u001B[0;31m         \u001B[0mfig\u001B[0m \u001B[0;34m=\u001B[0m \u001B[0mfig_cls\u001B[0m\u001B[0;34m(\u001B[0m\u001B[0;34m*\u001B[0m\u001B[0margs\u001B[0m\u001B[0;34m,\u001B[0m \u001B[0;34m**\u001B[0m\u001B[0mkwargs\u001B[0m\u001B[0;34m)\u001B[0m\u001B[0;34m\u001B[0m\u001B[0;34m\u001B[0m\u001B[0m\n\u001B[0m\u001B[1;32m   3494\u001B[0m         \u001B[0;32mreturn\u001B[0m \u001B[0mcls\u001B[0m\u001B[0;34m.\u001B[0m\u001B[0mnew_figure_manager_given_figure\u001B[0m\u001B[0;34m(\u001B[0m\u001B[0mnum\u001B[0m\u001B[0;34m,\u001B[0m \u001B[0mfig\u001B[0m\u001B[0;34m)\u001B[0m\u001B[0;34m\u001B[0m\u001B[0;34m\u001B[0m\u001B[0m\n\u001B[1;32m   3495\u001B[0m \u001B[0;34m\u001B[0m\u001B[0m\n",
      "\u001B[0;32m~/opt/anaconda3/lib/python3.8/site-packages/matplotlib/figure.py\u001B[0m in \u001B[0;36m__init__\u001B[0;34m(self, figsize, dpi, facecolor, edgecolor, linewidth, frameon, subplotpars, tight_layout, constrained_layout)\u001B[0m\n\u001B[1;32m    320\u001B[0m \u001B[0;34m\u001B[0m\u001B[0m\n\u001B[1;32m    321\u001B[0m         \u001B[0;32mif\u001B[0m \u001B[0;32mnot\u001B[0m \u001B[0mnp\u001B[0m\u001B[0;34m.\u001B[0m\u001B[0misfinite\u001B[0m\u001B[0;34m(\u001B[0m\u001B[0mfigsize\u001B[0m\u001B[0;34m)\u001B[0m\u001B[0;34m.\u001B[0m\u001B[0mall\u001B[0m\u001B[0;34m(\u001B[0m\u001B[0;34m)\u001B[0m \u001B[0;32mor\u001B[0m \u001B[0;34m(\u001B[0m\u001B[0mnp\u001B[0m\u001B[0;34m.\u001B[0m\u001B[0marray\u001B[0m\u001B[0;34m(\u001B[0m\u001B[0mfigsize\u001B[0m\u001B[0;34m)\u001B[0m \u001B[0;34m<\u001B[0m \u001B[0;36m0\u001B[0m\u001B[0;34m)\u001B[0m\u001B[0;34m.\u001B[0m\u001B[0many\u001B[0m\u001B[0;34m(\u001B[0m\u001B[0;34m)\u001B[0m\u001B[0;34m:\u001B[0m\u001B[0;34m\u001B[0m\u001B[0;34m\u001B[0m\u001B[0m\n\u001B[0;32m--> 322\u001B[0;31m             raise ValueError('figure size must be positive finite not '\n\u001B[0m\u001B[1;32m    323\u001B[0m                              f'{figsize}')\n\u001B[1;32m    324\u001B[0m         \u001B[0mself\u001B[0m\u001B[0;34m.\u001B[0m\u001B[0mbbox_inches\u001B[0m \u001B[0;34m=\u001B[0m \u001B[0mBbox\u001B[0m\u001B[0;34m.\u001B[0m\u001B[0mfrom_bounds\u001B[0m\u001B[0;34m(\u001B[0m\u001B[0;36m0\u001B[0m\u001B[0;34m,\u001B[0m \u001B[0;36m0\u001B[0m\u001B[0;34m,\u001B[0m \u001B[0;34m*\u001B[0m\u001B[0mfigsize\u001B[0m\u001B[0;34m)\u001B[0m\u001B[0;34m\u001B[0m\u001B[0;34m\u001B[0m\u001B[0m\n",
      "\u001B[0;31mValueError\u001B[0m: figure size must be positive finite not (nan, 10)"
     ]
    }
   ],
   "source": [
    "from matplotlib.collections import LineCollection\n",
    "from matplotlib import cm\n",
    "import matplotlib.pyplot as plt\n",
    "\n",
    "max_x = overtakes_to_display['X'].max() + 500\n",
    "min_x = overtakes_to_display['X'].min() - 500\n",
    "max_y = overtakes_to_display['Y'].max() + 500\n",
    "min_y = overtakes_to_display['Y'].min() - 500\n",
    "\n",
    "fig,ax = plt.subplots(figsize=(10 * (max_x + abs(min_x)) / (max_y + abs(min_y)), 10), dpi=80)\n",
    "\n",
    "overtake = overtakes_to_display['nOvertakes'].to_numpy().astype(float)\n",
    "\n",
    "cmap = cm.get_cmap('Paired')\n",
    "lc_comp = LineCollection(segments, norm=plt.Normalize(1, cmap.N+1), cmap=cmap)\n",
    "lc_comp.set_array(overtake)\n",
    "lc_comp.set_linewidth(4)\n",
    "ax.add_collection(lc_comp)\n",
    "\n",
    "major_ticks_x = np.arange(min_x, max_x, 10 * x_size_of_sector)\n",
    "minor_ticks_x = np.arange(min_x, max_x, x_size_of_sector)\n",
    "\n",
    "major_ticks_y = np.arange(min_y, max_y, 10 * y_size_of_sector)\n",
    "minor_ticks_y = np.arange(min_y, max_y, y_size_of_sector)\n",
    "\n",
    "ax.set_xticks(major_ticks_x)\n",
    "ax.set_xticks(minor_ticks_x, minor=True)\n",
    "ax.set_yticks(major_ticks_y)\n",
    "ax.set_yticks(minor_ticks_y, minor=True)\n",
    "plt.grid()\n",
    "plt.xticks(rotation=90)\n",
    "plt.show()"
   ],
   "metadata": {
    "collapsed": false,
    "pycharm": {
     "name": "#%%\n"
    }
   }
  },
  {
   "cell_type": "markdown",
   "source": [
    "<a id=\"tracks\"> Попробуем получить настоящие данные трасс ( увы, дальнейшее использование невозможно т.к. датасет не содержит все нужные треки, но он достоин упомянания: </a>\n",
    "<a href=\"https://github.com/TUMFTM/racetrack-database\"> github.com </a>"
   ],
   "metadata": {
    "collapsed": false
   }
  },
  {
   "cell_type": "code",
   "execution_count": 43,
   "outputs": [],
   "source": [
    "map_data = pd.read_csv(\"Monza.csv\")\n",
    "map_data.rename(columns={\"# x_m\": \"x_m\"}, inplace=True)"
   ],
   "metadata": {
    "collapsed": false,
    "pycharm": {
     "name": "#%%\n"
    }
   }
  },
  {
   "cell_type": "code",
   "execution_count": 44,
   "outputs": [
    {
     "name": "stderr",
     "output_type": "stream",
     "text": [
      "<ipython-input-44-63169f991a4a>:10: UserWarning: Matplotlib is currently using module://ipykernel.pylab.backend_inline, which is a non-GUI backend, so cannot show the figure.\n",
      "  fig.show()\n"
     ]
    },
    {
     "data": {
      "text/plain": "<Figure size 720x720 with 1 Axes>",
      "image/png": "[encoded data removed]"
     },
     "metadata": {
      "needs_background": "light"
     },
     "output_type": "display_data"
    }
   ],
   "source": [
    "x = map_data['x_m']\n",
    "y = map_data['y_m']\n",
    "points = np.array([x, y]).T.reshape(-1, 1, 2)\n",
    "segments = np.concatenate([points[:-1], points[1:]], axis=1)\n",
    "lc = LineCollection(segments, linewidths=map_data['w_tr_left_m'] + map_data['w_tr_right_m'], color='red')\n",
    "fig, a = plt.subplots(figsize=[10, 10])\n",
    "a.add_collection(lc)\n",
    "a.set_xlim(x.min() - 10, x.max() + 10)\n",
    "a.set_ylim(y.min() - 10, y.max() + 10)\n",
    "fig.show()"
   ],
   "metadata": {
    "collapsed": false,
    "pycharm": {
     "name": "#%%\n"
    }
   }
  },
  {
   "cell_type": "markdown",
   "source": [],
   "metadata": {
    "collapsed": false
   }
  },
  {
   "cell_type": "markdown",
   "source": [
    "<h3 id='overtakes_all'> Просчет обгонов на конец сектора исходя из данных по началу </h3>\n",
    "<h4> Алгоритм получения данных описан в файле process_race.py и включает в себя скрипт обработки гонки </h4>\n",
    "Предполагаемое описание алгоритма:\n",
    "<ol style=\"color: red\">\n",
    "<li>Выделить только первые записи для каждого сектора</li>\n",
    "<li>Посчитать была ли смена позиций в конце сектора</li>\n",
    "<li>Добавить среднюю скорость на секторе, скорость автомобиля впереди, среднее кол-во обгонов на секторе за круг</li>\n",
    "</ol>\n",
    "\n",
    "Что важно отметить:\n",
    "Мы уберем упомянание команды и гонщика из выборки, вот по каким причинам: из года в год значимость команды меняется, то, что мерседес доминировали в 2019 году не дает никаких гарантий на последующие гонки. Введём альтернативу: позиция команды в кубке конструкторов и позиция гонщика в общем зачете на данный момент"
   ],
   "metadata": {
    "collapsed": false
   }
  },
  {
   "cell_type": "markdown",
   "source": [
    "Нами был сформирован достаточно обширный датасет хранящий в себе данный о гонщике и данные о гонщике впереди, мы попытаемся предсказать был ли обгон в конце сектора по началу сектора"
   ],
   "metadata": {
    "collapsed": false,
    "pycharm": {
     "name": "#%% md\n"
    }
   }
  },
  {
   "cell_type": "code",
   "execution_count": 61,
   "outputs": [],
   "source": [
    "from sklearn.ensemble import RandomForestClassifier\n",
    "from sklearn.model_selection import train_test_split\n",
    "from sklearn.metrics import f1_score, roc_auc_score, precision_score, recall_score, precision_recall_curve, accuracy_score"
   ],
   "metadata": {
    "collapsed": false,
    "pycharm": {
     "name": "#%%\n"
    }
   }
  },
  {
   "cell_type": "code",
   "execution_count": 10,
   "outputs": [],
   "source": [
    "data = pd.read_csv(\"complete_df_2021_1.csv\")\n",
    "data = data.append(pd.read_csv(\"complete_df_2021_2.csv\"))\n",
    "data = data.append(pd.read_csv(\"complete_df_2021_3.csv\"))\n",
    "data = data.append(pd.read_csv(\"complete_df_2021_4.csv\"))\n",
    "data = data.append(pd.read_csv(\"complete_df_2021_5.csv\"))\n",
    "data.drop(columns=['Unnamed: 0', 'Unnamed: 0.1'], inplace=True)\n",
    "X = data.drop(columns=['Overtake', 'Status', 'SessionTime', 'Date', 'Source', 'Time'])\n",
    "y = data['Overtake']\n",
    "\n",
    "X_train, X_test, y_train, y_test = train_test_split(X, y, test_size=0.3)"
   ],
   "metadata": {
    "collapsed": false,
    "pycharm": {
     "name": "#%%\n"
    }
   }
  },
  {
   "cell_type": "code",
   "execution_count": 88,
   "outputs": [],
   "source": [
    "from sklearn.model_selection import RandomizedSearchCV\n",
    "\n",
    "def search_best_params(X_df, y_df):\n",
    "    n_estimators = [int(x) for x in np.linspace(start = 200, stop = 2000, num = 10)]\n",
    "    max_features = ['auto', 'sqrt']\n",
    "\n",
    "    max_depth = [int(x) for x in np.linspace(10, 110, num = 11)]\n",
    "    max_depth.append(None)\n",
    "\n",
    "    min_samples_split = [2, 5, 10]\n",
    "    min_samples_leaf = [1, 2, 4]\n",
    "    bootstrap = [True, False]\n",
    "    random_grid = {'n_estimators': n_estimators,\n",
    "                   'max_features': max_features,\n",
    "                   'max_depth': max_depth,\n",
    "                   'min_samples_split': min_samples_split,\n",
    "                   'min_samples_leaf': min_samples_leaf,\n",
    "                   'bootstrap': bootstrap}\n",
    "    rf = RandomForestClassifier()\n",
    "    rf_random = RandomizedSearchCV(estimator = rf, param_distributions = random_grid, scoring='precision', cv = 5, n_iter=400, verbose=2, random_state=50, n_jobs = -1)\n",
    "    rf_random.fit(X_df, y_df)\n",
    "    return rf_random"
   ],
   "metadata": {
    "collapsed": false,
    "pycharm": {
     "name": "#%%\n"
    }
   }
  },
  {
   "cell_type": "code",
   "execution_count": 47,
   "outputs": [
    {
     "name": "stdout",
     "output_type": "stream",
     "text": [
      "0.8411552346570397 0.9662616114707094 0.758957654723127 0.9433198380566802 (array([0.03478383, 0.75895765, 1.        ]), array([1.        , 0.94331984, 0.        ]), array([0., 1.]))\n"
     ]
    }
   ],
   "source": [
    "clf = RandomForestClassifier(n_estimators= 800, min_samples_split= 2, min_samples_leaf = 1, max_features='auto',max_depth=100, bootstrap= True)\n",
    "clf.fit(X_train, y_train)\n",
    "y_pred = clf.predict(X_test)\n",
    "\n",
    "print(f1_score(y_pred, y_test), roc_auc_score(y_pred, y_test), precision_score(y_pred, y_test), recall_score(y_pred, y_test), precision_recall_curve(y_pred, y_test))"
   ],
   "metadata": {
    "collapsed": false,
    "pycharm": {
     "name": "#%%\n"
    }
   }
  },
  {
   "cell_type": "markdown",
   "source": [
    "Общая идея алгоритма: мы предсказываем вероятность обгона на каждом отдельном участке, если вероятность обгона выросла -> мы даем гонщику очки, если вероятность понизилась - забираем. Если гонщик совершил обгон - добавляем 1 - вероятность обгона, если гонщика обогнали, то из его очков вычитаем 1 - вероятность обгона, назовем этот параметр adv: attack-defence value. Аналогично, в дальнейшем планируется добавить возможность оценивать атаку и оборону отдельно.\n",
    "В дальнейшем планируется комплексно оценивать и другие действия пилотов.\n",
    "\n",
    "reference model: <a href=\"https://statsbomb.com/articles/soccer/introducing-on-ball-value-obv/\"> statsbomb obv </a>"
   ],
   "metadata": {
    "collapsed": false
   }
  },
  {
   "cell_type": "code",
   "execution_count": 48,
   "outputs": [],
   "source": [
    "y_proba = clf.predict_proba(X)\n",
    "X['probability_of_overtake'] = y_proba[:, 1]\n",
    "X['points_gained'] = np.zeros(len(X))"
   ],
   "metadata": {
    "collapsed": false,
    "pycharm": {
     "name": "#%%\n"
    }
   }
  },
  {
   "cell_type": "code",
   "execution_count": 49,
   "outputs": [],
   "source": [
    "for driver in X['DriverNumber'].unique():\n",
    "    driver_df = X[X['DriverNumber'] == driver].copy()\n",
    "    driver_df['points_gained'] = driver_df['probability_of_overtake'].diff()\n",
    "    X.loc[X['DriverNumber'] == driver, 'points_gained'] = driver_df['points_gained']\n",
    "\n",
    "X['points_gained'] = X['points_gained'].fillna(0)"
   ],
   "metadata": {
    "collapsed": false,
    "pycharm": {
     "name": "#%%\n"
    }
   }
  },
  {
   "cell_type": "markdown",
   "source": [
    "На данном этапе мы имеем датафрейм,который содержит подробную информацию о кругах, которые гонщик совершил в квалификации, теперь давайте сформируем данные, которые мы будем анализировать, а именно - результаты квалификации. Мы хотим добавить следующие параметры:\n",
    "- adv гонщика на данной трассе за все время\n",
    "- adv гонщика в сезоне\n",
    "- является ли гонка домашней\n",
    "- положение гонщика в общем зачете\n",
    "- положение команды в общем зачете\n",
    "- погода\n",
    "- перцентиль гонщика по очкам\n",
    "- перцентиль команды по очкам\n",
    "и др."
   ],
   "metadata": {
    "collapsed": false
   }
  },
  {
   "cell_type": "markdown",
   "source": [
    "<h3 id=\"predictor\">Предскажем результат гонки по результату квалификации без использования метрики</h3>"
   ],
   "metadata": {
    "collapsed": false
   }
  },
  {
   "cell_type": "markdown",
   "source": [
    "Для начала получим национальности гонщиков и команд. Это может быть важно, так как когда мы говорим о спорте нельзя не учитывать психологический эффект"
   ],
   "metadata": {
    "collapsed": false
   }
  },
  {
   "cell_type": "code",
   "execution_count": 2,
   "outputs": [],
   "source": [
    "# данные о круге\n",
    "def get_circuit(season, race):\n",
    "    request = requests.get(f'http://ergast.com/api/f1/{season}/{race}/circuits.json').json()['MRData']['CircuitTable']['Circuits'][0]\n",
    "    return {\"country\": request['Location']['country'], \"circuit_name\": request['circuitName']}"
   ],
   "metadata": {
    "collapsed": false,
    "pycharm": {
     "name": "#%%\n"
    }
   }
  },
  {
   "cell_type": "code",
   "execution_count": 138,
   "outputs": [],
   "source": [
    "# очки гонщика\n",
    "def get_driver_points(race_results, driver):\n",
    "    try:\n",
    "        return race_results.loc[driver['name']]['points']\n",
    "    except KeyError:\n",
    "        return 0\n",
    "\n",
    "# \"stantings\" гонщиков и команд на опеределенную гонку\n",
    "def get_standings(season, race,  drivers, constructors):\n",
    "    constructors_standings = pd.DataFrame({\n",
    "        'name': constructors.index,\n",
    "        'points': np.zeros(len(constructors)),\n",
    "    })\n",
    "    drivers_standings = pd.DataFrame({\n",
    "        'name': drivers.index,\n",
    "        'points': np.zeros(len(drivers)),\n",
    "    })\n",
    "    for r in range(1, race):\n",
    "        while True:\n",
    "            try:\n",
    "                race_results = requests.get(f'http://ergast.com/api/f1/{season}/{r}/results.json').json()['MRData']['RaceTable']['Races'][0]['Results']\n",
    "                break\n",
    "            except Exception as e:\n",
    "                logging.error(e)\n",
    "\n",
    "        race_results = pd.DataFrame.from_dict(race_results)\n",
    "        if 'FastestLap' in race_results.columns:\n",
    "            race_results.drop(columns=['FastestLap'], inplace=True)\n",
    "        race_results['constructor'] = race_results['Constructor'].apply(lambda constructor: constructor['name'])\n",
    "        race_results['driverCode'] = race_results['Driver'].apply(lambda driver: driver['code'])\n",
    "        race_results.drop(columns=['Constructor', 'Time', 'status', 'laps', 'positionText', 'Driver', 'grid'], inplace=True)\n",
    "        race_results['number'] = race_results['number'].astype(str)\n",
    "        race_results = race_results.set_index(['driverCode'])\n",
    "        race_results['points'] = race_results['points'].astype(float)\n",
    "        drivers_standings['points'] = drivers_standings.apply(lambda driver:\n",
    "                                                                        driver['points'] + get_driver_points(race_results, driver), axis=1)\n",
    "        constructors_standings['points'] = constructors_standings.apply(lambda constructor:\n",
    "                                                                        constructor['points'] + race_results[race_results['constructor'] == constructor['name']]['points'].sum(), axis=1)\n",
    "    return drivers_standings, constructors_standings"
   ],
   "metadata": {
    "collapsed": false,
    "pycharm": {
     "name": "#%%\n"
    }
   }
  },
  {
   "cell_type": "code",
   "execution_count": 7,
   "outputs": [],
   "source": [
    "def process_api_response(response):\n",
    "    results = pd.DataFrame.from_dict(response)\n",
    "    df_drivers = pd.DataFrame(results['Driver'].tolist())\n",
    "    df_constructor = pd.DataFrame(results['Constructor'].tolist())\n",
    "    df_constructor.rename(columns={'nationality': 'team_nationality'}, inplace=True)\n",
    "    results = pd.concat([results, df_drivers, df_constructor], axis=1)\n",
    "    results.drop(columns=['Driver', 'Constructor', 'positionText', 'Time', 'FastestLap', 'url', 'givenName', 'familyName', 'dateOfBirth', 'permanentNumber'], inplace=True,  errors='ignore')\n",
    "    return results.set_index(['code'])"
   ],
   "metadata": {
    "collapsed": false,
    "pycharm": {
     "name": "#%%\n"
    }
   }
  },
  {
   "cell_type": "code",
   "execution_count": null,
   "outputs": [
    {
     "name": "stderr",
     "output_type": "stream",
     "text": [
      "<ipython-input-140-c8a6bc0730ff>       INFO \t2021, 3 - started\n",
      "core           INFO \tLoading data for Portuguese Grand Prix - Race [v2.2.4]\n",
      "api            INFO \tUsing cached data for driver_info\n",
      "api            INFO \tUsing cached data for timing_data\n",
      "api            INFO \tUsing cached data for timing_app_data\n",
      "core           INFO \tProcessing timing data...\n",
      "api            INFO \tUsing cached data for session_status_data\n",
      "api            INFO \tUsing cached data for track_status_data\n",
      "api            INFO \tUsing cached data for car_data\n",
      "api            INFO \tUsing cached data for position_data\n"
     ]
    }
   ],
   "source": [
    "def get_session_dataframe(season, race):\n",
    "    # гонщики\n",
    "    drivers = requests.get(f'http://ergast.com/api/f1/{season}/{race}/drivers.json').json()['MRData']['DriverTable']['Drivers']\n",
    "    if len(drivers) == 0:\n",
    "        return None, \"season or race not found\"\n",
    "    drivers = pd.DataFrame.from_dict(drivers)\n",
    "    drivers.drop(columns=['url', 'driverId', 'permanentNumber'], inplace=True)\n",
    "    drivers = drivers.set_index(['code'])\n",
    "\n",
    "    # национальности - страна\n",
    "    nationalities = pd.read_csv('countries.csv')\n",
    "    nationalities.drop(columns=['CCA2', 'CCA3'], inplace=True)\n",
    "    nationalities = nationalities.set_index('Name').T.to_dict('records')[0]\n",
    "\n",
    "    # конструкторы\n",
    "    constructors = requests.get(f'http://ergast.com/api/f1/{season}/{race}/constructors.json').json()['MRData']['ConstructorTable']['Constructors']\n",
    "    constructors = pd.DataFrame.from_dict(constructors)\n",
    "    constructors.drop(columns=['url', 'constructorId'], inplace=True)\n",
    "    constructors = constructors.set_index(['name'])\n",
    "\n",
    "    # standings\n",
    "    drivers_standings, constructors_standings = get_standings(selected_season, race, drivers, constructors)\n",
    "    constructors_standings = constructors_standings.set_index(['name'])\n",
    "    drivers_standings = drivers_standings.set_index(['name'])\n",
    "\n",
    "    # трасса\n",
    "    circuit = get_circuit(season, race)\n",
    "    circuit_country, circuit_name = circuit['country'], circuit['circuit_name']\n",
    "\n",
    "    quali_data = pd.DataFrame({\n",
    "        'DriverAbbreviation': [],\n",
    "        'Team': [],\n",
    "        'IsAtHomeDriver': [],\n",
    "        'IsAtHomeTeam': [],\n",
    "        'ConstructorsStandingPercentile': [],\n",
    "        'DriversChampionshipPercentile': [],\n",
    "        'QualiPlace': [],\n",
    "        'StartingGridPlace': [],\n",
    "        'ClearWeather': [],\n",
    "        'LightRainWeather': [],\n",
    "        'HeavyRainWeather': [],\n",
    "        'Circuit' : [],\n",
    "        'Season' : [],\n",
    "        'Race' : [],\n",
    "        'Finished': [],\n",
    "        'RaceResults': []\n",
    "    })\n",
    "\n",
    "    try:\n",
    "        track_country_nationality = nationalities[circuit_country]\n",
    "    except KeyError:\n",
    "        logging.error(f\"nationality not found: {circuit_country}\")\n",
    "        track_country_nationality = None\n",
    "\n",
    "    # получаем и обрабатываем результаты квалификации из api\n",
    "    quali_results = requests.get(f'http://ergast.com/api/f1/{season}/qualifying/{race}/results.json').json()['MRData']['RaceTable']['Races'][0]['Results']\n",
    "    quali_results = process_api_response(quali_results)\n",
    "\n",
    "    # получаем результаты гонки из api\n",
    "    race_results = requests.get(f'http://ergast.com/api/f1/{season}/{race}/results.json').json()['MRData']['RaceTable']['Races'][0]['Results']\n",
    "    race_results = process_api_response(race_results)\n",
    "\n",
    "    # получение погоды\n",
    "    # !!! доступно только для гонок начиная с 2018 года\n",
    "    try:\n",
    "        race_session = ff1.get_session(season, race, 'R')\n",
    "        race_session.load(weather=True)\n",
    "        weather_clear = not race_session.weather_data['Rainfall'].any()\n",
    "        weather_h_rain = race_session.weather_data['Rainfall'].all()\n",
    "        weather_l_rain = race_session.weather_data['Rainfall'].any() and not weather_h_rain\n",
    "\n",
    "    except Exception as _:\n",
    "        weather_clear = False\n",
    "        weather_h_rain = False\n",
    "        weather_l_rain = False\n",
    "\n",
    "    for index, driver in drivers.iterrows():\n",
    "        try:\n",
    "            driver_row = quali_results.loc[index]\n",
    "            drivers_place = int(driver_row['position'])\n",
    "        except KeyError:\n",
    "            logging.error(\"driver not found\")\n",
    "            break\n",
    "\n",
    "        driver_team = driver_row['name']\n",
    "        data = [index,\n",
    "                driver_team,\n",
    "                track_country_nationality == driver['nationality'],\n",
    "                constructors.loc[driver_team]['nationality'] == track_country_nationality,\n",
    "                stats.percentileofscore(constructors_standings['points'], constructors_standings.loc[driver_team]['points']) / 100,\n",
    "                stats.percentileofscore(drivers_standings['points'], drivers_standings.loc[index]['points']) / 100,\n",
    "                drivers_place,\n",
    "                int(race_results.loc[index]['grid']),\n",
    "                weather_clear,\n",
    "                weather_l_rain,\n",
    "                weather_h_rain,\n",
    "                circuit_name,\n",
    "                season,\n",
    "                race,\n",
    "                race_results.loc[index]['status'],\n",
    "                int(race_results.loc[index]['position']),\n",
    "                ]\n",
    "        quali_data = pd.concat([pd.DataFrame([data], columns=quali_data.columns), quali_data], ignore_index=True)\n",
    "    return quali_data, None\n",
    "\n",
    "total_df = pd.DataFrame({\n",
    "    'DriverAbbreviation': [],\n",
    "    'Team': [],\n",
    "    'IsAtHomeDriver': [],\n",
    "    'IsAtHomeTeam': [],\n",
    "    'ConstructorsStandingPercentile': [],\n",
    "    'DriversChampionshipPercentile': [],\n",
    "    'QualiPlace': [],\n",
    "    'ClearWeather': [],\n",
    "    'LightRainWeather': [],\n",
    "    'HeavyRainWeather': [],\n",
    "    'Circuit' : [],\n",
    "    'Season' : [],\n",
    "    'Race' : [],\n",
    "    'RaceResults': [],\n",
    "})\n",
    "\n",
    "tracks_processed = {}\n",
    "\n",
    "for year in range(2021, 2009, -1):\n",
    "    for race in range(3, 23):\n",
    "        logging.info(f\"{year}, {race} - started\")\n",
    "        new_df, error = get_session_dataframe(year, race)\n",
    "        if error is not None:\n",
    "            logging.error(error)\n",
    "            if error == \"season or race not found\":\n",
    "                break\n",
    "        elif year > 2017:\n",
    "            session = ff1.get_session(year, race, 'R')\n",
    "            session.load(laps=True, telemetry=True)\n",
    "            laps = session.laps\n",
    "            laps['LapEndTime'] = laps['LapStartTime'] + laps['LapTime']\n",
    "            overtakes = calculate_overtakes_during_race(laps, year, race)\n",
    "            if len(new_df['Circuit']) > 0:\n",
    "                if new_df.iloc[0]['Circuit'] not in tracks_processed:\n",
    "                    tracks_processed[new_df.iloc[0]['Circuit']] = {}\n",
    "                    tracks_processed[new_df.iloc[0]['Circuit']]['total_overtakes'] = 0\n",
    "                    tracks_processed[new_df.iloc[0]['Circuit']]['num_of_races'] = 0\n",
    "                tracks_processed[new_df.iloc[0]['Circuit']]['total_overtakes'] += len(overtakes)\n",
    "                tracks_processed[new_df.iloc[0]['Circuit']]['num_of_races'] += 1\n",
    "        total_df = pd.concat([new_df, total_df], ignore_index=True)"
   ],
   "metadata": {
    "collapsed": false,
    "pycharm": {
     "name": "#%%\n",
     "is_executing": true
    }
   }
  },
  {
   "cell_type": "code",
   "execution_count": 13,
   "outputs": [
    {
     "data": {
      "text/plain": "     DriverAbbreviation            Team  IsAtHomeDriver  IsAtHomeTeam  \\\n0                   HAM         McLaren             0.0           0.0   \n1                   GLO          Virgin             0.0           0.0   \n2                   DIG          Virgin             0.0           0.0   \n3                   BUT         McLaren             0.0           0.0   \n4                   BUE      Toro Rosso             0.0           0.0   \n...                 ...             ...             ...           ...   \n4100                HAM        Mercedes             0.0           0.0   \n4101                GIO      Alfa Romeo             0.0           0.0   \n4102                GAS      AlphaTauri             0.0           0.0   \n4103                BOT        Mercedes             0.0           0.0   \n4104                ALO  Alpine F1 Team             0.0           0.0   \n\n      ConstructorsStandingPercentile  DriversChampionshipPercentile  \\\n0                           0.541667                       0.520833   \n1                           0.541667                       0.520833   \n2                           0.541667                       0.520833   \n3                           0.541667                       0.520833   \n4                           0.541667                       0.520833   \n...                              ...                            ...   \n4100                        0.550000                       0.525000   \n4101                        0.550000                       0.525000   \n4102                        0.550000                       0.525000   \n4103                        0.550000                       0.525000   \n4104                        0.550000                       0.525000   \n\n      QualiPlace  StartingGridPlace  ClearWeather  LightRainWeather  \\\n0            3.0                2.0           0.0               0.0   \n1           20.0               21.0           0.0               0.0   \n2           23.0               22.0           0.0               0.0   \n3            7.0                4.0           0.0               0.0   \n4           16.0               18.0           0.0               0.0   \n...          ...                ...           ...               ...   \n4100         1.0                2.0           1.0               0.0   \n4101        12.0               12.0           1.0               0.0   \n4102        17.0                5.0           1.0               0.0   \n4103         3.0                3.0           1.0               0.0   \n4104        19.0                9.0           1.0               0.0   \n\n      HeavyRainWeather                        Circuit  Season  Race  Finished  \\\n0                  0.0             Yas Marina Circuit  2010.0  19.0  Finished   \n1                  0.0             Yas Marina Circuit  2010.0  19.0   Gearbox   \n2                  0.0             Yas Marina Circuit  2010.0  19.0   +2 Laps   \n3                  0.0             Yas Marina Circuit  2010.0  19.0  Finished   \n4                  0.0             Yas Marina Circuit  2010.0  19.0  Finished   \n...                ...                            ...     ...   ...       ...   \n4100               0.0  Bahrain International Circuit  2021.0   1.0  Finished   \n4101               0.0  Bahrain International Circuit  2021.0   1.0    +1 Lap   \n4102               0.0  Bahrain International Circuit  2021.0   1.0   Retired   \n4103               0.0  Bahrain International Circuit  2021.0   1.0  Finished   \n4104               0.0  Bahrain International Circuit  2021.0   1.0    Brakes   \n\n      RaceResults  \n0             2.0  \n1            22.0  \n2            18.0  \n3             3.0  \n4            15.0  \n...           ...  \n4100          1.0  \n4101         12.0  \n4102         17.0  \n4103          3.0  \n4104         19.0  \n\n[4105 rows x 16 columns]",
      "text/html": "<div>\n<style scoped>\n    .dataframe tbody tr th:only-of-type {\n        vertical-align: middle;\n    }\n\n    .dataframe tbody tr th {\n        vertical-align: top;\n    }\n\n    .dataframe thead th {\n        text-align: right;\n    }\n</style>\n<table border=\"1\" class=\"dataframe\">\n  <thead>\n    <tr style=\"text-align: right;\">\n      <th></th>\n      <th>DriverAbbreviation</th>\n      <th>Team</th>\n      <th>IsAtHomeDriver</th>\n      <th>IsAtHomeTeam</th>\n      <th>ConstructorsStandingPercentile</th>\n      <th>DriversChampionshipPercentile</th>\n      <th>QualiPlace</th>\n      <th>StartingGridPlace</th>\n      <th>ClearWeather</th>\n      <th>LightRainWeather</th>\n      <th>HeavyRainWeather</th>\n      <th>Circuit</th>\n      <th>Season</th>\n      <th>Race</th>\n      <th>Finished</th>\n      <th>RaceResults</th>\n    </tr>\n  </thead>\n  <tbody>\n    <tr>\n      <th>0</th>\n      <td>HAM</td>\n      <td>McLaren</td>\n      <td>0.0</td>\n      <td>0.0</td>\n      <td>0.541667</td>\n      <td>0.520833</td>\n      <td>3.0</td>\n      <td>2.0</td>\n      <td>0.0</td>\n      <td>0.0</td>\n      <td>0.0</td>\n      <td>Yas Marina Circuit</td>\n      <td>2010.0</td>\n      <td>19.0</td>\n      <td>Finished</td>\n      <td>2.0</td>\n    </tr>\n    <tr>\n      <th>1</th>\n      <td>GLO</td>\n      <td>Virgin</td>\n      <td>0.0</td>\n      <td>0.0</td>\n      <td>0.541667</td>\n      <td>0.520833</td>\n      <td>20.0</td>\n      <td>21.0</td>\n      <td>0.0</td>\n      <td>0.0</td>\n      <td>0.0</td>\n      <td>Yas Marina Circuit</td>\n      <td>2010.0</td>\n      <td>19.0</td>\n      <td>Gearbox</td>\n      <td>22.0</td>\n    </tr>\n    <tr>\n      <th>2</th>\n      <td>DIG</td>\n      <td>Virgin</td>\n      <td>0.0</td>\n      <td>0.0</td>\n      <td>0.541667</td>\n      <td>0.520833</td>\n      <td>23.0</td>\n      <td>22.0</td>\n      <td>0.0</td>\n      <td>0.0</td>\n      <td>0.0</td>\n      <td>Yas Marina Circuit</td>\n      <td>2010.0</td>\n      <td>19.0</td>\n      <td>+2 Laps</td>\n      <td>18.0</td>\n    </tr>\n    <tr>\n      <th>3</th>\n      <td>BUT</td>\n      <td>McLaren</td>\n      <td>0.0</td>\n      <td>0.0</td>\n      <td>0.541667</td>\n      <td>0.520833</td>\n      <td>7.0</td>\n      <td>4.0</td>\n      <td>0.0</td>\n      <td>0.0</td>\n      <td>0.0</td>\n      <td>Yas Marina Circuit</td>\n      <td>2010.0</td>\n      <td>19.0</td>\n      <td>Finished</td>\n      <td>3.0</td>\n    </tr>\n    <tr>\n      <th>4</th>\n      <td>BUE</td>\n      <td>Toro Rosso</td>\n      <td>0.0</td>\n      <td>0.0</td>\n      <td>0.541667</td>\n      <td>0.520833</td>\n      <td>16.0</td>\n      <td>18.0</td>\n      <td>0.0</td>\n      <td>0.0</td>\n      <td>0.0</td>\n      <td>Yas Marina Circuit</td>\n      <td>2010.0</td>\n      <td>19.0</td>\n      <td>Finished</td>\n      <td>15.0</td>\n    </tr>\n    <tr>\n      <th>...</th>\n      <td>...</td>\n      <td>...</td>\n      <td>...</td>\n      <td>...</td>\n      <td>...</td>\n      <td>...</td>\n      <td>...</td>\n      <td>...</td>\n      <td>...</td>\n      <td>...</td>\n      <td>...</td>\n      <td>...</td>\n      <td>...</td>\n      <td>...</td>\n      <td>...</td>\n      <td>...</td>\n    </tr>\n    <tr>\n      <th>4100</th>\n      <td>HAM</td>\n      <td>Mercedes</td>\n      <td>0.0</td>\n      <td>0.0</td>\n      <td>0.550000</td>\n      <td>0.525000</td>\n      <td>1.0</td>\n      <td>2.0</td>\n      <td>1.0</td>\n      <td>0.0</td>\n      <td>0.0</td>\n      <td>Bahrain International Circuit</td>\n      <td>2021.0</td>\n      <td>1.0</td>\n      <td>Finished</td>\n      <td>1.0</td>\n    </tr>\n    <tr>\n      <th>4101</th>\n      <td>GIO</td>\n      <td>Alfa Romeo</td>\n      <td>0.0</td>\n      <td>0.0</td>\n      <td>0.550000</td>\n      <td>0.525000</td>\n      <td>12.0</td>\n      <td>12.0</td>\n      <td>1.0</td>\n      <td>0.0</td>\n      <td>0.0</td>\n      <td>Bahrain International Circuit</td>\n      <td>2021.0</td>\n      <td>1.0</td>\n      <td>+1 Lap</td>\n      <td>12.0</td>\n    </tr>\n    <tr>\n      <th>4102</th>\n      <td>GAS</td>\n      <td>AlphaTauri</td>\n      <td>0.0</td>\n      <td>0.0</td>\n      <td>0.550000</td>\n      <td>0.525000</td>\n      <td>17.0</td>\n      <td>5.0</td>\n      <td>1.0</td>\n      <td>0.0</td>\n      <td>0.0</td>\n      <td>Bahrain International Circuit</td>\n      <td>2021.0</td>\n      <td>1.0</td>\n      <td>Retired</td>\n      <td>17.0</td>\n    </tr>\n    <tr>\n      <th>4103</th>\n      <td>BOT</td>\n      <td>Mercedes</td>\n      <td>0.0</td>\n      <td>0.0</td>\n      <td>0.550000</td>\n      <td>0.525000</td>\n      <td>3.0</td>\n      <td>3.0</td>\n      <td>1.0</td>\n      <td>0.0</td>\n      <td>0.0</td>\n      <td>Bahrain International Circuit</td>\n      <td>2021.0</td>\n      <td>1.0</td>\n      <td>Finished</td>\n      <td>3.0</td>\n    </tr>\n    <tr>\n      <th>4104</th>\n      <td>ALO</td>\n      <td>Alpine F1 Team</td>\n      <td>0.0</td>\n      <td>0.0</td>\n      <td>0.550000</td>\n      <td>0.525000</td>\n      <td>19.0</td>\n      <td>9.0</td>\n      <td>1.0</td>\n      <td>0.0</td>\n      <td>0.0</td>\n      <td>Bahrain International Circuit</td>\n      <td>2021.0</td>\n      <td>1.0</td>\n      <td>Brakes</td>\n      <td>19.0</td>\n    </tr>\n  </tbody>\n</table>\n<p>4105 rows × 16 columns</p>\n</div>"
     },
     "execution_count": 13,
     "metadata": {},
     "output_type": "execute_result"
    }
   ],
   "source": [
    "total_df"
   ],
   "metadata": {
    "collapsed": false,
    "pycharm": {
     "name": "#%%\n"
    }
   }
  },
  {
   "cell_type": "code",
   "execution_count": 40,
   "outputs": [
    {
     "data": {
      "text/plain": "{'Bahrain International Circuit': {'total_overtakes': 806, 'num_of_races': 4},\n 'Autodromo Enzo e Dino Ferrari': {'total_overtakes': 361, 'num_of_races': 2},\n 'Autódromo Internacional do Algarve': {'total_overtakes': 377,\n  'num_of_races': 2},\n 'Circuit de Barcelona-Catalunya': {'total_overtakes': 630, 'num_of_races': 4},\n 'Circuit de Monaco': {'total_overtakes': 207, 'num_of_races': 3},\n 'Baku City Circuit': {'total_overtakes': 608, 'num_of_races': 3},\n 'Circuit Paul Ricard': {'total_overtakes': 258, 'num_of_races': 3},\n 'Red Bull Ring': {'total_overtakes': 797, 'num_of_races': 6},\n 'Silverstone Circuit': {'total_overtakes': 940, 'num_of_races': 5},\n 'Hungaroring': {'total_overtakes': 597, 'num_of_races': 4},\n 'Circuit de Spa-Francorchamps': {'total_overtakes': 354, 'num_of_races': 4},\n 'Circuit Park Zandvoort': {'total_overtakes': 121, 'num_of_races': 1},\n 'Autodromo Nazionale di Monza': {'total_overtakes': 664, 'num_of_races': 4},\n 'Sochi Autodrom': {'total_overtakes': 669, 'num_of_races': 4},\n 'Istanbul Park': {'total_overtakes': 315, 'num_of_races': 2},\n 'Circuit of the Americas': {'total_overtakes': 536, 'num_of_races': 3},\n 'Autódromo Hermanos Rodríguez': {'total_overtakes': 479, 'num_of_races': 3},\n 'Autódromo José Carlos Pace': {'total_overtakes': 610, 'num_of_races': 3},\n 'Losail International Circuit': {'total_overtakes': 147, 'num_of_races': 1},\n 'Jeddah Corniche Circuit': {'total_overtakes': 145, 'num_of_races': 1},\n 'Yas Marina Circuit': {'total_overtakes': 642, 'num_of_races': 4},\n 'Autodromo Internazionale del Mugello': {'total_overtakes': 108,\n  'num_of_races': 1},\n 'Nürburgring': {'total_overtakes': 256, 'num_of_races': 1},\n 'Albert Park Grand Prix Circuit': {'total_overtakes': 64, 'num_of_races': 2},\n 'Shanghai International Circuit': {'total_overtakes': 358, 'num_of_races': 2},\n 'Circuit Gilles Villeneuve': {'total_overtakes': 144, 'num_of_races': 2},\n 'Hockenheimring': {'total_overtakes': 537, 'num_of_races': 2},\n 'Marina Bay Street Circuit': {'total_overtakes': 379, 'num_of_races': 2},\n 'Suzuka Circuit': {'total_overtakes': 404, 'num_of_races': 2}}"
     },
     "execution_count": 40,
     "metadata": {},
     "output_type": "execute_result"
    }
   ],
   "source": [
    "tracks_processed"
   ],
   "metadata": {
    "collapsed": false,
    "pycharm": {
     "name": "#%%\n"
    }
   }
  },
  {
   "cell_type": "code",
   "execution_count": 14,
   "outputs": [],
   "source": [
    "# установка среднего кол-ва обгонов на трассах\n",
    "def set_overtakes(row, tracks):\n",
    "    if row['Circuit'] in tracks:\n",
    "        track = tracks[row['Circuit']]\n",
    "        if track['total_overtakes'] == 0:\n",
    "            return np.NAN\n",
    "        return track['total_overtakes'] / track['num_of_races']\n",
    "    else:\n",
    "        return np.NAN"
   ],
   "metadata": {
    "collapsed": false,
    "pycharm": {
     "name": "#%%\n"
    }
   }
  },
  {
   "cell_type": "code",
   "execution_count": 15,
   "outputs": [],
   "source": [
    "total_df['Average_track_overtakes'] = total_df.apply(lambda row: set_overtakes(row, tracks_processed), axis=1)"
   ],
   "metadata": {
    "collapsed": false,
    "pycharm": {
     "name": "#%%\n"
    }
   }
  },
  {
   "cell_type": "code",
   "execution_count": 16,
   "outputs": [],
   "source": [
    "total_df['Average_track_overtakes'] = total_df['Average_track_overtakes'].fillna(total_df['Average_track_overtakes'].min())"
   ],
   "metadata": {
    "collapsed": false,
    "pycharm": {
     "name": "#%%\n"
    }
   }
  },
  {
   "cell_type": "code",
   "execution_count": 17,
   "outputs": [],
   "source": [
    "total_df.to_csv(\"total_df_saved.csv\")"
   ],
   "metadata": {
    "collapsed": false,
    "pycharm": {
     "name": "#%%\n"
    }
   }
  },
  {
   "cell_type": "code",
   "execution_count": 54,
   "outputs": [],
   "source": [
    "total_df = pd.read_csv(\"total_df_saved.csv\")"
   ],
   "metadata": {
    "collapsed": false,
    "pycharm": {
     "name": "#%%\n"
    }
   }
  },
  {
   "cell_type": "code",
   "execution_count": 28,
   "outputs": [
    {
     "data": {
      "text/plain": "      Unnamed: 0 DriverAbbreviation            Team  IsAtHomeDriver  \\\n0              0                HAM         McLaren             0.0   \n1              1                GLO          Virgin             0.0   \n2              2                DIG          Virgin             0.0   \n3              3                BUT         McLaren             0.0   \n4              4                BUE      Toro Rosso             0.0   \n...          ...                ...             ...             ...   \n4100        4100                HAM        Mercedes             0.0   \n4101        4101                GIO      Alfa Romeo             0.0   \n4102        4102                GAS      AlphaTauri             0.0   \n4103        4103                BOT        Mercedes             0.0   \n4104        4104                ALO  Alpine F1 Team             0.0   \n\n      IsAtHomeTeam  ConstructorsStandingPercentile  \\\n0              0.0                        0.541667   \n1              0.0                        0.541667   \n2              0.0                        0.541667   \n3              0.0                        0.541667   \n4              0.0                        0.541667   \n...            ...                             ...   \n4100           0.0                        0.550000   \n4101           0.0                        0.550000   \n4102           0.0                        0.550000   \n4103           0.0                        0.550000   \n4104           0.0                        0.550000   \n\n      DriversChampionshipPercentile  QualiPlace  StartingGridPlace  \\\n0                          0.520833         3.0                2.0   \n1                          0.520833        20.0               21.0   \n2                          0.520833        23.0               22.0   \n3                          0.520833         7.0                4.0   \n4                          0.520833        16.0               18.0   \n...                             ...         ...                ...   \n4100                       0.525000         1.0                2.0   \n4101                       0.525000        12.0               12.0   \n4102                       0.525000        17.0                5.0   \n4103                       0.525000         3.0                3.0   \n4104                       0.525000        19.0                9.0   \n\n      ClearWeather  LightRainWeather  HeavyRainWeather  \\\n0              0.0               0.0               0.0   \n1              0.0               0.0               0.0   \n2              0.0               0.0               0.0   \n3              0.0               0.0               0.0   \n4              0.0               0.0               0.0   \n...            ...               ...               ...   \n4100           1.0               0.0               0.0   \n4101           1.0               0.0               0.0   \n4102           1.0               0.0               0.0   \n4103           1.0               0.0               0.0   \n4104           1.0               0.0               0.0   \n\n                            Circuit  Season  Race  Finished  RaceResults  \\\n0                Yas Marina Circuit  2010.0  19.0  Finished          2.0   \n1                Yas Marina Circuit  2010.0  19.0   Gearbox         22.0   \n2                Yas Marina Circuit  2010.0  19.0   +2 Laps         18.0   \n3                Yas Marina Circuit  2010.0  19.0  Finished          3.0   \n4                Yas Marina Circuit  2010.0  19.0  Finished         15.0   \n...                             ...     ...   ...       ...          ...   \n4100  Bahrain International Circuit  2021.0   1.0  Finished          1.0   \n4101  Bahrain International Circuit  2021.0   1.0    +1 Lap         12.0   \n4102  Bahrain International Circuit  2021.0   1.0   Retired         17.0   \n4103  Bahrain International Circuit  2021.0   1.0  Finished          3.0   \n4104  Bahrain International Circuit  2021.0   1.0    Brakes         19.0   \n\n      Average_track_overtakes  \n0                       160.5  \n1                       160.5  \n2                       160.5  \n3                       160.5  \n4                       160.5  \n...                       ...  \n4100                    201.5  \n4101                    201.5  \n4102                    201.5  \n4103                    201.5  \n4104                    201.5  \n\n[4105 rows x 18 columns]",
      "text/html": "<div>\n<style scoped>\n    .dataframe tbody tr th:only-of-type {\n        vertical-align: middle;\n    }\n\n    .dataframe tbody tr th {\n        vertical-align: top;\n    }\n\n    .dataframe thead th {\n        text-align: right;\n    }\n</style>\n<table border=\"1\" class=\"dataframe\">\n  <thead>\n    <tr style=\"text-align: right;\">\n      <th></th>\n      <th>Unnamed: 0</th>\n      <th>DriverAbbreviation</th>\n      <th>Team</th>\n      <th>IsAtHomeDriver</th>\n      <th>IsAtHomeTeam</th>\n      <th>ConstructorsStandingPercentile</th>\n      <th>DriversChampionshipPercentile</th>\n      <th>QualiPlace</th>\n      <th>StartingGridPlace</th>\n      <th>ClearWeather</th>\n      <th>LightRainWeather</th>\n      <th>HeavyRainWeather</th>\n      <th>Circuit</th>\n      <th>Season</th>\n      <th>Race</th>\n      <th>Finished</th>\n      <th>RaceResults</th>\n      <th>Average_track_overtakes</th>\n    </tr>\n  </thead>\n  <tbody>\n    <tr>\n      <th>0</th>\n      <td>0</td>\n      <td>HAM</td>\n      <td>McLaren</td>\n      <td>0.0</td>\n      <td>0.0</td>\n      <td>0.541667</td>\n      <td>0.520833</td>\n      <td>3.0</td>\n      <td>2.0</td>\n      <td>0.0</td>\n      <td>0.0</td>\n      <td>0.0</td>\n      <td>Yas Marina Circuit</td>\n      <td>2010.0</td>\n      <td>19.0</td>\n      <td>Finished</td>\n      <td>2.0</td>\n      <td>160.5</td>\n    </tr>\n    <tr>\n      <th>1</th>\n      <td>1</td>\n      <td>GLO</td>\n      <td>Virgin</td>\n      <td>0.0</td>\n      <td>0.0</td>\n      <td>0.541667</td>\n      <td>0.520833</td>\n      <td>20.0</td>\n      <td>21.0</td>\n      <td>0.0</td>\n      <td>0.0</td>\n      <td>0.0</td>\n      <td>Yas Marina Circuit</td>\n      <td>2010.0</td>\n      <td>19.0</td>\n      <td>Gearbox</td>\n      <td>22.0</td>\n      <td>160.5</td>\n    </tr>\n    <tr>\n      <th>2</th>\n      <td>2</td>\n      <td>DIG</td>\n      <td>Virgin</td>\n      <td>0.0</td>\n      <td>0.0</td>\n      <td>0.541667</td>\n      <td>0.520833</td>\n      <td>23.0</td>\n      <td>22.0</td>\n      <td>0.0</td>\n      <td>0.0</td>\n      <td>0.0</td>\n      <td>Yas Marina Circuit</td>\n      <td>2010.0</td>\n      <td>19.0</td>\n      <td>+2 Laps</td>\n      <td>18.0</td>\n      <td>160.5</td>\n    </tr>\n    <tr>\n      <th>3</th>\n      <td>3</td>\n      <td>BUT</td>\n      <td>McLaren</td>\n      <td>0.0</td>\n      <td>0.0</td>\n      <td>0.541667</td>\n      <td>0.520833</td>\n      <td>7.0</td>\n      <td>4.0</td>\n      <td>0.0</td>\n      <td>0.0</td>\n      <td>0.0</td>\n      <td>Yas Marina Circuit</td>\n      <td>2010.0</td>\n      <td>19.0</td>\n      <td>Finished</td>\n      <td>3.0</td>\n      <td>160.5</td>\n    </tr>\n    <tr>\n      <th>4</th>\n      <td>4</td>\n      <td>BUE</td>\n      <td>Toro Rosso</td>\n      <td>0.0</td>\n      <td>0.0</td>\n      <td>0.541667</td>\n      <td>0.520833</td>\n      <td>16.0</td>\n      <td>18.0</td>\n      <td>0.0</td>\n      <td>0.0</td>\n      <td>0.0</td>\n      <td>Yas Marina Circuit</td>\n      <td>2010.0</td>\n      <td>19.0</td>\n      <td>Finished</td>\n      <td>15.0</td>\n      <td>160.5</td>\n    </tr>\n    <tr>\n      <th>...</th>\n      <td>...</td>\n      <td>...</td>\n      <td>...</td>\n      <td>...</td>\n      <td>...</td>\n      <td>...</td>\n      <td>...</td>\n      <td>...</td>\n      <td>...</td>\n      <td>...</td>\n      <td>...</td>\n      <td>...</td>\n      <td>...</td>\n      <td>...</td>\n      <td>...</td>\n      <td>...</td>\n      <td>...</td>\n      <td>...</td>\n    </tr>\n    <tr>\n      <th>4100</th>\n      <td>4100</td>\n      <td>HAM</td>\n      <td>Mercedes</td>\n      <td>0.0</td>\n      <td>0.0</td>\n      <td>0.550000</td>\n      <td>0.525000</td>\n      <td>1.0</td>\n      <td>2.0</td>\n      <td>1.0</td>\n      <td>0.0</td>\n      <td>0.0</td>\n      <td>Bahrain International Circuit</td>\n      <td>2021.0</td>\n      <td>1.0</td>\n      <td>Finished</td>\n      <td>1.0</td>\n      <td>201.5</td>\n    </tr>\n    <tr>\n      <th>4101</th>\n      <td>4101</td>\n      <td>GIO</td>\n      <td>Alfa Romeo</td>\n      <td>0.0</td>\n      <td>0.0</td>\n      <td>0.550000</td>\n      <td>0.525000</td>\n      <td>12.0</td>\n      <td>12.0</td>\n      <td>1.0</td>\n      <td>0.0</td>\n      <td>0.0</td>\n      <td>Bahrain International Circuit</td>\n      <td>2021.0</td>\n      <td>1.0</td>\n      <td>+1 Lap</td>\n      <td>12.0</td>\n      <td>201.5</td>\n    </tr>\n    <tr>\n      <th>4102</th>\n      <td>4102</td>\n      <td>GAS</td>\n      <td>AlphaTauri</td>\n      <td>0.0</td>\n      <td>0.0</td>\n      <td>0.550000</td>\n      <td>0.525000</td>\n      <td>17.0</td>\n      <td>5.0</td>\n      <td>1.0</td>\n      <td>0.0</td>\n      <td>0.0</td>\n      <td>Bahrain International Circuit</td>\n      <td>2021.0</td>\n      <td>1.0</td>\n      <td>Retired</td>\n      <td>17.0</td>\n      <td>201.5</td>\n    </tr>\n    <tr>\n      <th>4103</th>\n      <td>4103</td>\n      <td>BOT</td>\n      <td>Mercedes</td>\n      <td>0.0</td>\n      <td>0.0</td>\n      <td>0.550000</td>\n      <td>0.525000</td>\n      <td>3.0</td>\n      <td>3.0</td>\n      <td>1.0</td>\n      <td>0.0</td>\n      <td>0.0</td>\n      <td>Bahrain International Circuit</td>\n      <td>2021.0</td>\n      <td>1.0</td>\n      <td>Finished</td>\n      <td>3.0</td>\n      <td>201.5</td>\n    </tr>\n    <tr>\n      <th>4104</th>\n      <td>4104</td>\n      <td>ALO</td>\n      <td>Alpine F1 Team</td>\n      <td>0.0</td>\n      <td>0.0</td>\n      <td>0.550000</td>\n      <td>0.525000</td>\n      <td>19.0</td>\n      <td>9.0</td>\n      <td>1.0</td>\n      <td>0.0</td>\n      <td>0.0</td>\n      <td>Bahrain International Circuit</td>\n      <td>2021.0</td>\n      <td>1.0</td>\n      <td>Brakes</td>\n      <td>19.0</td>\n      <td>201.5</td>\n    </tr>\n  </tbody>\n</table>\n<p>4105 rows × 18 columns</p>\n</div>"
     },
     "execution_count": 28,
     "metadata": {},
     "output_type": "execute_result"
    }
   ],
   "source": [
    "total_df"
   ],
   "metadata": {
    "collapsed": false,
    "pycharm": {
     "name": "#%%\n"
    }
   }
  },
  {
   "cell_type": "code",
   "execution_count": 6,
   "outputs": [],
   "source": [
    "from sklearn import preprocessing\n",
    "\n",
    "scaled_features = total_df.copy()\n",
    "\n",
    "col_names = ['QualiPlace', 'StartingGridPlace', 'Average_track_overtakes']\n",
    "features = scaled_features[col_names]\n",
    "# Use scaler of choice; here Standard scaler is used\n",
    "scaler = preprocessing.MinMaxScaler()\n",
    "scaler.fit(X=features.values)\n",
    "features = scaler.transform(features.values)\n",
    "\n",
    "scaled_features[col_names] = features"
   ],
   "metadata": {
    "collapsed": false,
    "pycharm": {
     "name": "#%%\n"
    }
   }
  },
  {
   "cell_type": "code",
   "execution_count": 7,
   "outputs": [],
   "source": [
    "total_df = scaled_features.copy()"
   ],
   "metadata": {
    "collapsed": false,
    "pycharm": {
     "name": "#%%\n"
    }
   }
  },
  {
   "cell_type": "code",
   "execution_count": 72,
   "outputs": [],
   "source": [
    "total_df_dummies = total_df.drop(columns=['DriverAbbreviation', 'Team', 'Unnamed: 0', 'Finished'])\n",
    "finished_column = total_df['Finished']\n",
    "total_df_dummies = total_df_dummies.join(pd.get_dummies(total_df_dummies.select_dtypes(include=['object'])))\n",
    "total_df_dummies.drop(columns=total_df_dummies.select_dtypes(include=['object']).columns, inplace=True)\n",
    "total_df_dummies['Finished'] = finished_column\n",
    "train = total_df_dummies[total_df_dummies['Season'] < 2019]\n",
    "test = total_df_dummies[total_df_dummies['Season'] > 2018]\n",
    "\n",
    "X_train = train.drop(columns=['RaceResults'])\n",
    "X_test = test.drop(columns=['RaceResults'])\n",
    "y_train = train['RaceResults'] == 1\n",
    "y_test = (test['RaceResults'] == 1).astype(int)"
   ],
   "metadata": {
    "collapsed": false,
    "pycharm": {
     "name": "#%%\n"
    }
   }
  },
  {
   "cell_type": "code",
   "execution_count": 66,
   "outputs": [
    {
     "data": {
      "text/plain": "(3015, 46)"
     },
     "execution_count": 66,
     "metadata": {},
     "output_type": "execute_result"
    }
   ],
   "source": [
    "X_train.shape"
   ],
   "metadata": {
    "collapsed": false,
    "pycharm": {
     "name": "#%%\n"
    }
   }
  },
  {
   "cell_type": "code",
   "execution_count": 73,
   "outputs": [],
   "source": [
    "# победителем определенной гонки считаем гонщика, у которого наибольшая вероятность победы\n",
    "def transform_predictions(X_test, y_pred):\n",
    "    X_preds = X_test.copy()\n",
    "    X_preds['win_proba'] = y_pred[:, 1]\n",
    "    for name, group in X_preds.groupby(['Season', 'Race']):\n",
    "        X_preds.loc[(X_preds['Season'] == name[0]) & (X_preds['Race'] == name[1]), 'winner'] = X_preds[(X_preds['Season'] == name[0]) & (X_preds['Race'] == name[1])]['win_proba'] == max(group['win_proba'])\n",
    "    y_pred = X_preds['winner'].astype(int)\n",
    "    return y_pred"
   ],
   "metadata": {
    "collapsed": false,
    "pycharm": {
     "name": "#%%\n"
    }
   }
  },
  {
   "cell_type": "code",
   "execution_count": 89,
   "outputs": [
    {
     "name": "stdout",
     "output_type": "stream",
     "text": [
      "Fitting 5 folds for each of 400 candidates, totalling 2000 fits\n"
     ]
    },
    {
     "data": {
      "text/plain": "(0.5964912280701754, 0.777951306120436, 0.6181818181818182, 0.576271186440678)"
     },
     "execution_count": 89,
     "metadata": {},
     "output_type": "execute_result"
    }
   ],
   "source": [
    "clf_searched = search_best_params(X_train.drop(columns=['Finished']), y_train)\n",
    "clf = clf_searched.best_estimator_\n",
    "y_pred = clf.predict_proba(X_test.drop(columns=['Finished']))\n",
    "y_pred = transform_predictions(X_test.drop(columns=['Finished']), y_pred)\n",
    "f1_score(y_pred, y_test), roc_auc_score(y_pred, y_test), precision_score(y_pred, y_test), recall_score(y_pred, y_test)"
   ],
   "metadata": {
    "collapsed": false,
    "pycharm": {
     "name": "#%%\n"
    }
   }
  },
  {
   "cell_type": "code",
   "execution_count": 55,
   "outputs": [
    {
     "data": {
      "text/plain": "{'n_estimators': 600,\n 'min_samples_split': 2,\n 'min_samples_leaf': 2,\n 'max_features': 'auto',\n 'max_depth': 110,\n 'bootstrap': False}"
     },
     "execution_count": 55,
     "metadata": {},
     "output_type": "execute_result"
    }
   ],
   "source": [
    "clf_searched.best_params_"
   ],
   "metadata": {
    "collapsed": false,
    "pycharm": {
     "name": "#%%\n"
    }
   }
  },
  {
   "cell_type": "code",
   "execution_count": 94,
   "outputs": [
    {
     "data": {
      "text/plain": "(0.5964912280701754,\n 0.777951306120436,\n 0.6181818181818182,\n 0.576271186440678,\n 0.9577981651376147)"
     },
     "execution_count": 94,
     "metadata": {},
     "output_type": "execute_result"
    }
   ],
   "source": [
    "clf = RandomForestClassifier(n_estimators=600, min_samples_split=2, min_samples_leaf=2, max_features='auto', max_depth=110, bootstrap=False)\n",
    "clf.fit(X_train.drop(columns=['Finished']), y_train)\n",
    "y_pred = clf.predict_proba(X_test.drop(columns=['Finished']))\n",
    "y_pred = transform_predictions(X_test, y_pred)\n",
    "f1_score(y_pred, y_test), roc_auc_score(y_pred, y_test), precision_score(y_pred, y_test), recall_score(y_pred, y_test), accuracy_score(y_pred, y_test)"
   ],
   "metadata": {
    "collapsed": false,
    "pycharm": {
     "name": "#%%\n"
    }
   }
  },
  {
   "cell_type": "code",
   "execution_count": 111,
   "outputs": [
    {
     "data": {
      "text/plain": "(0.4736842105263158,\n 0.7152345098554966,\n 0.4909090909090909,\n 0.4576271186440678)"
     },
     "execution_count": 111,
     "metadata": {},
     "output_type": "execute_result"
    }
   ],
   "source": [
    "from sklearn.linear_model import LogisticRegression\n",
    "# без параметра средних обгонов на трассе точность была в 1.5 раза ниже\n",
    "lr = LogisticRegression(max_iter=5000, C=0.001)\n",
    "lr.fit(X_train.drop(columns=['Finished']), y_train)\n",
    "y_pred = lr.predict_proba(X_test.drop(columns=['Finished']))\n",
    "y_pred = transform_predictions(X_test, y_pred)\n",
    "f1_score(y_pred, y_test), roc_auc_score(y_pred, y_test), precision_score(y_pred, y_test), recall_score(y_pred, y_test)"
   ],
   "metadata": {
    "collapsed": false,
    "pycharm": {
     "name": "#%%\n"
    }
   }
  },
  {
   "cell_type": "code",
   "execution_count": 2,
   "outputs": [],
   "source": [
    "from sklearn.svm import SVC\n",
    "def search_best_params_svc(X_df, y_df):\n",
    "    kernels = ['rbf', 'poly']\n",
    "    gammas = [0.1, 1, 10, 100]\n",
    "    cs = [0.1, 1, 10, 100, 1000]\n",
    "\n",
    "    random_grid = {\n",
    "        'kernel': kernels,\n",
    "        'gamma': gammas,\n",
    "        'C': cs\n",
    "    }\n",
    "\n",
    "    rf = SVC()\n",
    "    rf_random = RandomizedSearchCV(estimator = rf, param_distributions = random_grid, scoring='precision', cv=3, n_iter=30, verbose=2, random_state=42, n_jobs = -1)\n",
    "    rf_random.fit(X_df, y_df)\n",
    "    return rf_random"
   ],
   "metadata": {
    "collapsed": false,
    "pycharm": {
     "name": "#%%\n"
    }
   }
  },
  {
   "cell_type": "code",
   "execution_count": 14,
   "outputs": [
    {
     "ename": "NameError",
     "evalue": "name 'search_best_params_svc' is not defined",
     "output_type": "error",
     "traceback": [
      "\u001B[0;31m---------------------------------------------------------------------------\u001B[0m",
      "\u001B[0;31mNameError\u001B[0m                                 Traceback (most recent call last)",
      "\u001B[0;32m<ipython-input-14-62ee9e1d29e5>\u001B[0m in \u001B[0;36m<module>\u001B[0;34m\u001B[0m\n\u001B[0;32m----> 1\u001B[0;31m \u001B[0mclf_searched\u001B[0m \u001B[0;34m=\u001B[0m \u001B[0msearch_best_params_svc\u001B[0m\u001B[0;34m(\u001B[0m\u001B[0mX_train\u001B[0m\u001B[0;34m,\u001B[0m \u001B[0my_train\u001B[0m\u001B[0;34m)\u001B[0m\u001B[0;34m\u001B[0m\u001B[0;34m\u001B[0m\u001B[0m\n\u001B[0m\u001B[1;32m      2\u001B[0m \u001B[0mclf\u001B[0m \u001B[0;34m=\u001B[0m \u001B[0mclf_searched\u001B[0m\u001B[0;34m.\u001B[0m\u001B[0mbest_estimator_\u001B[0m\u001B[0;34m\u001B[0m\u001B[0;34m\u001B[0m\u001B[0m\n\u001B[1;32m      3\u001B[0m \u001B[0my_pred\u001B[0m \u001B[0;34m=\u001B[0m \u001B[0mclf\u001B[0m\u001B[0;34m.\u001B[0m\u001B[0mpredict_proba\u001B[0m\u001B[0;34m(\u001B[0m\u001B[0mX_test\u001B[0m\u001B[0;34m)\u001B[0m\u001B[0;34m\u001B[0m\u001B[0;34m\u001B[0m\u001B[0m\n\u001B[1;32m      4\u001B[0m \u001B[0my_pred\u001B[0m \u001B[0;34m=\u001B[0m \u001B[0mtransform_predictions\u001B[0m\u001B[0;34m(\u001B[0m\u001B[0mX_test\u001B[0m\u001B[0;34m,\u001B[0m \u001B[0my_pred\u001B[0m\u001B[0;34m)\u001B[0m\u001B[0;34m\u001B[0m\u001B[0;34m\u001B[0m\u001B[0m\n\u001B[1;32m      5\u001B[0m \u001B[0mf1_score\u001B[0m\u001B[0;34m(\u001B[0m\u001B[0my_pred\u001B[0m\u001B[0;34m,\u001B[0m \u001B[0my_test\u001B[0m\u001B[0;34m)\u001B[0m\u001B[0;34m,\u001B[0m \u001B[0mroc_auc_score\u001B[0m\u001B[0;34m(\u001B[0m\u001B[0my_pred\u001B[0m\u001B[0;34m,\u001B[0m \u001B[0my_test\u001B[0m\u001B[0;34m)\u001B[0m\u001B[0;34m,\u001B[0m \u001B[0mprecision_score\u001B[0m\u001B[0;34m(\u001B[0m\u001B[0my_pred\u001B[0m\u001B[0;34m,\u001B[0m \u001B[0my_test\u001B[0m\u001B[0;34m)\u001B[0m\u001B[0;34m,\u001B[0m \u001B[0mrecall_score\u001B[0m\u001B[0;34m(\u001B[0m\u001B[0my_pred\u001B[0m\u001B[0;34m,\u001B[0m \u001B[0my_test\u001B[0m\u001B[0;34m)\u001B[0m\u001B[0;34m\u001B[0m\u001B[0;34m\u001B[0m\u001B[0m\n",
      "\u001B[0;31mNameError\u001B[0m: name 'search_best_params_svc' is not defined"
     ]
    }
   ],
   "source": [
    "clf_searched = search_best_params_svc(X_train, y_train)\n",
    "clf = clf_searched.best_estimator_\n",
    "y_pred = clf.predict_proba(X_test)\n",
    "y_pred = transform_predictions(X_test, y_pred)\n",
    "f1_score(y_pred, y_test), roc_auc_score(y_pred, y_test), precision_score(y_pred, y_test), recall_score(y_pred, y_test)"
   ],
   "metadata": {
    "collapsed": false,
    "pycharm": {
     "name": "#%%\n"
    }
   }
  },
  {
   "cell_type": "code",
   "execution_count": 1,
   "outputs": [
    {
     "ename": "NameError",
     "evalue": "name 'X_train' is not defined",
     "output_type": "error",
     "traceback": [
      "\u001B[0;31m---------------------------------------------------------------------------\u001B[0m",
      "\u001B[0;31mNameError\u001B[0m                                 Traceback (most recent call last)",
      "\u001B[0;32m<timed exec>\u001B[0m in \u001B[0;36m<module>\u001B[0;34m\u001B[0m\n",
      "\u001B[0;31mNameError\u001B[0m: name 'X_train' is not defined"
     ]
    }
   ],
   "source": [
    "%%time\n",
    "from sklearn.svm import SVC\n",
    "\n",
    "clf = SVC(gamma=\"auto\", kernel='poly', probability=True, verbose=100)\n",
    "clf.fit(X_train, y_train)\n",
    "y_pred = clf.predict_proba(X_test)\n",
    "y_pred = transform_predictions(X_test, y_pred)\n",
    "f1_score(y_pred, y_test), roc_auc_score(y_pred, y_test), precision_score(y_pred, y_test), recall_score(y_pred, y_test)"
   ],
   "metadata": {
    "collapsed": false,
    "pycharm": {
     "name": "#%%\n"
    }
   }
  },
  {
   "cell_type": "code",
   "execution_count": 110,
   "outputs": [
    {
     "data": {
      "text/plain": "(0.3141361256544502,\n 0.5971913922801826,\n 0.5454545454545454,\n 0.22058823529411764)"
     },
     "execution_count": 110,
     "metadata": {},
     "output_type": "execute_result"
    }
   ],
   "source": [
    "from sklearn.ensemble import GradientBoostingClassifier\n",
    "gbc = GradientBoostingClassifier(\n",
    "    loss='exponential',\n",
    "    n_estimators=300,\n",
    "    learning_rate=25,\n",
    "    max_depth=8,\n",
    "    criterion='mse',\n",
    "    max_features='sqrt',\n",
    "    random_state=42).fit(X_train.drop(columns=['Finished']), y_train)\n",
    "y_pred = gbc.predict_proba(X_test.drop(columns=['Finished']))\n",
    "y_pred = transform_predictions(X_test, y_pred)\n",
    "f1_score(y_pred, y_test), roc_auc_score(y_pred, y_test), precision_score(y_pred, y_test), recall_score(y_pred, y_test)"
   ],
   "metadata": {
    "collapsed": false,
    "pycharm": {
     "name": "#%%\n"
    }
   }
  },
  {
   "cell_type": "markdown",
   "source": [
    "Как мы можем заметить, качество оставляет желать лучшего у нашей модели, однако, во время гонки может произойти множество неожиданных моментов, исключим те гонки, где гонщики вообще не финишировали по техническим причинам."
   ],
   "metadata": {
    "collapsed": false
   }
  },
  {
   "cell_type": "code",
   "execution_count": 78,
   "outputs": [],
   "source": [
    "test_predictions = X_test.copy()\n",
    "test_predictions['result'] = y_test\n",
    "test_predictions['predicted'] = y_pred"
   ],
   "metadata": {
    "collapsed": false,
    "pycharm": {
     "name": "#%%\n"
    }
   }
  }
 ],
 "metadata": {
  "kernelspec": {
   "display_name": "Python 3",
   "language": "python",
   "name": "python3"
  },
  "language_info": {
   "codemirror_mode": {
    "name": "ipython",
    "version": 2
   },
   "file_extension": ".py",
   "mimetype": "text/x-python",
   "name": "python",
   "nbconvert_exporter": "python",
   "pygments_lexer": "ipython2",
   "version": "2.7.6"
  }
 },
 "nbformat": 4,
 "nbformat_minor": 0
}