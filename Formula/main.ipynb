{
 "cells": [
  {
   "cell_type": "markdown",
   "source": [
    "<h1>Анализ формулы один с использованием методов машинного обучения и математической статистики</h1>"
   ],
   "metadata": {
    "collapsed": false
   }
  },
  {
   "cell_type": "markdown",
   "source": [
    "<h2>Первоначальной нашей целью будет прогноз вероятности совершения обгона на каждом из участков трассы.</h2>"
   ],
   "metadata": {
    "collapsed": false
   }
  },
  {
   "cell_type": "markdown",
   "source": [
    "<h3>Этап первый: определение обгонов</h3>"
   ],
   "metadata": {
    "collapsed": false
   }
  },
  {
   "cell_type": "code",
   "execution_count": 32,
   "metadata": {
    "collapsed": true
   },
   "outputs": [
    {
     "name": "stderr",
     "output_type": "stream",
     "text": [
      "core           INFO \tLoading data for Russian Grand Prix - Qualifying [v2.2.4]\n",
      "api            INFO \tUsing cached data for driver_info\n",
      "api            INFO \tUsing cached data for timing_data\n",
      "api            INFO \tUsing cached data for timing_app_data\n",
      "core           INFO \tProcessing timing data...\n",
      "api            INFO \tUsing cached data for session_status_data\n",
      "api            INFO \tUsing cached data for track_status_data\n",
      "api            INFO \tUsing cached data for car_data\n",
      "api            INFO \tUsing cached data for position_data\n",
      "api            INFO \tUsing cached data for weather_data\n",
      "core           INFO \tFinished loading data for 20 drivers: ['44', '33', '77', '11', '3', '55', '31', '4', '10', '23', '16', '26', '18', '63', '5', '8', '99', '20', '6', '7']\n"
     ]
    }
   ],
   "source": [
    "import fastf1 as ff1\n",
    "import pandas as pd\n",
    "import numpy as np\n",
    "import math\n",
    "import requests\n",
    "from scipy import stats\n",
    "\n",
    "selected_season = 2020\n",
    "selected_race = 10\n",
    "\n",
    "ff1.Cache.enable_cache('cache')\n",
    "session = ff1.get_session(selected_season, selected_race, 'R')\n",
    "quali = ff1.get_session(selected_season, selected_race, 'Q')\n",
    "quali.load()\n",
    "quali = quali.results"
   ]
  },
  {
   "cell_type": "code",
   "execution_count": 33,
   "outputs": [
    {
     "data": {
      "text/plain": "   DriverNumber BroadcastName Abbreviation           TeamName TeamColor  \\\n44           44    L HAMILTON          HAM           Mercedes    00D2BE   \n33           33  M VERSTAPPEN          VER    Red Bull Racing    1E41FF   \n77           77      V BOTTAS          BOT           Mercedes    00D2BE   \n11           11       S PEREZ          PER       Racing Point    F596C8   \n3             3   D RICCIARDO          RIC            Renault    FFF500   \n55           55       C SAINZ          SAI            McLaren    FF8700   \n31           31        E OCON          OCO            Renault    FFF500   \n4             4      L NORRIS          NOR            McLaren    FF8700   \n10           10       P GASLY          GAS         AlphaTauri    ffffff   \n23           23       A ALBON          ALB    Red Bull Racing    1E41FF   \n16           16     C LECLERC          LEC            Ferrari    DC0000   \n26           26       D KVYAT          KVY         AlphaTauri    ffffff   \n18           18      L STROLL          STR       Racing Point    F596C8   \n63           63     G RUSSELL          RUS           Williams    0082fa   \n5             5      S VETTEL          VET            Ferrari    DC0000   \n8             8    R GROSJEAN          GRO       Haas F1 Team    787878   \n99           99  A GIOVINAZZI          GIO  Alfa Romeo Racing    9B0000   \n20           20   K MAGNUSSEN          MAG       Haas F1 Team    787878   \n6             6      N LATIFI          LAT           Williams    0082fa   \n7             7   K RAIKKONEN          RAI  Alfa Romeo Racing    9B0000   \n\n    FirstName    LastName            FullName  Position  GridPosition  \\\n44      Lewis    Hamilton      Lewis Hamilton       1.0           0.0   \n33        Max  Verstappen      Max Verstappen       2.0           0.0   \n77   Valtteri      Bottas     Valtteri Bottas       3.0           0.0   \n11     Sergio       Perez        Sergio Perez       4.0           0.0   \n3      Daniel   Ricciardo    Daniel Ricciardo       5.0           0.0   \n55     Carlos       Sainz        Carlos Sainz       6.0           0.0   \n31    Esteban        Ocon        Esteban Ocon       7.0           0.0   \n4       Lando      Norris        Lando Norris       8.0           0.0   \n10     Pierre       Gasly        Pierre Gasly       9.0           0.0   \n23  Alexander       Albon     Alexander Albon      10.0           0.0   \n16    Charles     Leclerc     Charles Leclerc      11.0           0.0   \n26     Daniil       Kvyat        Daniil Kvyat      12.0           0.0   \n18      Lance      Stroll        Lance Stroll      13.0           0.0   \n63     George     Russell      George Russell      14.0           0.0   \n5   Sebastian      Vettel    Sebastian Vettel      15.0           0.0   \n8      Romain    Grosjean     Romain Grosjean      16.0           0.0   \n99    Antonio  Giovinazzi  Antonio Giovinazzi      17.0           0.0   \n20      Kevin   Magnussen     Kevin Magnussen      18.0           0.0   \n6    Nicholas      Latifi     Nicholas Latifi      19.0           0.0   \n7        Kimi   Räikkönen      Kimi Räikkönen      20.0           0.0   \n\n                       Q1                     Q2                     Q3 Time  \\\n44 0 days 00:01:32.983000 0 days 00:01:32.835000 0 days 00:01:31.304000  NaT   \n33 0 days 00:01:33.630000 0 days 00:01:33.157000 0 days 00:01:31.867000  NaT   \n77 0 days 00:01:32.656000 0 days 00:01:32.405000 0 days 00:01:31.956000  NaT   \n11 0 days 00:01:33.704000 0 days 00:01:33.038000 0 days 00:01:32.317000  NaT   \n3  0 days 00:01:33.650000 0 days 00:01:32.218000 0 days 00:01:32.364000  NaT   \n55 0 days 00:01:33.967000 0 days 00:01:32.757000 0 days 00:01:32.550000  NaT   \n31 0 days 00:01:33.557000 0 days 00:01:33.196000 0 days 00:01:32.624000  NaT   \n4  0 days 00:01:33.804000 0 days 00:01:33.081000 0 days 00:01:32.847000  NaT   \n10 0 days 00:01:33.734000 0 days 00:01:33.139000        0 days 00:01:33  NaT   \n23 0 days 00:01:33.919000 0 days 00:01:33.153000 0 days 00:01:33.008000  NaT   \n16 0 days 00:01:34.071000 0 days 00:01:33.239000                    NaT  NaT   \n26 0 days 00:01:33.511000 0 days 00:01:33.249000                    NaT  NaT   \n18 0 days 00:01:33.852000 0 days 00:01:33.364000                    NaT  NaT   \n63 0 days 00:01:34.020000 0 days 00:01:33.583000                    NaT  NaT   \n5  0 days 00:01:34.134000 0 days 00:01:33.609000                    NaT  NaT   \n8  0 days 00:01:34.592000                    NaT                    NaT  NaT   \n99 0 days 00:01:34.594000                    NaT                    NaT  NaT   \n20 0 days 00:01:34.681000                    NaT                    NaT  NaT   \n6  0 days 00:01:35.066000                    NaT                    NaT  NaT   \n7  0 days 00:01:35.267000                    NaT                    NaT  NaT   \n\n   Status  Points  \n44            0.0  \n33            0.0  \n77            0.0  \n11            0.0  \n3             0.0  \n55            0.0  \n31            0.0  \n4             0.0  \n10            0.0  \n23            0.0  \n16            0.0  \n26            0.0  \n18            0.0  \n63            0.0  \n5             0.0  \n8             0.0  \n99            0.0  \n20            0.0  \n6             0.0  \n7             0.0  ",
      "text/html": "<div>\n<style scoped>\n    .dataframe tbody tr th:only-of-type {\n        vertical-align: middle;\n    }\n\n    .dataframe tbody tr th {\n        vertical-align: top;\n    }\n\n    .dataframe thead th {\n        text-align: right;\n    }\n</style>\n<table border=\"1\" class=\"dataframe\">\n  <thead>\n    <tr style=\"text-align: right;\">\n      <th></th>\n      <th>DriverNumber</th>\n      <th>BroadcastName</th>\n      <th>Abbreviation</th>\n      <th>TeamName</th>\n      <th>TeamColor</th>\n      <th>FirstName</th>\n      <th>LastName</th>\n      <th>FullName</th>\n      <th>Position</th>\n      <th>GridPosition</th>\n      <th>Q1</th>\n      <th>Q2</th>\n      <th>Q3</th>\n      <th>Time</th>\n      <th>Status</th>\n      <th>Points</th>\n    </tr>\n  </thead>\n  <tbody>\n    <tr>\n      <th>44</th>\n      <td>44</td>\n      <td>L HAMILTON</td>\n      <td>HAM</td>\n      <td>Mercedes</td>\n      <td>00D2BE</td>\n      <td>Lewis</td>\n      <td>Hamilton</td>\n      <td>Lewis Hamilton</td>\n      <td>1.0</td>\n      <td>0.0</td>\n      <td>0 days 00:01:32.983000</td>\n      <td>0 days 00:01:32.835000</td>\n      <td>0 days 00:01:31.304000</td>\n      <td>NaT</td>\n      <td></td>\n      <td>0.0</td>\n    </tr>\n    <tr>\n      <th>33</th>\n      <td>33</td>\n      <td>M VERSTAPPEN</td>\n      <td>VER</td>\n      <td>Red Bull Racing</td>\n      <td>1E41FF</td>\n      <td>Max</td>\n      <td>Verstappen</td>\n      <td>Max Verstappen</td>\n      <td>2.0</td>\n      <td>0.0</td>\n      <td>0 days 00:01:33.630000</td>\n      <td>0 days 00:01:33.157000</td>\n      <td>0 days 00:01:31.867000</td>\n      <td>NaT</td>\n      <td></td>\n      <td>0.0</td>\n    </tr>\n    <tr>\n      <th>77</th>\n      <td>77</td>\n      <td>V BOTTAS</td>\n      <td>BOT</td>\n      <td>Mercedes</td>\n      <td>00D2BE</td>\n      <td>Valtteri</td>\n      <td>Bottas</td>\n      <td>Valtteri Bottas</td>\n      <td>3.0</td>\n      <td>0.0</td>\n      <td>0 days 00:01:32.656000</td>\n      <td>0 days 00:01:32.405000</td>\n      <td>0 days 00:01:31.956000</td>\n      <td>NaT</td>\n      <td></td>\n      <td>0.0</td>\n    </tr>\n    <tr>\n      <th>11</th>\n      <td>11</td>\n      <td>S PEREZ</td>\n      <td>PER</td>\n      <td>Racing Point</td>\n      <td>F596C8</td>\n      <td>Sergio</td>\n      <td>Perez</td>\n      <td>Sergio Perez</td>\n      <td>4.0</td>\n      <td>0.0</td>\n      <td>0 days 00:01:33.704000</td>\n      <td>0 days 00:01:33.038000</td>\n      <td>0 days 00:01:32.317000</td>\n      <td>NaT</td>\n      <td></td>\n      <td>0.0</td>\n    </tr>\n    <tr>\n      <th>3</th>\n      <td>3</td>\n      <td>D RICCIARDO</td>\n      <td>RIC</td>\n      <td>Renault</td>\n      <td>FFF500</td>\n      <td>Daniel</td>\n      <td>Ricciardo</td>\n      <td>Daniel Ricciardo</td>\n      <td>5.0</td>\n      <td>0.0</td>\n      <td>0 days 00:01:33.650000</td>\n      <td>0 days 00:01:32.218000</td>\n      <td>0 days 00:01:32.364000</td>\n      <td>NaT</td>\n      <td></td>\n      <td>0.0</td>\n    </tr>\n    <tr>\n      <th>55</th>\n      <td>55</td>\n      <td>C SAINZ</td>\n      <td>SAI</td>\n      <td>McLaren</td>\n      <td>FF8700</td>\n      <td>Carlos</td>\n      <td>Sainz</td>\n      <td>Carlos Sainz</td>\n      <td>6.0</td>\n      <td>0.0</td>\n      <td>0 days 00:01:33.967000</td>\n      <td>0 days 00:01:32.757000</td>\n      <td>0 days 00:01:32.550000</td>\n      <td>NaT</td>\n      <td></td>\n      <td>0.0</td>\n    </tr>\n    <tr>\n      <th>31</th>\n      <td>31</td>\n      <td>E OCON</td>\n      <td>OCO</td>\n      <td>Renault</td>\n      <td>FFF500</td>\n      <td>Esteban</td>\n      <td>Ocon</td>\n      <td>Esteban Ocon</td>\n      <td>7.0</td>\n      <td>0.0</td>\n      <td>0 days 00:01:33.557000</td>\n      <td>0 days 00:01:33.196000</td>\n      <td>0 days 00:01:32.624000</td>\n      <td>NaT</td>\n      <td></td>\n      <td>0.0</td>\n    </tr>\n    <tr>\n      <th>4</th>\n      <td>4</td>\n      <td>L NORRIS</td>\n      <td>NOR</td>\n      <td>McLaren</td>\n      <td>FF8700</td>\n      <td>Lando</td>\n      <td>Norris</td>\n      <td>Lando Norris</td>\n      <td>8.0</td>\n      <td>0.0</td>\n      <td>0 days 00:01:33.804000</td>\n      <td>0 days 00:01:33.081000</td>\n      <td>0 days 00:01:32.847000</td>\n      <td>NaT</td>\n      <td></td>\n      <td>0.0</td>\n    </tr>\n    <tr>\n      <th>10</th>\n      <td>10</td>\n      <td>P GASLY</td>\n      <td>GAS</td>\n      <td>AlphaTauri</td>\n      <td>ffffff</td>\n      <td>Pierre</td>\n      <td>Gasly</td>\n      <td>Pierre Gasly</td>\n      <td>9.0</td>\n      <td>0.0</td>\n      <td>0 days 00:01:33.734000</td>\n      <td>0 days 00:01:33.139000</td>\n      <td>0 days 00:01:33</td>\n      <td>NaT</td>\n      <td></td>\n      <td>0.0</td>\n    </tr>\n    <tr>\n      <th>23</th>\n      <td>23</td>\n      <td>A ALBON</td>\n      <td>ALB</td>\n      <td>Red Bull Racing</td>\n      <td>1E41FF</td>\n      <td>Alexander</td>\n      <td>Albon</td>\n      <td>Alexander Albon</td>\n      <td>10.0</td>\n      <td>0.0</td>\n      <td>0 days 00:01:33.919000</td>\n      <td>0 days 00:01:33.153000</td>\n      <td>0 days 00:01:33.008000</td>\n      <td>NaT</td>\n      <td></td>\n      <td>0.0</td>\n    </tr>\n    <tr>\n      <th>16</th>\n      <td>16</td>\n      <td>C LECLERC</td>\n      <td>LEC</td>\n      <td>Ferrari</td>\n      <td>DC0000</td>\n      <td>Charles</td>\n      <td>Leclerc</td>\n      <td>Charles Leclerc</td>\n      <td>11.0</td>\n      <td>0.0</td>\n      <td>0 days 00:01:34.071000</td>\n      <td>0 days 00:01:33.239000</td>\n      <td>NaT</td>\n      <td>NaT</td>\n      <td></td>\n      <td>0.0</td>\n    </tr>\n    <tr>\n      <th>26</th>\n      <td>26</td>\n      <td>D KVYAT</td>\n      <td>KVY</td>\n      <td>AlphaTauri</td>\n      <td>ffffff</td>\n      <td>Daniil</td>\n      <td>Kvyat</td>\n      <td>Daniil Kvyat</td>\n      <td>12.0</td>\n      <td>0.0</td>\n      <td>0 days 00:01:33.511000</td>\n      <td>0 days 00:01:33.249000</td>\n      <td>NaT</td>\n      <td>NaT</td>\n      <td></td>\n      <td>0.0</td>\n    </tr>\n    <tr>\n      <th>18</th>\n      <td>18</td>\n      <td>L STROLL</td>\n      <td>STR</td>\n      <td>Racing Point</td>\n      <td>F596C8</td>\n      <td>Lance</td>\n      <td>Stroll</td>\n      <td>Lance Stroll</td>\n      <td>13.0</td>\n      <td>0.0</td>\n      <td>0 days 00:01:33.852000</td>\n      <td>0 days 00:01:33.364000</td>\n      <td>NaT</td>\n      <td>NaT</td>\n      <td></td>\n      <td>0.0</td>\n    </tr>\n    <tr>\n      <th>63</th>\n      <td>63</td>\n      <td>G RUSSELL</td>\n      <td>RUS</td>\n      <td>Williams</td>\n      <td>0082fa</td>\n      <td>George</td>\n      <td>Russell</td>\n      <td>George Russell</td>\n      <td>14.0</td>\n      <td>0.0</td>\n      <td>0 days 00:01:34.020000</td>\n      <td>0 days 00:01:33.583000</td>\n      <td>NaT</td>\n      <td>NaT</td>\n      <td></td>\n      <td>0.0</td>\n    </tr>\n    <tr>\n      <th>5</th>\n      <td>5</td>\n      <td>S VETTEL</td>\n      <td>VET</td>\n      <td>Ferrari</td>\n      <td>DC0000</td>\n      <td>Sebastian</td>\n      <td>Vettel</td>\n      <td>Sebastian Vettel</td>\n      <td>15.0</td>\n      <td>0.0</td>\n      <td>0 days 00:01:34.134000</td>\n      <td>0 days 00:01:33.609000</td>\n      <td>NaT</td>\n      <td>NaT</td>\n      <td></td>\n      <td>0.0</td>\n    </tr>\n    <tr>\n      <th>8</th>\n      <td>8</td>\n      <td>R GROSJEAN</td>\n      <td>GRO</td>\n      <td>Haas F1 Team</td>\n      <td>787878</td>\n      <td>Romain</td>\n      <td>Grosjean</td>\n      <td>Romain Grosjean</td>\n      <td>16.0</td>\n      <td>0.0</td>\n      <td>0 days 00:01:34.592000</td>\n      <td>NaT</td>\n      <td>NaT</td>\n      <td>NaT</td>\n      <td></td>\n      <td>0.0</td>\n    </tr>\n    <tr>\n      <th>99</th>\n      <td>99</td>\n      <td>A GIOVINAZZI</td>\n      <td>GIO</td>\n      <td>Alfa Romeo Racing</td>\n      <td>9B0000</td>\n      <td>Antonio</td>\n      <td>Giovinazzi</td>\n      <td>Antonio Giovinazzi</td>\n      <td>17.0</td>\n      <td>0.0</td>\n      <td>0 days 00:01:34.594000</td>\n      <td>NaT</td>\n      <td>NaT</td>\n      <td>NaT</td>\n      <td></td>\n      <td>0.0</td>\n    </tr>\n    <tr>\n      <th>20</th>\n      <td>20</td>\n      <td>K MAGNUSSEN</td>\n      <td>MAG</td>\n      <td>Haas F1 Team</td>\n      <td>787878</td>\n      <td>Kevin</td>\n      <td>Magnussen</td>\n      <td>Kevin Magnussen</td>\n      <td>18.0</td>\n      <td>0.0</td>\n      <td>0 days 00:01:34.681000</td>\n      <td>NaT</td>\n      <td>NaT</td>\n      <td>NaT</td>\n      <td></td>\n      <td>0.0</td>\n    </tr>\n    <tr>\n      <th>6</th>\n      <td>6</td>\n      <td>N LATIFI</td>\n      <td>LAT</td>\n      <td>Williams</td>\n      <td>0082fa</td>\n      <td>Nicholas</td>\n      <td>Latifi</td>\n      <td>Nicholas Latifi</td>\n      <td>19.0</td>\n      <td>0.0</td>\n      <td>0 days 00:01:35.066000</td>\n      <td>NaT</td>\n      <td>NaT</td>\n      <td>NaT</td>\n      <td></td>\n      <td>0.0</td>\n    </tr>\n    <tr>\n      <th>7</th>\n      <td>7</td>\n      <td>K RAIKKONEN</td>\n      <td>RAI</td>\n      <td>Alfa Romeo Racing</td>\n      <td>9B0000</td>\n      <td>Kimi</td>\n      <td>Räikkönen</td>\n      <td>Kimi Räikkönen</td>\n      <td>20.0</td>\n      <td>0.0</td>\n      <td>0 days 00:01:35.267000</td>\n      <td>NaT</td>\n      <td>NaT</td>\n      <td>NaT</td>\n      <td></td>\n      <td>0.0</td>\n    </tr>\n  </tbody>\n</table>\n</div>"
     },
     "execution_count": 33,
     "metadata": {},
     "output_type": "execute_result"
    }
   ],
   "source": [
    "quali"
   ],
   "metadata": {
    "collapsed": false,
    "pycharm": {
     "name": "#%%\n"
    }
   }
  },
  {
   "cell_type": "code",
   "execution_count": 34,
   "outputs": [
    {
     "name": "stderr",
     "output_type": "stream",
     "text": [
      "core           INFO \tLoading data for Russian Grand Prix - Race [v2.2.4]\n",
      "api            INFO \tUsing cached data for driver_info\n",
      "api            INFO \tUsing cached data for timing_data\n",
      "api            INFO \tUsing cached data for timing_app_data\n",
      "core           INFO \tProcessing timing data...\n",
      "api            INFO \tUsing cached data for session_status_data\n",
      "api            INFO \tUsing cached data for track_status_data\n",
      "api            INFO \tUsing cached data for car_data\n",
      "api            INFO \tUsing cached data for position_data\n",
      "api            INFO \tUsing cached data for weather_data\n",
      "core           INFO \tFinished loading data for 20 drivers: ['77', '33', '44', '11', '3', '16', '31', '26', '10', '23', '99', '20', '5', '7', '4', '6', '8', '63', '55', '18']\n"
     ]
    }
   ],
   "source": [
    "session.load(laps=True, telemetry=True)\n",
    "laps = session.laps"
   ],
   "metadata": {
    "collapsed": false,
    "pycharm": {
     "name": "#%%\n"
    }
   }
  },
  {
   "cell_type": "code",
   "execution_count": 36,
   "outputs": [],
   "source": [
    "laps['LapEndTime'] = laps['LapStartTime'] + laps['LapTime']"
   ],
   "metadata": {
    "collapsed": false,
    "pycharm": {
     "name": "#%%\n"
    }
   }
  },
  {
   "cell_type": "markdown",
   "source": [
    "Сделаем подготовку данных для просчета обгонов\n",
    "Отберем для каждого гонщика те записи, где менялся гонщик впереди, аналогичные же записи отберем для других гонщиков"
   ],
   "metadata": {
    "collapsed": false
   }
  },
  {
   "cell_type": "markdown",
   "source": [
    "<h3> Дальнейшая работа и алгоритм вычисления места обгона </h3>\n",
    "Алгоритм следующий: для каждого гонщика считается его текущая позиция в каждый момент предполагаемого обгона. Обгон засчитывается, если позиция не была возвращена до конца круга, аналогично в дальнейших версиях алгоритма стоит исключить обгоны из-за заездов на питстоп. Таким образом, алгоритм будет следующим:\n",
    "<ol style=\"color: green\">\n",
    "<li>Посчитать сетку на конец круга</li>\n",
    "<li>Найти смены позиций, если таковые были</li>\n",
    "<li>Найти где была произведена окончательная смена позиций</li>\n",
    "<li style=\"color: red\">Выделить места борьбы за место</li>\n",
    "</ol>\n",
    "\n",
    "Что считается обгоном: <a href=\"https://www.motorsport.com/f1/news/overtaking-records-in-f1-most-overtakes-in-a-race-by-a-driver/6718440/\">motorsport.com</a>\n",
    "\n",
    "Чуть более подробно по пунктам:\n",
    "Первоначальная расстановка берется исходя из квалификации ( данный момент в процессе доработки, т.к. после квалификации перед гонкой могут происходить перестановки )\n",
    "Далее алгоритм:\n",
    "1. Берется расстановка на начало круга ( конец предыдущего ) и конец круга\n",
    "2. Вычисляется массив вида: a = <a style=\"color: yellow\">[1, -1, 0, 2, 0, -2 ... ]</a>, где в каждой ячейке стоит число n - количество потерянных / выигранных позиций относительно начала круга.\n",
    "3. Находится первый отрицательный элемент в массиве, назовем его <i>x</i>, тогда предыдущие abs(<i>x</i>) элементов - гонщиков, которые пропустили нашего, у предыдущих <i>x</i> элементов вычитается по единице, сам элемент x обнуляется\n",
    "4. вычисляются <i>x</i> гонщиков впереди, далее: y - рассматриваемый обогнавший гонщик, количество возможных значений <i>y</i>: abs(<i>x</i>)\n",
    "5. ищется наименьшее время, когда для обгоняемого гонщика ( с <i>x</i> потерянных позиций ), гонщик <i>y</i> оказался впереди, берется X и Y этой позиции и записывается один обгон\n",
    "\n",
    "Пример:\n",
    "[22, 11, 10] - номера гонщиков и их расположение на начало круга\n",
    "[10, 11, 22] - номера гонщиков и их расположение на конец круга\n",
    "\n",
    "тогда нужный нам массив смены мест:\n",
    "[2, 0, -2],\n",
    "первый отрицательный элемент = -2, тогда:\n",
    "1. ищем обгон 22'ого гощника 10'ым\n",
    "2. ищем обгон 22'ого гонщика 11'ым\n",
    "\n",
    "массив смены мест после этого:\n",
    "[1, -1, 0]\n",
    "Первый отрицательный элемент = -1, тогда:\n",
    "1. ищем обгон 11'ого гонщика 10'ым\n",
    "\n",
    "<a style=\"color: grey\"> Под поиском обгона подразумевается алгоритм нахождения под пунктом 5, а именно выделение наименьшего времени</a>"
   ],
   "metadata": {
    "collapsed": false
   }
  },
  {
   "cell_type": "code",
   "execution_count": null,
   "outputs": [],
   "source": [
    "laps[((laps['PitOutTime'].notna()) | (laps['PitInTime'].notna())) & (laps['DriverNumber'] == '33')]"
   ],
   "metadata": {
    "collapsed": false,
    "pycharm": {
     "name": "#%%\n"
    }
   }
  },
  {
   "cell_type": "code",
   "execution_count": null,
   "outputs": [],
   "source": [
    "laps.pick_driver(\"44\").get_telemetry()"
   ],
   "metadata": {
    "collapsed": false,
    "pycharm": {
     "name": "#%%\n"
    }
   }
  },
  {
   "cell_type": "code",
   "execution_count": 315,
   "outputs": [],
   "source": [
    "def get_starting_grid(season, race):\n",
    "    race_results = requests.get(f'http://ergast.com/api/f1/{season}/{race}/results.json').json()['MRData']['RaceTable']['Races'][0]['Results']\n",
    "    df_drivers = pd.DataFrame(race_results['Driver'].tolist())\n",
    "    \n",
    "    return np.array(race_starting)\n",
    "\n",
    "def calculate_lap_grid(data, lap_num):\n",
    "    return data[data['LapNumber'] == lap_num].sort_values(by=['LapEndTime'])\n",
    "\n",
    "def get_position_of_overtake(data, overtaken_driver, driver):\n",
    "    driver_data = data.pick_driver(overtaken_driver).get_telemetry()\n",
    "    index = driver_data[driver_data['DriverAhead'] == driver].index.min()\n",
    "    if np.isnan(index):\n",
    "        return [None, None]\n",
    "    else:\n",
    "        driver_row = driver_data.loc[[index]].iloc[0]\n",
    "        # данные достаточно плохого качества, зачастую PitOutTime не указан\n",
    "        if len(data[(data['DriverNumber'] == overtaken_driver) & (data['PitInTime'] <= driver_row['SessionTime']) & (data['PitInTime'] + pd.Timedelta(seconds=80) >= driver_row['SessionTime'])]) == 0:\n",
    "            return [driver_row['X'], driver_row['Y']]\n",
    "        else:\n",
    "            logging.info(\"Overtake during pit\")\n",
    "            return [None, None]\n",
    "\n",
    "def find_and_process_overtake(grid_to_process, data, lap_number):\n",
    "    overtaken_driver = grid_to_process[-1]\n",
    "    lap_data = data[data['LapNumber'] == lap_number]\n",
    "    overtakes = []\n",
    "    for driver in grid_to_process[:-1]:\n",
    "        x, y = get_position_of_overtake(lap_data, overtaken_driver, driver)\n",
    "        if x is not None:\n",
    "            overtakes.append([x, y])\n",
    "    return overtakes\n",
    "\n",
    "def calculate_overtakes_for_lap(grid_to_process, difference_in_grid, data, lap_number):\n",
    "    overtakes_to_find = []\n",
    "    i = 0\n",
    "    while i < len(difference_in_grid):\n",
    "        if difference_in_grid[i] < 0:\n",
    "            overtakes_to_find += (find_and_process_overtake(grid_to_process[i + difference_in_grid[i]:i + 1], data, lap_number))\n",
    "            difference_in_grid[i + difference_in_grid[i]:i] += np.full(len(difference_in_grid[i + difference_in_grid[i]:i]), -1)\n",
    "            difference_in_grid[i] = 0\n",
    "            difference_in_grid = np.array(list(difference_in_grid[:i + difference_in_grid[i]]) + list(difference_in_grid[i + difference_in_grid[i]:i]) + list(difference_in_grid[i:]))\n",
    "            i += difference_in_grid[i] - 1\n",
    "        i += 1\n",
    "    return overtakes_to_find"
   ],
   "metadata": {
    "collapsed": false,
    "pycharm": {
     "name": "#%%\n"
    }
   }
  },
  {
   "cell_type": "code",
   "execution_count": 317,
   "outputs": [
    {
     "name": "stderr",
     "output_type": "stream",
     "text": [
      "<ipython-input-315-7b97d539ff2b>       INFO \tOvertake during pit\n",
      "<ipython-input-315-7b97d539ff2b>       INFO \tOvertake during pit\n",
      "<ipython-input-315-7b97d539ff2b>       INFO \tOvertake during pit\n",
      "<ipython-input-315-7b97d539ff2b>       INFO \tOvertake during pit\n",
      "<ipython-input-315-7b97d539ff2b>       INFO \tOvertake during pit\n",
      "<ipython-input-315-7b97d539ff2b>       INFO \tOvertake during pit\n",
      "<ipython-input-315-7b97d539ff2b>       INFO \tOvertake during pit\n",
      "<ipython-input-315-7b97d539ff2b>       INFO \tOvertake during pit\n"
     ]
    }
   ],
   "source": [
    "# увы, пока мы не умеем получать настоящую расстановку на начало гонки\n",
    "def calculate_overtakes_during_race(laps, season, race):\n",
    "    previous_grid = get_starting_grid(season, race)\n",
    "    overtakes = []\n",
    "    for i in range(1, int(laps['LapNumber'].max()) + 1):\n",
    "        transition_grid = dict(zip(previous_grid, np.arange(1, len(previous_grid) + 1)))\n",
    "        current_grid = calculate_lap_grid(laps, i)['DriverNumber'].to_list()\n",
    "        previous_grid = current_grid\n",
    "        current_grid = np.array([transition_grid[driver] for driver in current_grid])\n",
    "        difference = current_grid - np.array(sorted(current_grid))\n",
    "        overtakes += calculate_overtakes_for_lap(previous_grid, difference, laps, i)\n",
    "    return overtakes\n",
    "\n",
    "overtakes = calculate_overtakes_during_race(laps, session, selected_race)"
   ],
   "metadata": {
    "collapsed": false,
    "pycharm": {
     "name": "#%%\n"
    }
   }
  },
  {
   "cell_type": "code",
   "execution_count": 310,
   "outputs": [
    {
     "data": {
      "text/plain": "[[249, -2014],\n [-7716, -6376],\n [-4846, -5560],\n [-5033, -5609],\n [203, -2099],\n [-2091, -4708],\n [-6440, -5997],\n [507, -1610],\n [248, -2028],\n [-1270, -4142],\n [-9713, -4811],\n [816, -1114],\n [770, -1189],\n [-5861, -5832],\n [-9131, -5280],\n [-3827, -5295],\n [-7930, -6431],\n [-9031, -5380],\n [1168, -581],\n [1085, -707],\n [-3564, -3401],\n [1110, -669],\n [1093, -696],\n [1076, -720],\n [1111, -667],\n [1074, -724],\n [-12169, -7645],\n [-3632, -3400],\n [-6398, -5983],\n [1090, -700],\n [-1599, -1679],\n [-2425, -4391],\n [-12129, -7711],\n [-1150, -4030],\n [-3687, -5257],\n [-3118, -4160],\n [-10982, -4527],\n [-6163, -5915],\n [-7103, -6194],\n [394, 882],\n [771, -857],\n [514, -1263],\n [479, -1318],\n [250, -1682],\n [335, -1546],\n [-191, -2383],\n [-12444, -7171],\n [-2069, -4237],\n [1076, -373],\n [1048, -416],\n [1049, -417],\n [1049, -417],\n [1048, -416],\n [811, -793],\n [331, -1553],\n [-426, -2754],\n [1100, -682],\n [1101, -334],\n [692, -981],\n [456, -1356],\n [225, -1722],\n [137, -1860],\n [621, 786],\n [510, 835],\n [819, -781],\n [607, -1115],\n [300, -1602],\n [56, -1988],\n [608, -1113],\n [586, -1149],\n [516, -1259],\n [207, -1749],\n [-734, -3240],\n [-534, -2925],\n [369, -1493],\n [385, -1467],\n [885, -676],\n [-158, -2330],\n [-262, -2496],\n [-1024, -3686],\n [1109, -321],\n [822, -776],\n [715, -946],\n [176, -1799],\n [250, -1680],\n [14, -2054],\n [5, -2067],\n [6, -2067],\n [674, -1011],\n [380, -1475],\n [-287, -2535],\n [-7891, -6421],\n [-332, -2605],\n [-3324, -4945],\n [-7181, -6216],\n [-3193, -3715],\n [822, 915],\n [846, 684],\n [-8277, -6393],\n [877, -688],\n [774, -852],\n [753, -885],\n [1059, -401],\n [922, -616],\n [897, -656],\n [-464, -2814],\n [756, 725],\n [893, 646],\n [1059, -400],\n [235, -1705],\n [-21, -2113],\n [-344, -2625],\n [1011, -475],\n [927, -609],\n [798, -813],\n [572, -1170],\n [-392, -2700],\n [-5859, -5830],\n [663, -1026],\n [577, -1163],\n [378, -1479],\n [130, -1872],\n [-3635, -3402],\n [-6204, -5927],\n [-6934, -6142],\n [-8597, -5954],\n [-6202, -5926],\n [-10862, -4521],\n [-170, -2349],\n [-359, -2650],\n [-1, -2080],\n [0, -2080],\n [-5486, -3683],\n [-6809, -6106],\n [-3563, -3401],\n [-1140, -2678],\n [150, 825],\n [-9830, -4745],\n [747, -894],\n [-3036, -4311]]"
     },
     "execution_count": 310,
     "metadata": {},
     "output_type": "execute_result"
    }
   ],
   "source": [
    "overtakes"
   ],
   "metadata": {
    "collapsed": false,
    "pycharm": {
     "name": "#%%\n"
    }
   }
  },
  {
   "cell_type": "markdown",
   "source": [
    "## Посмотрим на визуализацию мест обгонов на одной конкретной трассе за разные года. Для этого выберем трассу которая не менялась с 2014 года.\n",
    " <i style=\"color: #ff2800\"> небольшое уточнение, все координаты представлены в 1/10 метра, мы разделим всю трассу на зоны"
   ],
   "metadata": {
    "collapsed": false
   }
  },
  {
   "cell_type": "code",
   "execution_count": 311,
   "outputs": [],
   "source": [
    "x_size_of_sector = 50\n",
    "y_size_of_sector = 50"
   ],
   "metadata": {
    "collapsed": false,
    "pycharm": {
     "name": "#%%\n"
    }
   }
  },
  {
   "cell_type": "markdown",
   "source": [
    "<h2> Давайте создадим нашу трассу </h2>"
   ],
   "metadata": {
    "collapsed": false
   }
  },
  {
   "cell_type": "code",
   "execution_count": 313,
   "outputs": [],
   "source": [
    "def num_of_overtakes_in_segment(point, overtakes_df):\n",
    "    return len(overtakes_df[(overtakes_df['X'] == math.floor(point['X'] // 10  // x_size_of_sector)) & (overtakes_df['Y'] == math.floor(point['Y'] // 10 // y_size_of_sector))])\n",
    "\n",
    "lap = laps.pick_fastest()\n",
    "tel = lap.get_telemetry()\n",
    "\n",
    "x = np.array(tel['X'].values)\n",
    "y = np.array(tel['Y'].values)\n",
    "\n",
    "overtakes_to_display = pd.DataFrame({\"X\": x, \"Y\": y})\n",
    "overtakes_to_process = pd.DataFrame({\"X\": [x[0] for x in overtakes], \"Y\": [x[1] for x in overtakes]})\n",
    "overtakes_to_process['X'] = overtakes_to_process['X'].apply(lambda i: math.floor(i // 10  // x_size_of_sector))\n",
    "overtakes_to_process['Y'] = overtakes_to_process['Y'].apply(lambda i: math.floor(i // 10  // x_size_of_sector))\n",
    "overtakes_to_display['nOvertakes'] = overtakes_to_display.apply(lambda i: num_of_overtakes_in_segment(i, overtakes_to_process), axis=1)\n",
    "\n",
    "points = np.array([x, y]).T.reshape(-1, 1, 2)\n",
    "segments = np.concatenate([points[:-1], points[1:]], axis=1)"
   ],
   "metadata": {
    "collapsed": false,
    "pycharm": {
     "name": "#%%\n"
    }
   }
  },
  {
   "cell_type": "code",
   "execution_count": 314,
   "outputs": [
    {
     "data": {
      "text/plain": "<Figure size 1205.85x800 with 1 Axes>",
      "image/png": "[encoded data removed]"
     },
     "metadata": {
      "needs_background": "light"
     },
     "output_type": "display_data"
    }
   ],
   "source": [
    "from matplotlib.collections import LineCollection\n",
    "from matplotlib import cm\n",
    "import matplotlib.pyplot as plt\n",
    "\n",
    "max_x = overtakes_to_display['X'].max() + 500\n",
    "min_x = overtakes_to_display['X'].min() - 500\n",
    "max_y = overtakes_to_display['Y'].max() + 500\n",
    "min_y = overtakes_to_display['Y'].min() - 500\n",
    "\n",
    "fig,ax = plt.subplots(figsize=(10 * (max_x + abs(min_x)) / (max_y + abs(min_y)), 10), dpi=80)\n",
    "\n",
    "overtake = overtakes_to_display['nOvertakes'].to_numpy().astype(float)\n",
    "\n",
    "cmap = cm.get_cmap('Paired')\n",
    "lc_comp = LineCollection(segments, norm=plt.Normalize(1, cmap.N+1), cmap=cmap)\n",
    "lc_comp.set_array(overtake)\n",
    "lc_comp.set_linewidth(4)\n",
    "ax.add_collection(lc_comp)\n",
    "\n",
    "major_ticks_x = np.arange(min_x, max_x, 10 * x_size_of_sector)\n",
    "minor_ticks_x = np.arange(min_x, max_x, x_size_of_sector)\n",
    "\n",
    "major_ticks_y = np.arange(min_y, max_y, 10 * y_size_of_sector)\n",
    "minor_ticks_y = np.arange(min_y, max_y, y_size_of_sector)\n",
    "\n",
    "ax.set_xticks(major_ticks_x)\n",
    "ax.set_xticks(minor_ticks_x, minor=True)\n",
    "ax.set_yticks(major_ticks_y)\n",
    "ax.set_yticks(minor_ticks_y, minor=True)\n",
    "plt.grid()\n",
    "plt.xticks(rotation=90)\n",
    "plt.show()"
   ],
   "metadata": {
    "collapsed": false,
    "pycharm": {
     "name": "#%%\n"
    }
   }
  },
  {
   "cell_type": "markdown",
   "source": [
    "Попробуем получить настоящие данные трасс ( увы, дальнейшее использование невозможно т.к. датасет не содержит все нужные треки, но он достоин упомянания:\n",
    "<a href=\"https://github.com/TUMFTM/racetrack-database\"> github.com </a>"
   ],
   "metadata": {
    "collapsed": false
   }
  },
  {
   "cell_type": "code",
   "execution_count": 43,
   "outputs": [],
   "source": [
    "map_data = pd.read_csv(\"Monza.csv\")\n",
    "map_data.rename(columns={\"# x_m\": \"x_m\"}, inplace=True)"
   ],
   "metadata": {
    "collapsed": false,
    "pycharm": {
     "name": "#%%\n"
    }
   }
  },
  {
   "cell_type": "code",
   "execution_count": 44,
   "outputs": [
    {
     "name": "stderr",
     "output_type": "stream",
     "text": [
      "<ipython-input-44-63169f991a4a>:10: UserWarning: Matplotlib is currently using module://ipykernel.pylab.backend_inline, which is a non-GUI backend, so cannot show the figure.\n",
      "  fig.show()\n"
     ]
    },
    {
     "data": {
      "text/plain": "<Figure size 720x720 with 1 Axes>",
      "image/png": "[encoded data removed]"
     },
     "metadata": {
      "needs_background": "light"
     },
     "output_type": "display_data"
    }
   ],
   "source": [
    "x = map_data['x_m']\n",
    "y = map_data['y_m']\n",
    "points = np.array([x, y]).T.reshape(-1, 1, 2)\n",
    "segments = np.concatenate([points[:-1], points[1:]], axis=1)\n",
    "lc = LineCollection(segments, linewidths=map_data['w_tr_left_m'] + map_data['w_tr_right_m'], color='red')\n",
    "fig, a = plt.subplots(figsize=[10, 10])\n",
    "a.add_collection(lc)\n",
    "a.set_xlim(x.min() - 10, x.max() + 10)\n",
    "a.set_ylim(y.min() - 10, y.max() + 10)\n",
    "fig.show()"
   ],
   "metadata": {
    "collapsed": false,
    "pycharm": {
     "name": "#%%\n"
    }
   }
  },
  {
   "cell_type": "markdown",
   "source": [],
   "metadata": {
    "collapsed": false
   }
  },
  {
   "cell_type": "markdown",
   "source": [
    "Предполагаемое описание алгоритма:\n",
    "<ol style=\"color: red\">\n",
    "<li>Выделить только первые записи для каждого сектора</li>\n",
    "<li>Посчитать была ли смена позиций в конце сектора</li>\n",
    "<li>Добавить среднюю скорость на секторе, скорость автомобиля впереди, среднее кол-во обгонов на секторе за круг</li>\n",
    "</ol>\n",
    "\n",
    "Что важно отметить:\n",
    "Мы уберем упомянание команды и гонщика из выборки, вот по каким причинам: из года в год значимость команды меняется, то, что мерседес доминировали в 2019 году не дает никаких гарантий на последующие гонки. Введём альтернативу: позиция команды в кубке конструкторов и позиция гонщика в общем зачете на данный момент"
   ],
   "metadata": {
    "collapsed": false
   }
  },
  {
   "cell_type": "markdown",
   "source": [
    "Нами был сформирован достаточно обширный датасет хранящий в себе данный о гонщике и данные о гонщике впереди, мы попытаемся предсказать был ли обгон в конце сектора по началу сектора"
   ],
   "metadata": {
    "collapsed": false,
    "pycharm": {
     "name": "#%% md\n"
    }
   }
  },
  {
   "cell_type": "code",
   "execution_count": 45,
   "outputs": [],
   "source": [
    "from sklearn.ensemble import RandomForestClassifier\n",
    "from sklearn.model_selection import train_test_split\n",
    "from sklearn.metrics import f1_score, roc_auc_score, precision_score, recall_score, precision_recall_curve\n",
    "\n",
    "data = pd.read_csv(\"complete_df_2021_1.csv\")\n",
    "data = data.append(pd.read_csv(\"complete_df_2021_2.csv\"))\n",
    "data = data.append(pd.read_csv(\"complete_df_2021_3.csv\"))\n",
    "data = data.append(pd.read_csv(\"complete_df_2021_4.csv\"))\n",
    "data = data.append(pd.read_csv(\"complete_df_2021_5.csv\"))\n",
    "data.drop(columns=['Unnamed: 0', 'Unnamed: 0.1'], inplace=True)\n",
    "X = data.drop(columns=['Overtake', 'Status', 'SessionTime', 'Date', 'Source', 'Time'])\n",
    "y = data['Overtake']\n",
    "\n",
    "X_train, X_test, y_train, y_test = train_test_split(X, y, test_size=0.3)"
   ],
   "metadata": {
    "collapsed": false,
    "pycharm": {
     "name": "#%%\n"
    }
   }
  },
  {
   "cell_type": "code",
   "execution_count": 279,
   "outputs": [],
   "source": [
    "from sklearn.model_selection import RandomizedSearchCV\n",
    "\n",
    "def search_best_params(X_df, y_df):\n",
    "    n_estimators = [int(x) for x in np.linspace(start = 200, stop = 2000, num = 10)]\n",
    "    max_features = ['auto', 'sqrt']\n",
    "\n",
    "    max_depth = [int(x) for x in np.linspace(10, 110, num = 11)]\n",
    "    max_depth.append(None)\n",
    "\n",
    "    min_samples_split = [2, 5, 10]\n",
    "    min_samples_leaf = [1, 2, 4]\n",
    "    bootstrap = [True, False]\n",
    "    random_grid = {'n_estimators': n_estimators,\n",
    "                   'max_features': max_features,\n",
    "                   'max_depth': max_depth,\n",
    "                   'min_samples_split': min_samples_split,\n",
    "                   'min_samples_leaf': min_samples_leaf,\n",
    "                   'bootstrap': bootstrap}\n",
    "    rf = RandomForestClassifier()\n",
    "    rf_random = RandomizedSearchCV(estimator = rf, param_distributions = random_grid, scoring='precision',refit='precision', n_iter = 100, cv = 3, verbose=2, random_state=42, n_jobs = -1)\n",
    "    rf_random.fit(X_df, y_df)\n",
    "    return rf_random"
   ],
   "metadata": {
    "collapsed": false,
    "pycharm": {
     "name": "#%%\n"
    }
   }
  },
  {
   "cell_type": "code",
   "execution_count": 47,
   "outputs": [
    {
     "name": "stdout",
     "output_type": "stream",
     "text": [
      "0.8411552346570397 0.9662616114707094 0.758957654723127 0.9433198380566802 (array([0.03478383, 0.75895765, 1.        ]), array([1.        , 0.94331984, 0.        ]), array([0., 1.]))\n"
     ]
    }
   ],
   "source": [
    "clf = RandomForestClassifier(n_estimators= 800, min_samples_split= 2, min_samples_leaf = 1, max_features='auto',max_depth=100, bootstrap= True)\n",
    "clf.fit(X_train, y_train)\n",
    "y_pred = clf.predict(X_test)\n",
    "\n",
    "print(f1_score(y_pred, y_test), roc_auc_score(y_pred, y_test), precision_score(y_pred, y_test), recall_score(y_pred, y_test), precision_recall_curve(y_pred, y_test))"
   ],
   "metadata": {
    "collapsed": false,
    "pycharm": {
     "name": "#%%\n"
    }
   }
  },
  {
   "cell_type": "markdown",
   "source": [
    "Общая идея алгоритма: мы предсказываем вероятность обгона на каждом отдельном участке, если вероятность обгона выросла -> мы даем гонщику очки, если вероятность понизилась - забираем. Если гонщик совершил обгон - добавляем 1 - вероятность обгона, если гонщика обогнали, то из его очков вычитаем 1 - вероятность обгона, назовем этот параметр adv: attack-defence value. Аналогично, в дальнейшем планируется добавить возможность оценивать атаку и оборону отдельно.\n",
    "В дальнейшем планируется комплексно оценивать и другие действия пилотов.\n",
    "\n",
    "reference model: <a href=\"https://statsbomb.com/articles/soccer/introducing-on-ball-value-obv/\"> statsbomb obv </a>"
   ],
   "metadata": {
    "collapsed": false
   }
  },
  {
   "cell_type": "code",
   "execution_count": 48,
   "outputs": [],
   "source": [
    "y_proba = clf.predict_proba(X)\n",
    "X['probability_of_overtake'] = y_proba[:, 1]\n",
    "X['points_gained'] = np.zeros(len(X))"
   ],
   "metadata": {
    "collapsed": false,
    "pycharm": {
     "name": "#%%\n"
    }
   }
  },
  {
   "cell_type": "code",
   "execution_count": 49,
   "outputs": [],
   "source": [
    "for driver in X['DriverNumber'].unique():\n",
    "    driver_df = X[X['DriverNumber'] == driver].copy()\n",
    "    driver_df['points_gained'] = driver_df['probability_of_overtake'].diff()\n",
    "    X.loc[X['DriverNumber'] == driver, 'points_gained'] = driver_df['points_gained']\n",
    "\n",
    "X['points_gained'] = X['points_gained'].fillna(0)"
   ],
   "metadata": {
    "collapsed": false,
    "pycharm": {
     "name": "#%%\n"
    }
   }
  },
  {
   "cell_type": "markdown",
   "source": [
    "На данном этапе мы имеем датафрейм,который содержит подробную информацию о кругах, которые гонщик совершил в квалификации, теперь давайте сформируем данные, которые мы будем анализировать, а именно - результаты квалификации. Мы хотим добавить следующие параметры:\n",
    "- adv гонщика на данной трассе за все время\n",
    "- adv гонщика в сезоне\n",
    "- является ли гонка домашней\n",
    "- положение гонщика в общем зачете\n",
    "- положение команды в общем зачете"
   ],
   "metadata": {
    "collapsed": false
   }
  },
  {
   "cell_type": "markdown",
   "source": [
    "<h3>Предскажем результат гонки по результату квалификации без использования метрики</h3>"
   ],
   "metadata": {
    "collapsed": false
   }
  },
  {
   "cell_type": "markdown",
   "source": [
    "Для начала получим национальности гонщиков и команд. Это может быть важно, так как когда мы говорим о спорте нельзя не учитывать психологический эффект"
   ],
   "metadata": {
    "collapsed": false
   }
  },
  {
   "cell_type": "code",
   "execution_count": 128,
   "outputs": [],
   "source": [
    "import logging\n",
    "\n",
    "def get_circuit(season, race):\n",
    "    request = requests.get(f'http://ergast.com/api/f1/{season}/{race}/circuits.json').json()['MRData']['CircuitTable']['Circuits'][0]\n",
    "    return {\"country\": request['Location']['country'], \"circuit_name\": request['circuitName']}"
   ],
   "metadata": {
    "collapsed": false,
    "pycharm": {
     "name": "#%%\n"
    }
   }
  },
  {
   "cell_type": "code",
   "execution_count": 184,
   "outputs": [],
   "source": [
    "def get_driver_points(race_results, driver):\n",
    "    try:\n",
    "        return race_results.loc[driver['name']]['points']\n",
    "    except KeyError:\n",
    "        return 0\n",
    "\n",
    "def get_standings(season, race,  drivers, constructors):\n",
    "    constructors_standings = pd.DataFrame({\n",
    "        'name': constructors.index,\n",
    "        'points': np.zeros(len(constructors)),\n",
    "    })\n",
    "    drivers_standings = pd.DataFrame({\n",
    "        'name': drivers.index,\n",
    "        'points': np.zeros(len(drivers)),\n",
    "    })\n",
    "    for r in range(1, race):\n",
    "        while True:\n",
    "            try:\n",
    "                race_results = requests.get(f'http://ergast.com/api/f1/{season}/{r}/results.json').json()['MRData']['RaceTable']['Races'][0]['Results']\n",
    "                break\n",
    "            except Exception as e:\n",
    "                logging.error(e)\n",
    "\n",
    "        race_results = pd.DataFrame.from_dict(race_results)\n",
    "        if 'FastestLap' in race_results.columns:\n",
    "            race_results.drop(columns=['FastestLap'], inplace=True)\n",
    "        race_results['constructor'] = race_results['Constructor'].apply(lambda constructor: constructor['name'])\n",
    "        race_results['driverCode'] = race_results['Driver'].apply(lambda driver: driver['code'])\n",
    "        race_results.drop(columns=['Constructor', 'Time', 'status', 'laps', 'positionText', 'Driver', 'grid'], inplace=True)\n",
    "        race_results['number'] = race_results['number'].astype(str)\n",
    "        race_results = race_results.set_index(['driverCode'])\n",
    "        race_results['points'] = race_results['points'].astype(float)\n",
    "\n",
    "        drivers_standings['points'] = drivers_standings.apply(lambda driver:\n",
    "                                                                        driver['points'] + get_driver_points(race_results, driver), axis=1)\n",
    "        constructors_standings['points'] = constructors_standings.apply(lambda constructor:\n",
    "                                                                        constructor['points'] + race_results[race_results['constructor'] == constructor['name']]['points'].sum(), axis=1)\n",
    "\n",
    "    return drivers_standings, constructors_standings"
   ],
   "metadata": {
    "collapsed": false,
    "pycharm": {
     "name": "#%%\n"
    }
   }
  },
  {
   "cell_type": "code",
   "execution_count": 181,
   "outputs": [],
   "source": [
    "def process_api_response(response):\n",
    "    results = pd.DataFrame.from_dict(response)\n",
    "    df_drivers = pd.DataFrame(results['Driver'].tolist())\n",
    "    df_constructor = pd.DataFrame(results['Constructor'].tolist())\n",
    "    df_constructor.rename(columns={'nationality': 'team_nationality'}, inplace=True)\n",
    "    results = pd.concat([results, df_drivers, df_constructor], axis=1)\n",
    "    results.drop(columns=['Driver', 'Constructor', 'positionText', 'status', 'Time', 'FastestLap', 'url', 'givenName', 'familyName', 'dateOfBirth', 'permanentNumber'], inplace=True,  errors='ignore')\n",
    "    return results.set_index(['code'])"
   ],
   "metadata": {
    "collapsed": false,
    "pycharm": {
     "name": "#%%\n"
    }
   }
  },
  {
   "cell_type": "code",
   "execution_count": 332,
   "outputs": [
    {
     "ename": "SyntaxError",
     "evalue": "invalid syntax (<ipython-input-332-58cc70e05c6e>, line 123)",
     "output_type": "error",
     "traceback": [
      "\u001B[0;36m  File \u001B[0;32m\"<ipython-input-332-58cc70e05c6e>\"\u001B[0;36m, line \u001B[0;32m123\u001B[0m\n\u001B[0;31m    new_df['AverageNumOfOvertakesOnTrack'] =\u001B[0m\n\u001B[0m                                            ^\u001B[0m\n\u001B[0;31mSyntaxError\u001B[0m\u001B[0;31m:\u001B[0m invalid syntax\n"
     ]
    }
   ],
   "source": [
    "def get_session_dataframe(season, race):\n",
    "    # гонщики\n",
    "    drivers = requests.get(f'http://ergast.com/api/f1/{season}/{race}/drivers.json').json()['MRData']['DriverTable']['Drivers']\n",
    "    if len(drivers) == 0:\n",
    "        return None, \"season or race not found\"\n",
    "    drivers = pd.DataFrame.from_dict(drivers)\n",
    "    drivers.drop(columns=['url', 'driverId', 'permanentNumber'], inplace=True)\n",
    "    drivers = drivers.set_index(['code'])\n",
    "\n",
    "    # национальности - страна\n",
    "    nationalities = pd.read_csv('countries.csv')\n",
    "    nationalities.drop(columns=['CCA2', 'CCA3'], inplace=True)\n",
    "    nationalities = nationalities.set_index('Name').T.to_dict('records')[0]\n",
    "\n",
    "    # конструкторы\n",
    "    constructors = requests.get(f'http://ergast.com/api/f1/{season}/{race}/constructors.json').json()['MRData']['ConstructorTable']['Constructors']\n",
    "    constructors = pd.DataFrame.from_dict(constructors)\n",
    "    constructors.drop(columns=['url', 'constructorId'], inplace=True)\n",
    "    constructors = constructors.set_index(['name'])\n",
    "\n",
    "    drivers_standings, constructors_standings = get_standings(selected_season, selected_race, drivers, constructors)\n",
    "    constructors_standings = constructors_standings.set_index(['name'])\n",
    "    drivers_standings = drivers_standings.set_index(['name'])\n",
    "\n",
    "    circuit = get_circuit(season, race)\n",
    "    circuit_country, circuit_name = circuit['country'], circuit['circuit_name']\n",
    "\n",
    "    quali_data = pd.DataFrame({\n",
    "        'DriverAbbreviation': [],\n",
    "        'Team': [],\n",
    "        'IsAtHomeDriver': [],\n",
    "        'IsAtHomeTeam': [],\n",
    "        'ConstructorsStandingPercentile': [],\n",
    "        'DriversChampionshipPercentile': [],\n",
    "        'QualiPlace': [],\n",
    "        'StartingGridPlace': [],\n",
    "        'ClearWeather': [],\n",
    "        'LightRainWeather': [],\n",
    "        'HeavyRainWeather': [],\n",
    "        'Circuit' : [],\n",
    "        'Season' : [],\n",
    "        'Race' : [],\n",
    "        'RaceResults': []\n",
    "    })\n",
    "\n",
    "    try:\n",
    "        track_country_nationality = nationalities[circuit_country]\n",
    "    except KeyError:\n",
    "        track_country_nationality = None\n",
    "\n",
    "    # получаем и обрабатываем результаты квалификации из api\n",
    "    quali_results = requests.get(f'http://ergast.com/api/f1/{season}/qualifying/{race}/results.json').json()['MRData']['RaceTable']['Races'][0]['Results']\n",
    "    quali_results = process_api_response(quali_results)\n",
    "\n",
    "    # получаем результаты гонки из api\n",
    "    race_results = requests.get(f'http://ergast.com/api/f1/{season}/{race}/results.json').json()['MRData']['RaceTable']['Races'][0]['Results']\n",
    "    race_results = process_api_response(race_results)\n",
    "    try:\n",
    "        race_session = ff1.get_session(season, race, 'R')\n",
    "        race_session.load(weather=True)\n",
    "        weather_clear = not race_session.weather_data['Rainfall'].any()\n",
    "        weather_h_rain = race_session.weather_data['Rainfall'].all()\n",
    "        weather_l_rain = race_session.weather_data['Rainfall'].any() and not weather_h_rain\n",
    "\n",
    "    except Exception as _:\n",
    "        weather_clear = False\n",
    "        weather_h_rain = False\n",
    "        weather_l_rain = False\n",
    "\n",
    "    for index, driver in drivers.iterrows():\n",
    "        try:\n",
    "            driver_row = quali_results.loc[index]\n",
    "            drivers_place = int(driver_row['position'])\n",
    "        except KeyError:\n",
    "            logging.error(\"driver not found\")\n",
    "            break\n",
    "\n",
    "        driver_team = driver_row['name']\n",
    "        data = [index,\n",
    "                driver_team,\n",
    "                track_country_nationality == driver['nationality'],\n",
    "                constructors.loc[driver_team]['nationality'] == track_country_nationality,\n",
    "                stats.percentileofscore(constructors_standings['points'], constructors_standings.loc[driver_team]['points']) / 100,\n",
    "                stats.percentileofscore(drivers_standings['points'], drivers_standings.loc[index]['points']) / 100,\n",
    "                drivers_place,\n",
    "                int(race_results.loc[index]['grid']),\n",
    "                weather_clear,\n",
    "                weather_l_rain,\n",
    "                weather_h_rain,\n",
    "                circuit_name,\n",
    "                season,\n",
    "                race,\n",
    "                int(race_results.loc[index]['position']),\n",
    "                ]\n",
    "        quali_data = pd.concat([pd.DataFrame([data], columns=quali_data.columns), quali_data], ignore_index=True)\n",
    "    return quali_data, None\n",
    "\n",
    "total_df = pd.DataFrame({\n",
    "    'DriverAbbreviation': [],\n",
    "    'Team': [],\n",
    "    'IsAtHomeDriver': [],\n",
    "    'IsAtHomeTeam': [],\n",
    "    'ConstructorsStandingPercentile': [],\n",
    "    'DriversChampionshipPercentile': [],\n",
    "    'QualiPlace': [],\n",
    "    'ClearWeather': [],\n",
    "    'LightRainWeather': [],\n",
    "    'HeavyRainWeather': [],\n",
    "    'Circuit' : [],\n",
    "    'Season' : [],\n",
    "    'Race' : [],\n",
    "    'RaceResults': [],\n",
    "})\n",
    "\n",
    "\n",
    "\n",
    "for year in range(2021, 2009, -1):\n",
    "    for race in range(1, 23):\n",
    "        logging.info(f\"{year}, {race} - started\")\n",
    "        new_df, error = get_session_dataframe(year, race)\n",
    "        if year > 2017:\n",
    "            overtakes = calculate_overtakes_during_race(laps, year, race)\n",
    "            new_df['AverageNumOfOvertakesOnTrack'] =\n",
    "        if error is not None:\n",
    "            if error == \"season or race not found\":\n",
    "                break\n",
    "            print(error)\n",
    "        else:\n",
    "            total_df = pd.concat([new_df, total_df], ignore_index=True)\n",
    "\n",
    "print(total_df)"
   ],
   "metadata": {
    "collapsed": false,
    "pycharm": {
     "name": "#%%\n"
    }
   }
  },
  {
   "cell_type": "code",
   "execution_count": 266,
   "outputs": [],
   "source": [
    "total_df_dummies = total_df.drop(columns=['DriverAbbreviation', 'Team'])\n",
    "total_df_dummies = total_df_dummies.join(pd.get_dummies(total_df_dummies.select_dtypes(include=['object'])))\n",
    "total_df_dummies.drop(columns=total_df_dummies.select_dtypes(include=['object']).columns, inplace=True)\n",
    "train = total_df_dummies[total_df_dummies['Season'] < 2019]\n",
    "test = total_df_dummies[total_df_dummies['Season'] > 2018]\n",
    "\n",
    "X_train = train.drop(columns=['RaceResults'])\n",
    "X_test = test.drop(columns=['RaceResults'])\n",
    "y_train = train['RaceResults'] == 1\n",
    "y_test = (test['RaceResults'] == 1).astype(int)"
   ],
   "metadata": {
    "collapsed": false,
    "pycharm": {
     "name": "#%%\n"
    }
   }
  },
  {
   "cell_type": "code",
   "execution_count": 271,
   "outputs": [],
   "source": [
    "def transform_predictions(X_test, y_pred):\n",
    "    X_preds = X_test.copy()\n",
    "    X_preds['win_proba'] = y_pred[:, 1]\n",
    "    for name, group in X_preds.groupby(['Season', 'Race']):\n",
    "        X_preds.loc[(X_preds['Season'] == name[0]) & (X_preds['Race'] == name[1]), 'winner'] = X_preds[(X_preds['Season'] == name[0]) & (X_preds['Race'] == name[1])]['win_proba'] == max(group['win_proba'])\n",
    "    y_pred = X_preds['winner'].astype(int)\n",
    "    return y_pred"
   ],
   "metadata": {
    "collapsed": false,
    "pycharm": {
     "name": "#%%\n"
    }
   }
  },
  {
   "cell_type": "code",
   "execution_count": 280,
   "outputs": [
    {
     "name": "stdout",
     "output_type": "stream",
     "text": [
      "Fitting 3 folds for each of 100 candidates, totalling 300 fits\n"
     ]
    },
    {
     "data": {
      "text/plain": "(0.43103448275862066,\n 0.6903407733116667,\n 0.45454545454545453,\n 0.4098360655737705)"
     },
     "execution_count": 280,
     "metadata": {},
     "output_type": "execute_result"
    }
   ],
   "source": [
    "clf_searched = search_best_params(X_train, y_train)\n",
    "clf = clf_searched.best_estimator_\n",
    "y_pred = clf.predict_proba(X_test)\n",
    "y_pred = transform_predictions(X_test, y_pred)\n",
    "f1_score(y_pred, y_test), roc_auc_score(y_pred, y_test), precision_score(y_pred, y_test), recall_score(y_pred, y_test)"
   ],
   "metadata": {
    "collapsed": false,
    "pycharm": {
     "name": "#%%\n"
    }
   }
  },
  {
   "cell_type": "code",
   "execution_count": 275,
   "outputs": [
    {
     "data": {
      "text/plain": "(0.5087719298245613,\n 0.7331535945026221,\n 0.5272727272727272,\n 0.4915254237288136)"
     },
     "execution_count": 275,
     "metadata": {},
     "output_type": "execute_result"
    }
   ],
   "source": [
    "clf = RandomForestClassifier(n_estimators=200, min_samples_split=5, min_samples_leaf=2, max_features='auto', max_depth=90, bootstrap=False)\n",
    "clf.fit(X_train, y_train)\n",
    "y_pred = clf.predict_proba(X_test)\n",
    "y_pred = transform_predictions(X_test, y_pred)\n",
    "f1_score(y_pred, y_test), roc_auc_score(y_pred, y_test), precision_score(y_pred, y_test), recall_score(y_pred, y_test)"
   ],
   "metadata": {
    "collapsed": false,
    "pycharm": {
     "name": "#%%\n"
    }
   }
  },
  {
   "cell_type": "code",
   "execution_count": 319,
   "outputs": [
    {
     "data": {
      "text/plain": "(0.24561403508771928,\n 0.5987604596491806,\n 0.2545454545454545,\n 0.23728813559322035)"
     },
     "execution_count": 319,
     "metadata": {},
     "output_type": "execute_result"
    }
   ],
   "source": [
    "from sklearn.linear_model import LogisticRegression\n",
    "\n",
    "lr = LogisticRegression(max_iter=5000)\n",
    "lr.fit(X_train, y_train)\n",
    "y_pred = lr.predict_proba(X_test)\n",
    "y_pred = transform_predictions(X_test, y_pred)\n",
    "f1_score(y_pred, y_test), roc_auc_score(y_pred, y_test), precision_score(y_pred, y_test), recall_score(y_pred, y_test)"
   ],
   "metadata": {
    "collapsed": false,
    "pycharm": {
     "name": "#%%\n"
    }
   }
  }
 ],
 "metadata": {
  "kernelspec": {
   "display_name": "Python 3",
   "language": "python",
   "name": "python3"
  },
  "language_info": {
   "codemirror_mode": {
    "name": "ipython",
    "version": 2
   },
   "file_extension": ".py",
   "mimetype": "text/x-python",
   "name": "python",
   "nbconvert_exporter": "python",
   "pygments_lexer": "ipython2",
   "version": "2.7.6"
  }
 },
 "nbformat": 4,
 "nbformat_minor": 0
}