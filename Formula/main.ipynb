{
 "cells": [
  {
   "cell_type": "markdown",
   "source": [
    "<h1>Анализ формулы один с использованием методов машинного обучения и математической статистики</h1>"
   ],
   "metadata": {
    "collapsed": false
   }
  },
  {
   "cell_type": "markdown",
   "source": [
    "<h2>Первоначальной нашей целью будет прогноз вероятности совершения обгона на каждом из участков трассы.</h2>"
   ],
   "metadata": {
    "collapsed": false
   }
  },
  {
   "cell_type": "code",
   "execution_count": 1,
   "metadata": {
    "collapsed": true
   },
   "outputs": [],
   "source": [
    "import fastf1 as ff1\n",
    "import pandas as pd\n",
    "import numpy as np\n",
    "import datetime\n",
    "import math\n",
    "\n",
    "ff1.Cache.enable_cache('cache')\n",
    "session = ff1.get_session(2021, 22, 'R')\n",
    "quali = ff1.get_session(2021, 22, 'Q')\n",
    "quali = pd.DataFrame(quali.results)"
   ]
  },
  {
   "cell_type": "code",
   "execution_count": 2,
   "outputs": [
    {
     "name": "stderr",
     "output_type": "stream",
     "text": [
      "core           INFO \tLoading laps for Abu Dhabi Grand Prix - Race [v2.1.13]\n",
      "api            INFO \tUsing cached data for timing_data\n",
      "api            INFO \tUsing cached data for timing_app_data\n",
      "core           INFO \tProcessing timing data...\n",
      "api            INFO \tUsing cached data for driver_info\n",
      "api            INFO \tUsing cached data for session_status_data\n",
      "utils          INFO \tNumExpr defaulting to 8 threads.\n",
      "api            INFO \tUsing cached data for track_status_data\n",
      "api            INFO \tUsing cached data for car_data\n",
      "api            INFO \tUsing cached data for position_data\n",
      "api            INFO \tUsing cached data for weather_data\n",
      "core           INFO \tLoaded data for 19 drivers: ['55', '7', '31', '33', '18', '77', '22', '14', '16', '44', '6', '63', '99', '3', '47', '11', '10', '4', '5']\n",
      "api            INFO \tUsing cached data for car_data\n",
      "api            INFO \tUsing cached data for position_data\n"
     ]
    }
   ],
   "source": [
    "laps = session.load_laps(with_telemetry=True)\n",
    "session.load_telemetry()"
   ],
   "metadata": {
    "collapsed": false,
    "pycharm": {
     "name": "#%%\n"
    }
   }
  },
  {
   "cell_type": "code",
   "execution_count": 3,
   "outputs": [
    {
     "data": {
      "text/plain": "                      Time DriverNumber                LapTime  LapNumber  \\\n0   0 days 01:03:54.885000           33                    NaT          1   \n1   0 days 01:05:23.988000           33 0 days 00:01:29.103000          2   \n2   0 days 01:06:52.815000           33 0 days 00:01:28.827000          3   \n3   0 days 01:08:21.841000           33 0 days 00:01:29.026000          4   \n4   0 days 01:09:50.559000           33 0 days 00:01:28.718000          5   \n..                     ...          ...                    ...        ...   \n993 0 days 02:24:55.281000           47 0 days 00:02:11.605000         53   \n994 0 days 02:26:39.361000           47 0 days 00:01:44.080000         54   \n995 0 days 02:28:57.976000           47 0 days 00:02:18.615000         55   \n996 0 days 02:31:17.001000           47 0 days 00:02:19.025000         56   \n997 0 days 02:32:48.022000           47 0 days 00:01:31.021000         57   \n\n     Stint             PitOutTime PitInTime            Sector1Time  \\\n0        1 0 days 00:23:01.492000       NaT                    NaT   \n1        1                    NaT       NaT 0 days 00:00:18.116000   \n2        1                    NaT       NaT 0 days 00:00:17.999000   \n3        1                    NaT       NaT 0 days 00:00:18.019000   \n4        1                    NaT       NaT 0 days 00:00:17.999000   \n..     ...                    ...       ...                    ...   \n993      3 0 days 02:23:04.752000       NaT 0 days 00:00:40.395000   \n994      3                    NaT       NaT 0 days 00:00:19.591000   \n995      3                    NaT       NaT 0 days 00:00:22.400000   \n996      3                    NaT       NaT 0 days 00:00:28.870000   \n997      3                    NaT       NaT 0 days 00:00:19.287000   \n\n               Sector2Time            Sector3Time  ... SpeedST Compound  \\\n0   0 days 00:00:38.428000 0 days 00:00:33.563000  ...   318.0     SOFT   \n1   0 days 00:00:38.026000 0 days 00:00:32.961000  ...   302.0     SOFT   \n2   0 days 00:00:38.043000 0 days 00:00:32.785000  ...   301.0     SOFT   \n3   0 days 00:00:38.125000 0 days 00:00:32.882000  ...   303.0     SOFT   \n4   0 days 00:00:38.083000 0 days 00:00:32.636000  ...   303.0     SOFT   \n..                     ...                    ...  ...     ...      ...   \n993 0 days 00:00:48.541000 0 days 00:00:42.669000  ...   203.0     SOFT   \n994 0 days 00:00:42.890000 0 days 00:00:41.599000  ...   268.0     SOFT   \n995 0 days 00:01:02.169000 0 days 00:00:54.046000  ...   257.0     SOFT   \n996 0 days 00:00:56.316000 0 days 00:00:53.839000  ...   258.0     SOFT   \n997 0 days 00:00:37.859000 0 days 00:00:33.875000  ...   309.0     SOFT   \n\n    TyreLife  FreshTyre           LapStartTime          Team  Driver  \\\n0        4.0      False 0 days 01:02:21.871000      Red Bull     VER   \n1        5.0      False 0 days 01:03:54.885000      Red Bull     VER   \n2        6.0      False 0 days 01:05:23.988000      Red Bull     VER   \n3        7.0      False 0 days 01:06:52.815000      Red Bull     VER   \n4        8.0      False 0 days 01:08:21.841000      Red Bull     VER   \n..       ...        ...                    ...           ...     ...   \n993      4.0      False 0 days 02:22:43.676000  Haas F1 Team     MSC   \n994      5.0      False 0 days 02:24:55.281000  Haas F1 Team     MSC   \n995      6.0      False 0 days 02:26:39.361000  Haas F1 Team     MSC   \n996      7.0      False 0 days 02:28:57.976000  Haas F1 Team     MSC   \n997      8.0      False 0 days 02:31:17.001000  Haas F1 Team     MSC   \n\n    TrackStatus  IsAccurate            LapStartDate  \n0             1       False 2021-12-12 13:03:21.881  \n1             1        True 2021-12-12 13:04:54.895  \n2             1        True 2021-12-12 13:06:23.998  \n3             1        True 2021-12-12 13:07:52.825  \n4             1        True 2021-12-12 13:09:21.851  \n..          ...         ...                     ...  \n993           4       False 2021-12-12 14:23:43.686  \n994           4       False 2021-12-12 14:25:55.291  \n995           4       False 2021-12-12 14:27:39.371  \n996           4       False 2021-12-12 14:29:57.986  \n997           1       False 2021-12-12 14:32:17.011  \n\n[998 rows x 26 columns]",
      "text/html": "<div>\n<style scoped>\n    .dataframe tbody tr th:only-of-type {\n        vertical-align: middle;\n    }\n\n    .dataframe tbody tr th {\n        vertical-align: top;\n    }\n\n    .dataframe thead th {\n        text-align: right;\n    }\n</style>\n<table border=\"1\" class=\"dataframe\">\n  <thead>\n    <tr style=\"text-align: right;\">\n      <th></th>\n      <th>Time</th>\n      <th>DriverNumber</th>\n      <th>LapTime</th>\n      <th>LapNumber</th>\n      <th>Stint</th>\n      <th>PitOutTime</th>\n      <th>PitInTime</th>\n      <th>Sector1Time</th>\n      <th>Sector2Time</th>\n      <th>Sector3Time</th>\n      <th>...</th>\n      <th>SpeedST</th>\n      <th>Compound</th>\n      <th>TyreLife</th>\n      <th>FreshTyre</th>\n      <th>LapStartTime</th>\n      <th>Team</th>\n      <th>Driver</th>\n      <th>TrackStatus</th>\n      <th>IsAccurate</th>\n      <th>LapStartDate</th>\n    </tr>\n  </thead>\n  <tbody>\n    <tr>\n      <th>0</th>\n      <td>0 days 01:03:54.885000</td>\n      <td>33</td>\n      <td>NaT</td>\n      <td>1</td>\n      <td>1</td>\n      <td>0 days 00:23:01.492000</td>\n      <td>NaT</td>\n      <td>NaT</td>\n      <td>0 days 00:00:38.428000</td>\n      <td>0 days 00:00:33.563000</td>\n      <td>...</td>\n      <td>318.0</td>\n      <td>SOFT</td>\n      <td>4.0</td>\n      <td>False</td>\n      <td>0 days 01:02:21.871000</td>\n      <td>Red Bull</td>\n      <td>VER</td>\n      <td>1</td>\n      <td>False</td>\n      <td>2021-12-12 13:03:21.881</td>\n    </tr>\n    <tr>\n      <th>1</th>\n      <td>0 days 01:05:23.988000</td>\n      <td>33</td>\n      <td>0 days 00:01:29.103000</td>\n      <td>2</td>\n      <td>1</td>\n      <td>NaT</td>\n      <td>NaT</td>\n      <td>0 days 00:00:18.116000</td>\n      <td>0 days 00:00:38.026000</td>\n      <td>0 days 00:00:32.961000</td>\n      <td>...</td>\n      <td>302.0</td>\n      <td>SOFT</td>\n      <td>5.0</td>\n      <td>False</td>\n      <td>0 days 01:03:54.885000</td>\n      <td>Red Bull</td>\n      <td>VER</td>\n      <td>1</td>\n      <td>True</td>\n      <td>2021-12-12 13:04:54.895</td>\n    </tr>\n    <tr>\n      <th>2</th>\n      <td>0 days 01:06:52.815000</td>\n      <td>33</td>\n      <td>0 days 00:01:28.827000</td>\n      <td>3</td>\n      <td>1</td>\n      <td>NaT</td>\n      <td>NaT</td>\n      <td>0 days 00:00:17.999000</td>\n      <td>0 days 00:00:38.043000</td>\n      <td>0 days 00:00:32.785000</td>\n      <td>...</td>\n      <td>301.0</td>\n      <td>SOFT</td>\n      <td>6.0</td>\n      <td>False</td>\n      <td>0 days 01:05:23.988000</td>\n      <td>Red Bull</td>\n      <td>VER</td>\n      <td>1</td>\n      <td>True</td>\n      <td>2021-12-12 13:06:23.998</td>\n    </tr>\n    <tr>\n      <th>3</th>\n      <td>0 days 01:08:21.841000</td>\n      <td>33</td>\n      <td>0 days 00:01:29.026000</td>\n      <td>4</td>\n      <td>1</td>\n      <td>NaT</td>\n      <td>NaT</td>\n      <td>0 days 00:00:18.019000</td>\n      <td>0 days 00:00:38.125000</td>\n      <td>0 days 00:00:32.882000</td>\n      <td>...</td>\n      <td>303.0</td>\n      <td>SOFT</td>\n      <td>7.0</td>\n      <td>False</td>\n      <td>0 days 01:06:52.815000</td>\n      <td>Red Bull</td>\n      <td>VER</td>\n      <td>1</td>\n      <td>True</td>\n      <td>2021-12-12 13:07:52.825</td>\n    </tr>\n    <tr>\n      <th>4</th>\n      <td>0 days 01:09:50.559000</td>\n      <td>33</td>\n      <td>0 days 00:01:28.718000</td>\n      <td>5</td>\n      <td>1</td>\n      <td>NaT</td>\n      <td>NaT</td>\n      <td>0 days 00:00:17.999000</td>\n      <td>0 days 00:00:38.083000</td>\n      <td>0 days 00:00:32.636000</td>\n      <td>...</td>\n      <td>303.0</td>\n      <td>SOFT</td>\n      <td>8.0</td>\n      <td>False</td>\n      <td>0 days 01:08:21.841000</td>\n      <td>Red Bull</td>\n      <td>VER</td>\n      <td>1</td>\n      <td>True</td>\n      <td>2021-12-12 13:09:21.851</td>\n    </tr>\n    <tr>\n      <th>...</th>\n      <td>...</td>\n      <td>...</td>\n      <td>...</td>\n      <td>...</td>\n      <td>...</td>\n      <td>...</td>\n      <td>...</td>\n      <td>...</td>\n      <td>...</td>\n      <td>...</td>\n      <td>...</td>\n      <td>...</td>\n      <td>...</td>\n      <td>...</td>\n      <td>...</td>\n      <td>...</td>\n      <td>...</td>\n      <td>...</td>\n      <td>...</td>\n      <td>...</td>\n      <td>...</td>\n    </tr>\n    <tr>\n      <th>993</th>\n      <td>0 days 02:24:55.281000</td>\n      <td>47</td>\n      <td>0 days 00:02:11.605000</td>\n      <td>53</td>\n      <td>3</td>\n      <td>0 days 02:23:04.752000</td>\n      <td>NaT</td>\n      <td>0 days 00:00:40.395000</td>\n      <td>0 days 00:00:48.541000</td>\n      <td>0 days 00:00:42.669000</td>\n      <td>...</td>\n      <td>203.0</td>\n      <td>SOFT</td>\n      <td>4.0</td>\n      <td>False</td>\n      <td>0 days 02:22:43.676000</td>\n      <td>Haas F1 Team</td>\n      <td>MSC</td>\n      <td>4</td>\n      <td>False</td>\n      <td>2021-12-12 14:23:43.686</td>\n    </tr>\n    <tr>\n      <th>994</th>\n      <td>0 days 02:26:39.361000</td>\n      <td>47</td>\n      <td>0 days 00:01:44.080000</td>\n      <td>54</td>\n      <td>3</td>\n      <td>NaT</td>\n      <td>NaT</td>\n      <td>0 days 00:00:19.591000</td>\n      <td>0 days 00:00:42.890000</td>\n      <td>0 days 00:00:41.599000</td>\n      <td>...</td>\n      <td>268.0</td>\n      <td>SOFT</td>\n      <td>5.0</td>\n      <td>False</td>\n      <td>0 days 02:24:55.281000</td>\n      <td>Haas F1 Team</td>\n      <td>MSC</td>\n      <td>4</td>\n      <td>False</td>\n      <td>2021-12-12 14:25:55.291</td>\n    </tr>\n    <tr>\n      <th>995</th>\n      <td>0 days 02:28:57.976000</td>\n      <td>47</td>\n      <td>0 days 00:02:18.615000</td>\n      <td>55</td>\n      <td>3</td>\n      <td>NaT</td>\n      <td>NaT</td>\n      <td>0 days 00:00:22.400000</td>\n      <td>0 days 00:01:02.169000</td>\n      <td>0 days 00:00:54.046000</td>\n      <td>...</td>\n      <td>257.0</td>\n      <td>SOFT</td>\n      <td>6.0</td>\n      <td>False</td>\n      <td>0 days 02:26:39.361000</td>\n      <td>Haas F1 Team</td>\n      <td>MSC</td>\n      <td>4</td>\n      <td>False</td>\n      <td>2021-12-12 14:27:39.371</td>\n    </tr>\n    <tr>\n      <th>996</th>\n      <td>0 days 02:31:17.001000</td>\n      <td>47</td>\n      <td>0 days 00:02:19.025000</td>\n      <td>56</td>\n      <td>3</td>\n      <td>NaT</td>\n      <td>NaT</td>\n      <td>0 days 00:00:28.870000</td>\n      <td>0 days 00:00:56.316000</td>\n      <td>0 days 00:00:53.839000</td>\n      <td>...</td>\n      <td>258.0</td>\n      <td>SOFT</td>\n      <td>7.0</td>\n      <td>False</td>\n      <td>0 days 02:28:57.976000</td>\n      <td>Haas F1 Team</td>\n      <td>MSC</td>\n      <td>4</td>\n      <td>False</td>\n      <td>2021-12-12 14:29:57.986</td>\n    </tr>\n    <tr>\n      <th>997</th>\n      <td>0 days 02:32:48.022000</td>\n      <td>47</td>\n      <td>0 days 00:01:31.021000</td>\n      <td>57</td>\n      <td>3</td>\n      <td>NaT</td>\n      <td>NaT</td>\n      <td>0 days 00:00:19.287000</td>\n      <td>0 days 00:00:37.859000</td>\n      <td>0 days 00:00:33.875000</td>\n      <td>...</td>\n      <td>309.0</td>\n      <td>SOFT</td>\n      <td>8.0</td>\n      <td>False</td>\n      <td>0 days 02:31:17.001000</td>\n      <td>Haas F1 Team</td>\n      <td>MSC</td>\n      <td>1</td>\n      <td>False</td>\n      <td>2021-12-12 14:32:17.011</td>\n    </tr>\n  </tbody>\n</table>\n<p>998 rows × 26 columns</p>\n</div>"
     },
     "execution_count": 3,
     "metadata": {},
     "output_type": "execute_result"
    }
   ],
   "source": [
    "laps"
   ],
   "metadata": {
    "collapsed": false,
    "pycharm": {
     "name": "#%%\n"
    }
   }
  },
  {
   "cell_type": "markdown",
   "source": [
    "Сделаем подготовку данных для просчета обгонов\n",
    "Отберем для каждого гонщика те записи, где менялся гонщик впереди, аналогичные же записи отберем для других гонщиков"
   ],
   "metadata": {
    "collapsed": false
   }
  },
  {
   "cell_type": "code",
   "execution_count": null,
   "outputs": [],
   "source": [],
   "metadata": {
    "collapsed": false,
    "pycharm": {
     "name": "#%%\n"
    }
   }
  },
  {
   "cell_type": "code",
   "execution_count": 4,
   "outputs": [
    {
     "name": "stdout",
     "output_type": "stream",
     "text": [
      "Tick ended 0 days 00:00:05.300000\n",
      "Tick ended 0 days 00:00:05.367000\n",
      "Tick ended 0 days 00:00:05.520000\n",
      "Tick ended 0 days 00:00:05.607000\n",
      "Tick ended 0 days 00:00:05.740000\n",
      "Tick ended 0 days 00:00:05.847000\n",
      "Tick ended 0 days 00:00:05.960000\n",
      "Tick ended 0 days 00:00:06.127000\n",
      "Tick ended 0 days 00:00:06.180000\n",
      "Tick ended 0 days 00:00:06.367000\n",
      "Tick ended 0 days 00:00:06.400000\n",
      "Tick ended 0 days 00:00:06.568000\n",
      "Tick ended 0 days 00:00:06.620000\n",
      "Tick ended 0 days 00:00:06.840000\n",
      "Tick ended 0 days 00:00:06.848000\n",
      "Tick ended 0 days 00:00:07.041000\n",
      "Tick ended 0 days 00:00:07.088000\n",
      "Tick ended 0 days 00:00:07.261000\n",
      "Tick ended 0 days 00:00:07.328000\n",
      "Tick ended 0 days 00:00:07.481000\n",
      "[33, 47] peleton updated\n",
      "Tick ended 0 days 00:00:07.701000\n",
      "Tick skipped 0 days 00:00:07.808000\n",
      "[4, 47] peleton updated\n",
      "Tick ended 0 days 00:00:08.048000\n",
      "Tick skipped 0 days 00:00:08.141000\n",
      "Tick skipped 0 days 00:00:08.288000\n",
      "Tick skipped 0 days 00:00:08.361000\n",
      "Tick skipped 0 days 00:00:08.528000\n",
      "Tick skipped 0 days 00:00:08.581000\n",
      "Tick skipped 0 days 00:00:08.767000\n",
      "Tick skipped 0 days 00:00:08.801000\n",
      "Tick skipped 0 days 00:00:09.007000\n",
      "Tick skipped 0 days 00:00:09.021000\n",
      "Tick skipped 0 days 00:00:09.241000\n",
      "[5, 47] peleton updated\n",
      "Tick ended 0 days 00:00:09.461000\n",
      "Tick ended 0 days 00:00:09.487000\n",
      "Tick ended 0 days 00:00:09.681000\n",
      "Tick ended 0 days 00:00:09.727000\n",
      "Tick ended 0 days 00:00:09.901000\n",
      "[63, 47] peleton updated\n",
      "Tick ended 0 days 00:00:10.121000\n",
      "[63, 47] peleton updated\n",
      "Tick ended 0 days 00:00:10.341000\n",
      "[63, 47] peleton updated\n",
      "Tick ended 0 days 00:00:10.561000\n",
      "Tick skipped 0 days 00:00:10.727000\n",
      "Tick skipped 0 days 00:00:10.781000\n",
      "Tick ended 0 days 00:00:10.967000\n",
      "Tick ended 0 days 00:00:11.001000\n",
      "Tick ended 0 days 00:00:11.207000\n",
      "Tick ended 0 days 00:00:11.221000\n",
      "Tick ended 0 days 00:00:11.441000\n",
      "Tick ended 0 days 00:00:11.487000\n",
      "Tick ended 0 days 00:00:11.660000\n",
      "Tick ended 0 days 00:00:11.727000\n",
      "Tick ended 0 days 00:00:11.880000\n",
      "Tick ended 0 days 00:00:11.967000\n",
      "Tick ended 0 days 00:00:12.100000\n",
      "Tick ended 0 days 00:00:12.207000\n",
      "Tick ended 0 days 00:00:12.320000\n",
      "Tick ended 0 days 00:00:12.447000\n",
      "Tick ended 0 days 00:00:12.540000\n",
      "Tick ended 0 days 00:00:12.687000\n",
      "Tick ended 0 days 00:00:12.760000\n",
      "Tick ended 0 days 00:00:12.927000\n",
      "Tick ended 0 days 00:00:12.980000\n",
      "Tick ended 0 days 00:00:13.168000\n",
      "Tick ended 0 days 00:00:13.200000\n",
      "Tick ended 0 days 00:00:13.408000\n",
      "Tick ended 0 days 00:00:13.420000\n",
      "Tick ended 0 days 00:00:13.621000\n",
      "Tick ended 0 days 00:00:13.648000\n",
      "Tick ended 0 days 00:00:13.841000\n",
      "Tick ended 0 days 00:00:13.888000\n",
      "Tick ended 0 days 00:00:14.061000\n",
      "Tick ended 0 days 00:00:14.128000\n",
      "Tick ended 0 days 00:00:14.281000\n",
      "Tick ended 0 days 00:00:14.368000\n",
      "Tick ended 0 days 00:00:14.501000\n",
      "Tick ended 0 days 00:00:14.608000\n",
      "Tick ended 0 days 00:00:14.721000\n",
      "Tick ended 0 days 00:00:14.848000\n",
      "Tick ended 0 days 00:00:14.941000\n",
      "Tick ended 0 days 00:00:15.128000\n",
      "Tick ended 0 days 00:00:15.161000\n",
      "Tick ended 0 days 00:00:15.368000\n",
      "Tick ended 0 days 00:00:15.381000\n",
      "Tick ended 0 days 00:00:15.601000\n",
      "Tick ended 0 days 00:00:15.607000\n",
      "Tick ended 0 days 00:00:15.821000\n",
      "Tick ended 0 days 00:00:15.847000\n",
      "Tick ended 0 days 00:00:16.041000\n",
      "[6, 47] peleton updated\n",
      "Tick ended 0 days 00:00:16.261000\n",
      "[6, 47] peleton updated\n",
      "Tick ended 0 days 00:00:16.481000\n",
      "[6, 47] peleton updated\n",
      "Tick ended 0 days 00:00:16.701000\n",
      "Tick ended 0 days 00:00:16.807000\n",
      "Tick ended 0 days 00:00:16.921000\n",
      "Tick ended 0 days 00:00:17.047000\n",
      "Tick ended 0 days 00:00:17.141000\n",
      "Tick ended 0 days 00:00:17.287000\n",
      "Tick ended 0 days 00:00:17.361000\n",
      "Tick ended 0 days 00:00:17.527000\n",
      "Tick ended 0 days 00:00:17.581000\n",
      "Tick ended 0 days 00:00:17.767000\n",
      "Tick ended 0 days 00:00:17.801000\n",
      "Tick ended 0 days 00:00:18.007000\n",
      "Tick ended 0 days 00:00:18.021000\n",
      "Tick ended 0 days 00:00:18.240000\n",
      "Tick ended 0 days 00:00:18.247000\n",
      "Tick ended 0 days 00:00:18.460000\n",
      "Tick ended 0 days 00:00:18.487000\n",
      "Tick ended 0 days 00:00:18.680000\n",
      "Tick ended 0 days 00:00:18.727000\n",
      "Tick ended 0 days 00:00:18.900000\n",
      "Tick ended 0 days 00:00:18.967000\n",
      "Tick ended 0 days 00:00:19.120000\n",
      "Tick ended 0 days 00:00:19.247000\n",
      "Tick ended 0 days 00:00:19.340000\n",
      "Tick ended 0 days 00:00:19.487000\n",
      "[18, 47] peleton updated\n",
      "Tick ended 0 days 00:00:19.688000\n",
      "[18, 47] peleton updated\n",
      "Tick ended 0 days 00:00:19.928000\n",
      "[18, 47] peleton updated\n",
      "Tick ended 0 days 00:00:20.168000\n",
      "[18, 47] peleton updated\n",
      "Tick ended 0 days 00:00:20.408000\n",
      "[18, 47] peleton updated\n",
      "Tick ended 0 days 00:00:20.641000\n",
      "[18, 47] peleton updated\n",
      "Tick ended 0 days 00:00:20.861000\n",
      "[18, 47] peleton updated\n",
      "Tick ended 0 days 00:00:21.081000\n",
      "[18, 47] peleton updated\n",
      "Tick ended 0 days 00:00:21.301000\n",
      "Tick ended 0 days 00:00:21.368000\n",
      "Tick ended 0 days 00:00:21.521000\n",
      "Tick ended 0 days 00:00:21.608000\n",
      "Tick ended 0 days 00:00:21.741000\n",
      "Tick ended 0 days 00:00:21.848000\n",
      "Tick ended 0 days 00:00:21.961000\n",
      "Tick ended 0 days 00:00:22.127000\n",
      "Tick ended 0 days 00:00:22.181000\n",
      "Tick ended 0 days 00:00:22.367000\n",
      "Tick ended 0 days 00:00:22.401000\n",
      "Tick ended 0 days 00:00:22.607000\n",
      "Tick ended 0 days 00:00:22.621000\n",
      "Tick ended 0 days 00:00:22.841000\n",
      "Tick ended 0 days 00:00:22.847000\n",
      "Tick ended 0 days 00:00:23.061000\n",
      "Tick ended 0 days 00:00:23.087000\n",
      "Tick ended 0 days 00:00:23.281000\n",
      "[7, 47] peleton updated\n",
      "Tick ended 0 days 00:00:23.501000\n",
      "[7, 47] peleton updated\n",
      "Tick ended 0 days 00:00:23.721000\n",
      "Tick ended 0 days 00:00:23.807000\n",
      "Tick ended 0 days 00:00:23.941000\n",
      "Tick ended 0 days 00:00:24.047000\n",
      "Tick ended 0 days 00:00:24.161000\n",
      "Tick ended 0 days 00:00:24.287000\n",
      "Tick ended 0 days 00:00:24.381000\n",
      "Tick ended 0 days 00:00:24.527000\n",
      "Tick ended 0 days 00:00:24.601000\n",
      "[7, 47] peleton updated\n",
      "Tick ended 0 days 00:00:24.820000\n",
      "[7, 47] peleton updated\n",
      "Tick ended 0 days 00:00:25.040000\n",
      "[7, 47] peleton updated\n",
      "Tick ended 0 days 00:00:25.260000\n",
      "[7, 47] peleton updated\n",
      "Tick ended 0 days 00:00:25.487000\n",
      "[7, 47] peleton updated\n",
      "Tick ended 0 days 00:00:25.727000\n",
      "[7, 47] peleton updated\n",
      "Tick ended 0 days 00:00:25.967000\n",
      "Tick skipped 0 days 00:00:26.140000\n",
      "Tick skipped 0 days 00:00:26.168000\n",
      "Tick skipped 0 days 00:00:26.360000\n",
      "Tick skipped 0 days 00:00:26.408000\n",
      "Tick skipped 0 days 00:00:26.580000\n",
      "Tick skipped 0 days 00:00:26.648000\n",
      "Tick skipped 0 days 00:00:26.781000\n",
      "Tick skipped 0 days 00:00:26.888000\n",
      "Tick skipped 0 days 00:00:27.001000\n",
      "Tick skipped 0 days 00:00:27.128000\n",
      "Tick skipped 0 days 00:00:27.221000\n",
      "Tick skipped 0 days 00:00:27.368000\n",
      "Tick skipped 0 days 00:00:27.441000\n",
      "Tick skipped 0 days 00:00:27.608000\n",
      "Tick skipped 0 days 00:00:27.661000\n",
      "Tick skipped 0 days 00:00:27.881000\n",
      "Tick skipped 0 days 00:00:27.888000\n",
      "Tick skipped 0 days 00:00:28.101000\n",
      "Tick skipped 0 days 00:00:28.128000\n",
      "Tick skipped 0 days 00:00:28.321000\n",
      "Tick skipped 0 days 00:00:28.368000\n",
      "Tick skipped 0 days 00:00:28.541000\n",
      "Tick skipped 0 days 00:00:28.608000\n",
      "Tick skipped 0 days 00:00:28.761000\n",
      "Tick skipped 0 days 00:00:28.847000\n",
      "Tick skipped 0 days 00:00:28.981000\n",
      "Tick skipped 0 days 00:00:29.087000\n",
      "Tick skipped 0 days 00:00:29.201000\n",
      "Tick skipped 0 days 00:00:29.327000\n",
      "Tick skipped 0 days 00:00:29.421000\n",
      "Tick skipped 0 days 00:00:29.607000\n",
      "Tick skipped 0 days 00:00:29.641000\n",
      "Tick skipped 0 days 00:00:29.847000\n",
      "Tick skipped 0 days 00:00:29.861000\n",
      "Tick ended 0 days 00:00:30.081000\n",
      "Tick ended 0 days 00:00:30.087000\n",
      "Tick skipped 0 days 00:00:30.301000\n",
      "Tick skipped 0 days 00:00:30.327000\n",
      "Tick ended 0 days 00:00:30.521000\n",
      "Tick ended 0 days 00:00:30.567000\n",
      "Tick ended 0 days 00:00:30.741000\n",
      "Tick ended 0 days 00:00:30.807000\n",
      "Tick ended 0 days 00:00:30.961000\n",
      "Tick ended 0 days 00:00:31.047000\n",
      "Tick ended 0 days 00:00:31.181000\n",
      "Tick ended 0 days 00:00:31.287000\n",
      "Tick ended 0 days 00:00:31.400000\n",
      "Tick ended 0 days 00:00:31.567000\n",
      "Tick ended 0 days 00:00:31.620000\n",
      "Tick ended 0 days 00:00:31.807000\n",
      "Tick ended 0 days 00:00:31.840000\n",
      "Tick ended 0 days 00:00:32.047000\n",
      "Tick ended 0 days 00:00:32.060000\n",
      "Tick ended 0 days 00:00:32.280000\n",
      "Tick ended 0 days 00:00:32.287000\n",
      "Tick skipped 0 days 00:00:32.500000\n",
      "Tick skipped 0 days 00:00:32.527000\n",
      "Tick skipped 0 days 00:00:32.720000\n",
      "Tick skipped 0 days 00:00:32.728000\n",
      "Tick ended 0 days 00:00:32.940000\n",
      "Tick ended 0 days 00:00:32.968000\n",
      "Tick ended 0 days 00:00:33.160000\n",
      "Tick skipped 0 days 00:00:33.208000\n",
      "Tick skipped 0 days 00:00:33.361000\n",
      "Tick ended 0 days 00:00:33.448000\n",
      "Tick ended 0 days 00:00:33.581000\n",
      "Tick skipped 0 days 00:00:33.688000\n",
      "Tick skipped 0 days 00:00:33.801000\n",
      "Tick skipped 0 days 00:00:33.928000\n",
      "Tick skipped 0 days 00:00:34.021000\n",
      "Tick skipped 0 days 00:00:34.168000\n",
      "Tick skipped 0 days 00:00:34.241000\n",
      "Tick ended 0 days 00:00:34.408000\n",
      "Tick ended 0 days 00:00:34.461000\n",
      "Tick ended 0 days 00:00:34.648000\n",
      "Tick ended 0 days 00:00:34.681000\n",
      "Tick skipped 0 days 00:00:34.888000\n",
      "Tick skipped 0 days 00:00:34.901000\n",
      "Tick skipped 0 days 00:00:35.121000\n",
      "Tick skipped 0 days 00:00:35.128000\n",
      "Tick skipped 0 days 00:00:35.341000\n",
      "Tick ended 0 days 00:00:35.368000\n",
      "Tick ended 0 days 00:00:35.561000\n",
      "Tick ended 0 days 00:00:35.607000\n",
      "Tick ended 0 days 00:00:35.781000\n",
      "Tick ended 0 days 00:00:35.847000\n",
      "Tick ended 0 days 00:00:36.001000\n",
      "Tick ended 0 days 00:00:36.087000\n",
      "Tick ended 0 days 00:00:36.221000\n",
      "Tick ended 0 days 00:00:36.327000\n",
      "Tick ended 0 days 00:00:36.441000\n",
      "Tick ended 0 days 00:00:36.567000\n",
      "Tick ended 0 days 00:00:36.661000\n",
      "Tick ended 0 days 00:00:36.807000\n",
      "Tick ended 0 days 00:00:36.881000\n",
      "Tick ended 0 days 00:00:37.047000\n",
      "Tick ended 0 days 00:00:37.101000\n",
      "Tick ended 0 days 00:00:37.287000\n",
      "Tick ended 0 days 00:00:37.321000\n",
      "Tick ended 0 days 00:00:37.527000\n",
      "Tick ended 0 days 00:00:37.541000\n",
      "Tick ended 0 days 00:00:37.761000\n",
      "Tick ended 0 days 00:00:37.767000\n",
      "Tick ended 0 days 00:00:37.980000\n",
      "Tick ended 0 days 00:00:38.007000\n",
      "Tick ended 0 days 00:00:38.200000\n",
      "Tick ended 0 days 00:00:38.247000\n",
      "Tick ended 0 days 00:00:38.420000\n",
      "Tick ended 0 days 00:00:38.487000\n",
      "Tick ended 0 days 00:00:38.640000\n",
      "Tick ended 0 days 00:00:38.727000\n",
      "Tick ended 0 days 00:00:38.860000\n",
      "Tick ended 0 days 00:00:38.967000\n",
      "Tick ended 0 days 00:00:39.080000\n",
      "Tick ended 0 days 00:00:39.247000\n",
      "Tick ended 0 days 00:00:39.300000\n",
      "Tick ended 0 days 00:00:39.448000\n",
      "Tick ended 0 days 00:00:39.520000\n",
      "Tick ended 0 days 00:00:39.688000\n",
      "Tick ended 0 days 00:00:39.740000\n",
      "Tick ended 0 days 00:00:39.928000\n",
      "Tick ended 0 days 00:00:39.941000\n"
     ]
    },
    {
     "ename": "KeyboardInterrupt",
     "evalue": "",
     "output_type": "error",
     "traceback": [
      "\u001B[0;31m---------------------------------------------------------------------------\u001B[0m",
      "\u001B[0;31mKeyboardInterrupt\u001B[0m                         Traceback (most recent call last)",
      "\u001B[0;32m<ipython-input-4-3b022765072d>\u001B[0m in \u001B[0;36m<module>\u001B[0;34m\u001B[0m\n\u001B[1;32m     51\u001B[0m \u001B[0;34m\u001B[0m\u001B[0m\n\u001B[1;32m     52\u001B[0m \u001B[0;34m\u001B[0m\u001B[0m\n\u001B[0;32m---> 53\u001B[0;31m \u001B[0mget_peleton_changes\u001B[0m\u001B[0;34m(\u001B[0m\u001B[0;34m)\u001B[0m\u001B[0;34m\u001B[0m\u001B[0;34m\u001B[0m\u001B[0m\n\u001B[0m",
      "\u001B[0;32m<ipython-input-4-3b022765072d>\u001B[0m in \u001B[0;36mget_peleton_changes\u001B[0;34m()\u001B[0m\n\u001B[1;32m     20\u001B[0m         \u001B[0mcurrent_time\u001B[0m \u001B[0;34m=\u001B[0m \u001B[0mdriver_laps\u001B[0m\u001B[0;34m.\u001B[0m\u001B[0mloc\u001B[0m\u001B[0;34m[\u001B[0m\u001B[0;34m[\u001B[0m\u001B[0mcurrent_time_index\u001B[0m\u001B[0;34m]\u001B[0m\u001B[0;34m]\u001B[0m\u001B[0;34m.\u001B[0m\u001B[0miloc\u001B[0m\u001B[0;34m[\u001B[0m\u001B[0;36m0\u001B[0m\u001B[0;34m]\u001B[0m\u001B[0;34m[\u001B[0m\u001B[0;34m'Time'\u001B[0m\u001B[0;34m]\u001B[0m\u001B[0;34m\u001B[0m\u001B[0;34m\u001B[0m\u001B[0m\n\u001B[1;32m     21\u001B[0m         \u001B[0;32mwhile\u001B[0m \u001B[0mdriver_ahead_num\u001B[0m \u001B[0;34m!=\u001B[0m \u001B[0;34m''\u001B[0m\u001B[0;34m:\u001B[0m\u001B[0;34m\u001B[0m\u001B[0;34m\u001B[0m\u001B[0m\n\u001B[0;32m---> 22\u001B[0;31m             \u001B[0mdriver_ahead\u001B[0m \u001B[0;34m=\u001B[0m \u001B[0mlaps\u001B[0m\u001B[0;34m.\u001B[0m\u001B[0mpick_driver\u001B[0m\u001B[0;34m(\u001B[0m\u001B[0mdriver_ahead_num\u001B[0m\u001B[0;34m)\u001B[0m\u001B[0;34m.\u001B[0m\u001B[0mget_telemetry\u001B[0m\u001B[0;34m(\u001B[0m\u001B[0;34m)\u001B[0m\u001B[0;34m\u001B[0m\u001B[0;34m\u001B[0m\u001B[0m\n\u001B[0m\u001B[1;32m     23\u001B[0m             \u001B[0mahead_tick\u001B[0m \u001B[0;34m=\u001B[0m \u001B[0mdriver_ahead\u001B[0m\u001B[0;34m[\u001B[0m\u001B[0;34m(\u001B[0m\u001B[0mdriver_ahead\u001B[0m\u001B[0;34m[\u001B[0m\u001B[0;34m'Time'\u001B[0m\u001B[0;34m]\u001B[0m \u001B[0;34m>=\u001B[0m \u001B[0mcurrent_time\u001B[0m\u001B[0;34m)\u001B[0m\u001B[0;34m]\u001B[0m\u001B[0;34m.\u001B[0m\u001B[0mindex\u001B[0m\u001B[0;34m.\u001B[0m\u001B[0mmin\u001B[0m\u001B[0;34m(\u001B[0m\u001B[0;34m)\u001B[0m\u001B[0;34m\u001B[0m\u001B[0;34m\u001B[0m\u001B[0m\n\u001B[1;32m     24\u001B[0m             \u001B[0mahead_tick\u001B[0m \u001B[0;34m=\u001B[0m \u001B[0mdriver_ahead\u001B[0m\u001B[0;34m.\u001B[0m\u001B[0mloc\u001B[0m\u001B[0;34m[\u001B[0m\u001B[0mahead_tick\u001B[0m\u001B[0;34m]\u001B[0m\u001B[0;34m\u001B[0m\u001B[0;34m\u001B[0m\u001B[0m\n",
      "\u001B[0;32m~/opt/anaconda3/lib/python3.8/site-packages/fastf1/core.py\u001B[0m in \u001B[0;36mget_telemetry\u001B[0;34m(self)\u001B[0m\n\u001B[1;32m   1717\u001B[0m         \u001B[0;31m# calculate driver ahead from from data without padding to\u001B[0m\u001B[0;34m\u001B[0m\u001B[0;34m\u001B[0m\u001B[0;34m\u001B[0m\u001B[0m\n\u001B[1;32m   1718\u001B[0m         \u001B[0;31m# prevent out of bounds errors\u001B[0m\u001B[0;34m\u001B[0m\u001B[0;34m\u001B[0m\u001B[0;34m\u001B[0m\u001B[0m\n\u001B[0;32m-> 1719\u001B[0;31m         \u001B[0mdrv_ahead\u001B[0m \u001B[0;34m=\u001B[0m \u001B[0mcar_data\u001B[0m\u001B[0;34m.\u001B[0m\u001B[0miloc\u001B[0m\u001B[0;34m[\u001B[0m\u001B[0;36m1\u001B[0m\u001B[0;34m:\u001B[0m\u001B[0;34m-\u001B[0m\u001B[0;36m1\u001B[0m\u001B[0;34m]\u001B[0m\u001B[0;34m.\u001B[0m\u001B[0madd_driver_ahead\u001B[0m\u001B[0;34m(\u001B[0m\u001B[0;34m)\u001B[0m\u001B[0;31m \u001B[0m\u001B[0;31m\\\u001B[0m\u001B[0;34m\u001B[0m\u001B[0;34m\u001B[0m\u001B[0m\n\u001B[0m\u001B[1;32m   1720\u001B[0m             .loc[:, ('DriverAhead', 'DistanceToDriverAhead',\n\u001B[1;32m   1721\u001B[0m                      'Date', 'Time', 'SessionTime')]\n",
      "\u001B[0;32m~/opt/anaconda3/lib/python3.8/site-packages/fastf1/core.py\u001B[0m in \u001B[0;36madd_driver_ahead\u001B[0;34m(self, drop_existing)\u001B[0m\n\u001B[1;32m    827\u001B[0m             \u001B[0md\u001B[0m \u001B[0;34m=\u001B[0m \u001B[0mself\u001B[0m\u001B[0;34m\u001B[0m\u001B[0;34m\u001B[0m\u001B[0m\n\u001B[1;32m    828\u001B[0m \u001B[0;34m\u001B[0m\u001B[0m\n\u001B[0;32m--> 829\u001B[0;31m         \u001B[0mdrv_ahead\u001B[0m\u001B[0;34m,\u001B[0m \u001B[0mdist\u001B[0m \u001B[0;34m=\u001B[0m \u001B[0mself\u001B[0m\u001B[0;34m.\u001B[0m\u001B[0mcalculate_driver_ahead\u001B[0m\u001B[0;34m(\u001B[0m\u001B[0;34m)\u001B[0m\u001B[0;34m\u001B[0m\u001B[0;34m\u001B[0m\u001B[0m\n\u001B[0m\u001B[1;32m    830\u001B[0m         return d.join(pd.DataFrame({'DriverAhead': drv_ahead,\n\u001B[1;32m    831\u001B[0m                                     'DistanceToDriverAhead': dist},\n",
      "\u001B[0;32m~/opt/anaconda3/lib/python3.8/site-packages/fastf1/core.py\u001B[0m in \u001B[0;36mcalculate_driver_ahead\u001B[0;34m(self)\u001B[0m\n\u001B[1;32m    901\u001B[0m             \u001B[0;32mif\u001B[0m \u001B[0mdrv_laps\u001B[0m\u001B[0;34m.\u001B[0m\u001B[0mempty\u001B[0m\u001B[0;34m:\u001B[0m  \u001B[0;31m# Only include drivers who participated in this session\u001B[0m\u001B[0;34m\u001B[0m\u001B[0;34m\u001B[0m\u001B[0m\n\u001B[1;32m    902\u001B[0m                 \u001B[0;32mcontinue\u001B[0m\u001B[0;34m\u001B[0m\u001B[0;34m\u001B[0m\u001B[0m\n\u001B[0;32m--> 903\u001B[0;31m             \u001B[0mdrv_laps_before\u001B[0m \u001B[0;34m=\u001B[0m \u001B[0mdrv_laps\u001B[0m\u001B[0;34m[\u001B[0m\u001B[0;34m(\u001B[0m\u001B[0mdrv_laps\u001B[0m\u001B[0;34m[\u001B[0m\u001B[0;34m'LapStartTime'\u001B[0m\u001B[0;34m]\u001B[0m \u001B[0;34m<=\u001B[0m \u001B[0mt_start\u001B[0m\u001B[0;34m)\u001B[0m\u001B[0;34m]\u001B[0m\u001B[0;34m\u001B[0m\u001B[0;34m\u001B[0m\u001B[0m\n\u001B[0m\u001B[1;32m    904\u001B[0m             \u001B[0;32mif\u001B[0m \u001B[0;32mnot\u001B[0m \u001B[0mdrv_laps_before\u001B[0m\u001B[0;34m.\u001B[0m\u001B[0mempty\u001B[0m\u001B[0;34m:\u001B[0m\u001B[0;34m\u001B[0m\u001B[0;34m\u001B[0m\u001B[0m\n\u001B[1;32m    905\u001B[0m                 \u001B[0mlap_n_before\u001B[0m \u001B[0;34m=\u001B[0m \u001B[0mdrv_laps_before\u001B[0m\u001B[0;34m[\u001B[0m\u001B[0;34m'LapNumber'\u001B[0m\u001B[0;34m]\u001B[0m\u001B[0;34m.\u001B[0m\u001B[0miloc\u001B[0m\u001B[0;34m[\u001B[0m\u001B[0;34m-\u001B[0m\u001B[0;36m1\u001B[0m\u001B[0;34m]\u001B[0m\u001B[0;34m\u001B[0m\u001B[0;34m\u001B[0m\u001B[0m\n",
      "\u001B[0;32m~/opt/anaconda3/lib/python3.8/site-packages/pandas/core/frame.py\u001B[0m in \u001B[0;36m__getitem__\u001B[0;34m(self, key)\u001B[0m\n\u001B[1;32m   2994\u001B[0m                 \u001B[0;32mif\u001B[0m \u001B[0misinstance\u001B[0m\u001B[0;34m(\u001B[0m\u001B[0mself\u001B[0m\u001B[0;34m.\u001B[0m\u001B[0mcolumns\u001B[0m\u001B[0;34m,\u001B[0m \u001B[0mMultiIndex\u001B[0m\u001B[0;34m)\u001B[0m\u001B[0;34m:\u001B[0m\u001B[0;34m\u001B[0m\u001B[0;34m\u001B[0m\u001B[0m\n\u001B[1;32m   2995\u001B[0m                     \u001B[0;32mreturn\u001B[0m \u001B[0mself\u001B[0m\u001B[0;34m.\u001B[0m\u001B[0m_getitem_multilevel\u001B[0m\u001B[0;34m(\u001B[0m\u001B[0mkey\u001B[0m\u001B[0;34m)\u001B[0m\u001B[0;34m\u001B[0m\u001B[0;34m\u001B[0m\u001B[0m\n\u001B[0;32m-> 2996\u001B[0;31m                 \u001B[0;32mreturn\u001B[0m \u001B[0mself\u001B[0m\u001B[0;34m.\u001B[0m\u001B[0m_get_item_cache\u001B[0m\u001B[0;34m(\u001B[0m\u001B[0mkey\u001B[0m\u001B[0;34m)\u001B[0m\u001B[0;34m\u001B[0m\u001B[0;34m\u001B[0m\u001B[0m\n\u001B[0m\u001B[1;32m   2997\u001B[0m \u001B[0;34m\u001B[0m\u001B[0m\n\u001B[1;32m   2998\u001B[0m         \u001B[0;31m# Do we have a slicer (on rows)?\u001B[0m\u001B[0;34m\u001B[0m\u001B[0;34m\u001B[0m\u001B[0;34m\u001B[0m\u001B[0m\n",
      "\u001B[0;32m~/opt/anaconda3/lib/python3.8/site-packages/pandas/core/generic.py\u001B[0m in \u001B[0;36m_get_item_cache\u001B[0;34m(self, item)\u001B[0m\n\u001B[1;32m   3791\u001B[0m \u001B[0;34m\u001B[0m\u001B[0m\n\u001B[1;32m   3792\u001B[0m             \u001B[0mloc\u001B[0m \u001B[0;34m=\u001B[0m \u001B[0mself\u001B[0m\u001B[0;34m.\u001B[0m\u001B[0mcolumns\u001B[0m\u001B[0;34m.\u001B[0m\u001B[0mget_loc\u001B[0m\u001B[0;34m(\u001B[0m\u001B[0mitem\u001B[0m\u001B[0;34m)\u001B[0m\u001B[0;34m\u001B[0m\u001B[0;34m\u001B[0m\u001B[0m\n\u001B[0;32m-> 3793\u001B[0;31m             \u001B[0mvalues\u001B[0m \u001B[0;34m=\u001B[0m \u001B[0mself\u001B[0m\u001B[0;34m.\u001B[0m\u001B[0m_mgr\u001B[0m\u001B[0;34m.\u001B[0m\u001B[0miget\u001B[0m\u001B[0;34m(\u001B[0m\u001B[0mloc\u001B[0m\u001B[0;34m)\u001B[0m\u001B[0;34m\u001B[0m\u001B[0;34m\u001B[0m\u001B[0m\n\u001B[0m\u001B[1;32m   3794\u001B[0m             \u001B[0mres\u001B[0m \u001B[0;34m=\u001B[0m \u001B[0mself\u001B[0m\u001B[0;34m.\u001B[0m\u001B[0m_box_col_values\u001B[0m\u001B[0;34m(\u001B[0m\u001B[0mvalues\u001B[0m\u001B[0;34m,\u001B[0m \u001B[0mloc\u001B[0m\u001B[0;34m)\u001B[0m\u001B[0;34m.\u001B[0m\u001B[0m__finalize__\u001B[0m\u001B[0;34m(\u001B[0m\u001B[0mself\u001B[0m\u001B[0;34m)\u001B[0m\u001B[0;34m\u001B[0m\u001B[0;34m\u001B[0m\u001B[0m\n\u001B[1;32m   3795\u001B[0m \u001B[0;34m\u001B[0m\u001B[0m\n",
      "\u001B[0;32m~/opt/anaconda3/lib/python3.8/site-packages/pandas/core/internals/managers.py\u001B[0m in \u001B[0;36miget\u001B[0;34m(self, i)\u001B[0m\n\u001B[1;32m   1005\u001B[0m         \u001B[0;31m# shortcut for select a single-dim from a 2-dim BM\u001B[0m\u001B[0;34m\u001B[0m\u001B[0;34m\u001B[0m\u001B[0;34m\u001B[0m\u001B[0m\n\u001B[1;32m   1006\u001B[0m         return SingleBlockManager(\n\u001B[0;32m-> 1007\u001B[0;31m             block.make_block_same_class(\n\u001B[0m\u001B[1;32m   1008\u001B[0m                 \u001B[0mvalues\u001B[0m\u001B[0;34m,\u001B[0m \u001B[0mplacement\u001B[0m\u001B[0;34m=\u001B[0m\u001B[0mslice\u001B[0m\u001B[0;34m(\u001B[0m\u001B[0;36m0\u001B[0m\u001B[0;34m,\u001B[0m \u001B[0mlen\u001B[0m\u001B[0;34m(\u001B[0m\u001B[0mvalues\u001B[0m\u001B[0;34m)\u001B[0m\u001B[0;34m)\u001B[0m\u001B[0;34m,\u001B[0m \u001B[0mndim\u001B[0m\u001B[0;34m=\u001B[0m\u001B[0;36m1\u001B[0m\u001B[0;34m\u001B[0m\u001B[0;34m\u001B[0m\u001B[0m\n\u001B[1;32m   1009\u001B[0m             ),\n",
      "\u001B[0;32m~/opt/anaconda3/lib/python3.8/site-packages/pandas/core/internals/blocks.py\u001B[0m in \u001B[0;36mmake_block_same_class\u001B[0;34m(self, values, placement, ndim)\u001B[0m\n\u001B[1;32m    292\u001B[0m         \u001B[0;32mif\u001B[0m \u001B[0mndim\u001B[0m \u001B[0;32mis\u001B[0m \u001B[0;32mNone\u001B[0m\u001B[0;34m:\u001B[0m\u001B[0;34m\u001B[0m\u001B[0;34m\u001B[0m\u001B[0m\n\u001B[1;32m    293\u001B[0m             \u001B[0mndim\u001B[0m \u001B[0;34m=\u001B[0m \u001B[0mself\u001B[0m\u001B[0;34m.\u001B[0m\u001B[0mndim\u001B[0m\u001B[0;34m\u001B[0m\u001B[0;34m\u001B[0m\u001B[0m\n\u001B[0;32m--> 294\u001B[0;31m         \u001B[0;32mreturn\u001B[0m \u001B[0mtype\u001B[0m\u001B[0;34m(\u001B[0m\u001B[0mself\u001B[0m\u001B[0;34m)\u001B[0m\u001B[0;34m(\u001B[0m\u001B[0mvalues\u001B[0m\u001B[0;34m,\u001B[0m \u001B[0mplacement\u001B[0m\u001B[0;34m=\u001B[0m\u001B[0mplacement\u001B[0m\u001B[0;34m,\u001B[0m \u001B[0mndim\u001B[0m\u001B[0;34m=\u001B[0m\u001B[0mndim\u001B[0m\u001B[0;34m)\u001B[0m\u001B[0;34m\u001B[0m\u001B[0;34m\u001B[0m\u001B[0m\n\u001B[0m\u001B[1;32m    295\u001B[0m \u001B[0;34m\u001B[0m\u001B[0m\n\u001B[1;32m    296\u001B[0m     \u001B[0;32mdef\u001B[0m \u001B[0m__repr__\u001B[0m\u001B[0;34m(\u001B[0m\u001B[0mself\u001B[0m\u001B[0;34m)\u001B[0m \u001B[0;34m->\u001B[0m \u001B[0mstr\u001B[0m\u001B[0;34m:\u001B[0m\u001B[0;34m\u001B[0m\u001B[0;34m\u001B[0m\u001B[0m\n",
      "\u001B[0;32m~/opt/anaconda3/lib/python3.8/site-packages/pandas/core/internals/blocks.py\u001B[0m in \u001B[0;36m__init__\u001B[0;34m(self, values, placement, ndim)\u001B[0m\n\u001B[1;32m    135\u001B[0m         \"\"\"\n\u001B[1;32m    136\u001B[0m         \u001B[0;31m# TODO(EA2D): ndim will be unnecessary with 2D EAs\u001B[0m\u001B[0;34m\u001B[0m\u001B[0;34m\u001B[0m\u001B[0;34m\u001B[0m\u001B[0m\n\u001B[0;32m--> 137\u001B[0;31m         \u001B[0mself\u001B[0m\u001B[0;34m.\u001B[0m\u001B[0mndim\u001B[0m \u001B[0;34m=\u001B[0m \u001B[0mself\u001B[0m\u001B[0;34m.\u001B[0m\u001B[0m_check_ndim\u001B[0m\u001B[0;34m(\u001B[0m\u001B[0mvalues\u001B[0m\u001B[0;34m,\u001B[0m \u001B[0mndim\u001B[0m\u001B[0;34m)\u001B[0m\u001B[0;34m\u001B[0m\u001B[0;34m\u001B[0m\u001B[0m\n\u001B[0m\u001B[1;32m    138\u001B[0m         \u001B[0mself\u001B[0m\u001B[0;34m.\u001B[0m\u001B[0mmgr_locs\u001B[0m \u001B[0;34m=\u001B[0m \u001B[0mplacement\u001B[0m\u001B[0;34m\u001B[0m\u001B[0;34m\u001B[0m\u001B[0m\n\u001B[1;32m    139\u001B[0m         \u001B[0mself\u001B[0m\u001B[0;34m.\u001B[0m\u001B[0mvalues\u001B[0m \u001B[0;34m=\u001B[0m \u001B[0mself\u001B[0m\u001B[0;34m.\u001B[0m\u001B[0m_maybe_coerce_values\u001B[0m\u001B[0;34m(\u001B[0m\u001B[0mvalues\u001B[0m\u001B[0;34m)\u001B[0m\u001B[0;34m\u001B[0m\u001B[0;34m\u001B[0m\u001B[0m\n",
      "\u001B[0;32m~/opt/anaconda3/lib/python3.8/site-packages/pandas/core/internals/blocks.py\u001B[0m in \u001B[0;36m_check_ndim\u001B[0;34m(self, values, ndim)\u001B[0m\n\u001B[1;32m    183\u001B[0m             \u001B[0mndim\u001B[0m \u001B[0;34m=\u001B[0m \u001B[0mvalues\u001B[0m\u001B[0;34m.\u001B[0m\u001B[0mndim\u001B[0m\u001B[0;34m\u001B[0m\u001B[0;34m\u001B[0m\u001B[0m\n\u001B[1;32m    184\u001B[0m \u001B[0;34m\u001B[0m\u001B[0m\n\u001B[0;32m--> 185\u001B[0;31m         \u001B[0;32mif\u001B[0m \u001B[0mself\u001B[0m\u001B[0;34m.\u001B[0m\u001B[0m_validate_ndim\u001B[0m \u001B[0;32mand\u001B[0m \u001B[0mvalues\u001B[0m\u001B[0;34m.\u001B[0m\u001B[0mndim\u001B[0m \u001B[0;34m!=\u001B[0m \u001B[0mndim\u001B[0m\u001B[0;34m:\u001B[0m\u001B[0;34m\u001B[0m\u001B[0;34m\u001B[0m\u001B[0m\n\u001B[0m\u001B[1;32m    186\u001B[0m             raise ValueError(\n\u001B[1;32m    187\u001B[0m                 \u001B[0;34m\"Wrong number of dimensions. \"\u001B[0m\u001B[0;34m\u001B[0m\u001B[0;34m\u001B[0m\u001B[0m\n",
      "\u001B[0;32mpandas/_libs/properties.pyx\u001B[0m in \u001B[0;36mpandas._libs.properties.CachedProperty.__get__\u001B[0;34m()\u001B[0m\n",
      "\u001B[0;32m~/opt/anaconda3/lib/python3.8/site-packages/pandas/core/arrays/_mixins.py\u001B[0m in \u001B[0;36mndim\u001B[0;34m(self)\u001B[0m\n\u001B[1;32m    108\u001B[0m         \u001B[0;32mreturn\u001B[0m \u001B[0mself\u001B[0m\u001B[0;34m.\u001B[0m\u001B[0mshape\u001B[0m\u001B[0;34m[\u001B[0m\u001B[0;36m0\u001B[0m\u001B[0;34m]\u001B[0m\u001B[0;34m\u001B[0m\u001B[0;34m\u001B[0m\u001B[0m\n\u001B[1;32m    109\u001B[0m \u001B[0;34m\u001B[0m\u001B[0m\n\u001B[0;32m--> 110\u001B[0;31m     \u001B[0;34m@\u001B[0m\u001B[0mcache_readonly\u001B[0m\u001B[0;34m\u001B[0m\u001B[0;34m\u001B[0m\u001B[0m\n\u001B[0m\u001B[1;32m    111\u001B[0m     \u001B[0;32mdef\u001B[0m \u001B[0mndim\u001B[0m\u001B[0;34m(\u001B[0m\u001B[0mself\u001B[0m\u001B[0;34m)\u001B[0m \u001B[0;34m->\u001B[0m \u001B[0mint\u001B[0m\u001B[0;34m:\u001B[0m\u001B[0;34m\u001B[0m\u001B[0;34m\u001B[0m\u001B[0m\n\u001B[1;32m    112\u001B[0m         \u001B[0;32mreturn\u001B[0m \u001B[0mlen\u001B[0m\u001B[0;34m(\u001B[0m\u001B[0mself\u001B[0m\u001B[0;34m.\u001B[0m\u001B[0mshape\u001B[0m\u001B[0;34m)\u001B[0m\u001B[0;34m\u001B[0m\u001B[0;34m\u001B[0m\u001B[0m\n",
      "\u001B[0;31mKeyboardInterrupt\u001B[0m: "
     ]
    }
   ],
   "source": [
    "def get_peleton_changes():\n",
    "    success_rate = 0\n",
    "    fail_rate = 0\n",
    "    drivers_peleton = list(map(int, reversed(quali['number'].tolist())))\n",
    "    i = 0\n",
    "    while True:\n",
    "        try:\n",
    "            driver_laps = laps.pick_driver(drivers_peleton[i]).get_telemetry()\n",
    "            break\n",
    "        except Exception as _:\n",
    "            i += 1\n",
    "    drivers_peleton = drivers_peleton[i:]\n",
    "    driver_laps = driver_laps[(driver_laps['DriverAhead'] != '') & (driver_laps['Time'] > pd.Timedelta('0 days 00:00:05'))]\n",
    "    # взять текущий тик -> ближайший тик гонщика впереди -> ближайший тик его гонщика и т.д. ...\n",
    "    current_time = driver_laps.iloc[i]['Time']\n",
    "    for _, tick in driver_laps.iterrows():\n",
    "        driver_ahead_num = tick['DriverAhead']\n",
    "        current_peleton = [int(drivers_peleton[0]), int(tick['DriverAhead'])]\n",
    "        current_time_index = driver_laps[driver_laps['Time'] > current_time].index.min()\n",
    "        current_time = driver_laps.loc[[current_time_index]].iloc[0]['Time']\n",
    "        while driver_ahead_num != '':\n",
    "            driver_ahead = laps.pick_driver(driver_ahead_num).get_telemetry()\n",
    "            ahead_tick = driver_ahead[(driver_ahead['Time'] >= current_time)].index.min()\n",
    "            ahead_tick = driver_ahead.loc[ahead_tick]\n",
    "            driver_ahead_num = ahead_tick['DriverAhead']\n",
    "            if driver_ahead_num != '':\n",
    "                driver_ahead_num = int(driver_ahead_num)\n",
    "                if driver_ahead_num not in current_peleton:\n",
    "                    current_peleton.append(driver_ahead_num)\n",
    "                elif driver_ahead_num == current_peleton[-2]:\n",
    "                    current_peleton = current_peleton[:-2] + [current_peleton[-1], current_peleton[-2]]\n",
    "                    driver_ahead = laps.pick_driver(driver_ahead_num).get_telemetry()\n",
    "                    current_time_index = driver_ahead[(driver_ahead['Time'] > current_time) & (driver_ahead['DriverAhead'] != '')].index.min()\n",
    "                    current_time = driver_ahead.loc[[current_time_index]].iloc[0]['Time']\n",
    "                    print(current_peleton, 'peleton updated')\n",
    "                else:\n",
    "                    current_peleton = current_peleton[:2]\n",
    "                    fail_rate += 1\n",
    "                    print('Tick skipped', current_time)\n",
    "                    break\n",
    "            else:\n",
    "                not_calculated_drivers = list(set(drivers_peleton).difference(current_peleton))\n",
    "                if len(not_calculated_drivers) == 0:\n",
    "                    success_rate += 1\n",
    "                else:\n",
    "                    fail_rate += 1\n",
    "                current_peleton = current_peleton[:2]\n",
    "                print('Tick ended', current_time)\n",
    "                break\n",
    "    print(success_rate / (success_rate + fail_rate))\n",
    "\n",
    "\n",
    "get_peleton_changes()"
   ],
   "metadata": {
    "collapsed": false,
    "pycharm": {
     "name": "#%%\n"
    }
   }
  },
  {
   "cell_type": "markdown",
   "source": [
    "## Посмотрим на визуализацию мест обгонов на одной конкретной трассе за разные года. Для этого выберем трассу которая не менялась с 2014 года.\n",
    " <i style=\"color: #ff2800\"> небольшое уточнение, все координаты представлены в 1/10 метра, мы разделим всю трассу на зоны"
   ],
   "metadata": {
    "collapsed": false
   }
  },
  {
   "cell_type": "code",
   "execution_count": 175,
   "outputs": [
    {
     "data": {
      "text/plain": "                         Date            SessionTime DriverAhead  \\\n369   2021-12-05 17:34:26.770 0 days 01:02:19.552000               \n370   2021-12-05 17:34:26.875 0 days 01:02:19.657000               \n371   2021-12-05 17:34:27.010 0 days 01:02:19.792000               \n372   2021-12-05 17:34:27.095 0 days 01:02:19.877000               \n373   2021-12-05 17:34:27.250 0 days 01:02:20.032000               \n...                       ...                    ...         ...   \n66112 2021-12-05 19:39:59.709 0 days 03:07:52.491000               \n66113 2021-12-05 19:39:59.720 0 days 03:07:52.502000               \n66114 2021-12-05 19:39:59.939 0 days 03:07:52.721000               \n66115 2021-12-05 19:39:59.949 0 days 03:07:52.731000               \n66116 2021-12-05 19:40:00.023 0 days 03:07:52.805000               \n\n       DistanceToDriverAhead                   Time   RPM  Speed  nGear  \\\n369                 3.407942 0 days 00:00:42.038000  9058    145      4   \n370                 3.408469 0 days 00:00:42.143000  9244    146      4   \n371                 3.408997 0 days 00:00:42.278000  9431    148      4   \n372                 3.409524 0 days 00:00:42.363000  9571    150      4   \n373                 3.410051 0 days 00:00:42.518000  9711    153      4   \n...                      ...                    ...   ...    ...    ...   \n66112               0.230000 0 days 02:06:14.977000  8799    248      8   \n66113               0.230000 0 days 02:06:14.988000  8711    246      8   \n66114               0.230000 0 days 02:06:15.207000  8624    244      8   \n66115               0.230000 0 days 02:06:15.217000  8537    243      8   \n66116               0.230000 0 days 02:06:15.291000  8687    238      8   \n\n       Throttle  Brake  DRS         Source       Distance  RelativeDistance  \\\n369          64      0    1            car    2192.728333          0.007188   \n370          66      0    1            pos    2197.014681          0.007202   \n371          68      0    1            car    2202.595000          0.007220   \n372          72      0    1            pos    2206.162137          0.007232   \n373          77      0    1            car    2212.795000          0.007254   \n...         ...    ...  ...            ...            ...               ...   \n66112         0    100    0            car  305027.872222          0.999898   \n66113         0    100    0            pos  305028.624336          0.999900   \n66114         0    100    0            pos  305043.416787          0.999948   \n66115         0    100    0            car  305044.072222          0.999951   \n66116         0    100    0  interpolation  305048.853722          0.999966   \n\n        Status     X      Y    Z  \n369    OnTrack -4355  21782  123  \n370    OnTrack -4396  21769  123  \n371    OnTrack -4446  21745  122  \n372    OnTrack -4477  21728  122  \n373    OnTrack -4531  21690  122  \n...        ...   ...    ...  ...  \n66112  OnTrack -1191    -70  118  \n66113  OnTrack -1194    -64  118  \n66114  OnTrack -1238     63  118  \n66115  OnTrack -1240     68  118  \n66116  OnTrack -1255    109  118  \n\n[65748 rows x 18 columns]",
      "text/html": "<div>\n<style scoped>\n    .dataframe tbody tr th:only-of-type {\n        vertical-align: middle;\n    }\n\n    .dataframe tbody tr th {\n        vertical-align: top;\n    }\n\n    .dataframe thead th {\n        text-align: right;\n    }\n</style>\n<table border=\"1\" class=\"dataframe\">\n  <thead>\n    <tr style=\"text-align: right;\">\n      <th></th>\n      <th>Date</th>\n      <th>SessionTime</th>\n      <th>DriverAhead</th>\n      <th>DistanceToDriverAhead</th>\n      <th>Time</th>\n      <th>RPM</th>\n      <th>Speed</th>\n      <th>nGear</th>\n      <th>Throttle</th>\n      <th>Brake</th>\n      <th>DRS</th>\n      <th>Source</th>\n      <th>Distance</th>\n      <th>RelativeDistance</th>\n      <th>Status</th>\n      <th>X</th>\n      <th>Y</th>\n      <th>Z</th>\n    </tr>\n  </thead>\n  <tbody>\n    <tr>\n      <th>369</th>\n      <td>2021-12-05 17:34:26.770</td>\n      <td>0 days 01:02:19.552000</td>\n      <td></td>\n      <td>3.407942</td>\n      <td>0 days 00:00:42.038000</td>\n      <td>9058</td>\n      <td>145</td>\n      <td>4</td>\n      <td>64</td>\n      <td>0</td>\n      <td>1</td>\n      <td>car</td>\n      <td>2192.728333</td>\n      <td>0.007188</td>\n      <td>OnTrack</td>\n      <td>-4355</td>\n      <td>21782</td>\n      <td>123</td>\n    </tr>\n    <tr>\n      <th>370</th>\n      <td>2021-12-05 17:34:26.875</td>\n      <td>0 days 01:02:19.657000</td>\n      <td></td>\n      <td>3.408469</td>\n      <td>0 days 00:00:42.143000</td>\n      <td>9244</td>\n      <td>146</td>\n      <td>4</td>\n      <td>66</td>\n      <td>0</td>\n      <td>1</td>\n      <td>pos</td>\n      <td>2197.014681</td>\n      <td>0.007202</td>\n      <td>OnTrack</td>\n      <td>-4396</td>\n      <td>21769</td>\n      <td>123</td>\n    </tr>\n    <tr>\n      <th>371</th>\n      <td>2021-12-05 17:34:27.010</td>\n      <td>0 days 01:02:19.792000</td>\n      <td></td>\n      <td>3.408997</td>\n      <td>0 days 00:00:42.278000</td>\n      <td>9431</td>\n      <td>148</td>\n      <td>4</td>\n      <td>68</td>\n      <td>0</td>\n      <td>1</td>\n      <td>car</td>\n      <td>2202.595000</td>\n      <td>0.007220</td>\n      <td>OnTrack</td>\n      <td>-4446</td>\n      <td>21745</td>\n      <td>122</td>\n    </tr>\n    <tr>\n      <th>372</th>\n      <td>2021-12-05 17:34:27.095</td>\n      <td>0 days 01:02:19.877000</td>\n      <td></td>\n      <td>3.409524</td>\n      <td>0 days 00:00:42.363000</td>\n      <td>9571</td>\n      <td>150</td>\n      <td>4</td>\n      <td>72</td>\n      <td>0</td>\n      <td>1</td>\n      <td>pos</td>\n      <td>2206.162137</td>\n      <td>0.007232</td>\n      <td>OnTrack</td>\n      <td>-4477</td>\n      <td>21728</td>\n      <td>122</td>\n    </tr>\n    <tr>\n      <th>373</th>\n      <td>2021-12-05 17:34:27.250</td>\n      <td>0 days 01:02:20.032000</td>\n      <td></td>\n      <td>3.410051</td>\n      <td>0 days 00:00:42.518000</td>\n      <td>9711</td>\n      <td>153</td>\n      <td>4</td>\n      <td>77</td>\n      <td>0</td>\n      <td>1</td>\n      <td>car</td>\n      <td>2212.795000</td>\n      <td>0.007254</td>\n      <td>OnTrack</td>\n      <td>-4531</td>\n      <td>21690</td>\n      <td>122</td>\n    </tr>\n    <tr>\n      <th>...</th>\n      <td>...</td>\n      <td>...</td>\n      <td>...</td>\n      <td>...</td>\n      <td>...</td>\n      <td>...</td>\n      <td>...</td>\n      <td>...</td>\n      <td>...</td>\n      <td>...</td>\n      <td>...</td>\n      <td>...</td>\n      <td>...</td>\n      <td>...</td>\n      <td>...</td>\n      <td>...</td>\n      <td>...</td>\n      <td>...</td>\n    </tr>\n    <tr>\n      <th>66112</th>\n      <td>2021-12-05 19:39:59.709</td>\n      <td>0 days 03:07:52.491000</td>\n      <td></td>\n      <td>0.230000</td>\n      <td>0 days 02:06:14.977000</td>\n      <td>8799</td>\n      <td>248</td>\n      <td>8</td>\n      <td>0</td>\n      <td>100</td>\n      <td>0</td>\n      <td>car</td>\n      <td>305027.872222</td>\n      <td>0.999898</td>\n      <td>OnTrack</td>\n      <td>-1191</td>\n      <td>-70</td>\n      <td>118</td>\n    </tr>\n    <tr>\n      <th>66113</th>\n      <td>2021-12-05 19:39:59.720</td>\n      <td>0 days 03:07:52.502000</td>\n      <td></td>\n      <td>0.230000</td>\n      <td>0 days 02:06:14.988000</td>\n      <td>8711</td>\n      <td>246</td>\n      <td>8</td>\n      <td>0</td>\n      <td>100</td>\n      <td>0</td>\n      <td>pos</td>\n      <td>305028.624336</td>\n      <td>0.999900</td>\n      <td>OnTrack</td>\n      <td>-1194</td>\n      <td>-64</td>\n      <td>118</td>\n    </tr>\n    <tr>\n      <th>66114</th>\n      <td>2021-12-05 19:39:59.939</td>\n      <td>0 days 03:07:52.721000</td>\n      <td></td>\n      <td>0.230000</td>\n      <td>0 days 02:06:15.207000</td>\n      <td>8624</td>\n      <td>244</td>\n      <td>8</td>\n      <td>0</td>\n      <td>100</td>\n      <td>0</td>\n      <td>pos</td>\n      <td>305043.416787</td>\n      <td>0.999948</td>\n      <td>OnTrack</td>\n      <td>-1238</td>\n      <td>63</td>\n      <td>118</td>\n    </tr>\n    <tr>\n      <th>66115</th>\n      <td>2021-12-05 19:39:59.949</td>\n      <td>0 days 03:07:52.731000</td>\n      <td></td>\n      <td>0.230000</td>\n      <td>0 days 02:06:15.217000</td>\n      <td>8537</td>\n      <td>243</td>\n      <td>8</td>\n      <td>0</td>\n      <td>100</td>\n      <td>0</td>\n      <td>car</td>\n      <td>305044.072222</td>\n      <td>0.999951</td>\n      <td>OnTrack</td>\n      <td>-1240</td>\n      <td>68</td>\n      <td>118</td>\n    </tr>\n    <tr>\n      <th>66116</th>\n      <td>2021-12-05 19:40:00.023</td>\n      <td>0 days 03:07:52.805000</td>\n      <td></td>\n      <td>0.230000</td>\n      <td>0 days 02:06:15.291000</td>\n      <td>8687</td>\n      <td>238</td>\n      <td>8</td>\n      <td>0</td>\n      <td>100</td>\n      <td>0</td>\n      <td>interpolation</td>\n      <td>305048.853722</td>\n      <td>0.999966</td>\n      <td>OnTrack</td>\n      <td>-1255</td>\n      <td>109</td>\n      <td>118</td>\n    </tr>\n  </tbody>\n</table>\n<p>65748 rows × 18 columns</p>\n</div>"
     },
     "execution_count": 175,
     "metadata": {},
     "output_type": "execute_result"
    }
   ],
   "source": [
    "df = laps.pick_driver(44).get_telemetry()\n",
    "df[df['Time'] > pd.Timedelta('0 days 00:00:42')]"
   ],
   "metadata": {
    "collapsed": false,
    "pycharm": {
     "name": "#%%\n"
    }
   }
  },
  {
   "cell_type": "code",
   "execution_count": 317,
   "outputs": [],
   "source": [
    "x_size_of_sector = 50\n",
    "y_size_of_sector = 50"
   ],
   "metadata": {
    "collapsed": false,
    "pycharm": {
     "name": "#%%\n"
    }
   }
  },
  {
   "cell_type": "code",
   "execution_count": 6,
   "outputs": [
    {
     "name": "stdout",
     "output_type": "stream",
     "text": [
      "[ 77. -63.  41. -45.   8.   4.  -4.  -8.  -9.  -1.  43. -43.  51.  22.\n",
      " -22. -39.  -2. -10.   7.  33. -33.   5.  28.  11. -11. -77.  25.  16.\n",
      " -41.  -7.  37.  44. -51. -44.]\n",
      "[ 31. -31.   7.  -1.  93. -36. -49.   4.  -8.  85. -94.  58. -56.  -7.\n",
      "  55. -41. -14.  11.  44. -44. -11. -55. -22.  22.]\n",
      "[ 22.  55. -30. -31.  -9.  70. -74.  28.  46. -22. -83.  61. -61.  47.\n",
      " -52.  44.  -8.   8. -33. -19.  13.  -6.  81. -93.  41. -36. -11.  88.\n",
      " -96.   2.  -2.   3.  16.  39. -39.   6.  -3.  20. -21.  21. -26.  45.\n",
      " -57.  25. -13.  -7. -47. -44. -63.   7.  -5.  11.  -4.   4.   5.  17.\n",
      " -12. -45.  67. -67. -41. -55. -28. -15.   9.  31. -42.  42. -29.  29.\n",
      "  33.]\n",
      "[ 77. -22. -37.  -4.  41.   8. -32.  32.  -8. -17.  55. -55.  -6.  15.\n",
      " -21.   4.  85. -93.  57. -16.  -3. -11.  11.  22. -33.  25.  19. -13.\n",
      "  13.  -5.   2.   9.  47. -45. -12.  -7. -10.  16.  -9.  28. -51.  51.\n",
      "  18. -18.  10. -44.  44.]\n",
      "[ 77. -66.   3.   4.  -4.  49.  36. -68. -27.  95. -95.  59. -59.  14.\n",
      " -13.   6.  66. -55. -18.  -1.  13.  17. -15.  -2.  41. -40.  26. -29.\n",
      "  12. -12.  -5.   5.  -6.  88. -77. -85. -52.  22.  11. -44.  44.  55.\n",
      " -94.   2.  40. -33. -30. -22.  33. -11. -63.  63.  -3.   8.  -8.]\n",
      "[ 22. -18.  12.  15. -15.  -9.  -1.  25. -24.   9. -13.  13.  96. -96.\n",
      " -36. -60.  -2.   6. -11.  11.  51. -33. -30.  28. -21.   8.  -4.   2.\n",
      "  47. -57.  41. -40.  39. -39. -19.  17.  68. -68.  21. -25.  45. -45.\n",
      "   1.  40. -44.  19.  -8. -89.  56. -59.  27. -12.   4.  -5.  26. -28.\n",
      "  -3.   3.  37. -41.  53. -53. -16. -29.  94.   5.  -6. -17.  92. -77.\n",
      "  18.  33. -22.  10. -10.]\n",
      "[ 22.  77. -92.  -3.  27. -25.  71. -70.  -1.   4.  -4.  74. -22. -73.\n",
      "  73. -14. -60. -46. -28.  28. -20.  20. -21.  23.  66. -44. -50.  50.\n",
      " -51.  51.   7.  11. -11. -19.   8.  33. -48.  15. -15.  40. -43.  -8.\n",
      "  19. -96.  37. -37.  -7.   3.  25.  48.  96. -77. -18.  18.  29.  55.\n",
      " -63. -89.  21. -26.  26. -13.  13. -24.  24.  57. -57.  93. -95.   2.\n",
      "  -2.   1.  17.   6.  -6. -55.   9.  -9. -17.  12. -10.  10. -27.  43.\n",
      " -33.]\n",
      "[ 16.  47. -16. -45.  -7.   3.  49. -52.  20. -20.  -1.   4.   2.  61.\n",
      " -30. -31.  -5.  51.  22. -74.  28. -21.  85. -36. -58.  42. -42.  26.\n",
      " -26.  46. -61.  39. -51. -41.  -2. -44.   8. -56.   9.  83. -92.  40.\n",
      " -47. -12.  12.  17.  11.  41. -50.  48.  36.  52. -11.   5.  -3.  10.\n",
      " -10. -29.  29. -22.  44. -66.  -6. -73.  73. -67.  67. -63.  63. -55.]\n",
      "[ 44.  33. -33. -37.   9. -13.   1.  95. -95.  59. -52.  13.  47. -58.\n",
      "  -2.  15.  29.  -3. -34.  -7.  51.  22. -67.  12.  -4.   4.  -8. -11.\n",
      "  60.  36. -96.  19. -17.  42. -41.  16. -19.  11.  63. -74.  96. -89.\n",
      "  -5.  57. -45.  67. -70.  56. -22. -63.  74. -88.  -1.   7. -14.  14.\n",
      "  37. -42.  94. -83.   8.  55. -55.  -6. -61.   2.  83.   6.  61.  85.\n",
      " -85. -10.  10. -47. -36. -57.   3.  -9. -12.  43. -29. -43.]\n",
      "[ 18.  59. -30. -31. -12.  27.  46. -61.  -9.   9. -10.   1.  -1.  93.\n",
      " -83.  61. -46. -17.   4.  13. -20.   5.  29.  44. -21.   8.  32.  36.\n",
      " -94.  17. -15.  24.  55. -55.  -8.   7. -11.  58. -59.   2.  42. -33.\n",
      " -63.  63.  66. -66.  14. -25.  -6.  -5.  -2.  43. -40.  94. -85.  88.\n",
      "  83.   6.  15.  85. -22. -68.  22.  68.  10.  -4.  -3.  12.  25. -36.\n",
      " -32. -93. -81. -26.  26.  21. -27. -13.  16. -16. -29.]\n",
      "[ 77. -44.  22. -37.  -7.  11. -12.  53. -41.  -4.  -8.   8. -14.  14.\n",
      " -13.  26. -26.  42. -42.  94. -55.  55. -88.  51.  44. -77. -68.  32.\n",
      " -45.  81. -81.  45. -16. -40.  -1.  25.  46. -74.  19. -18.   7.  16.\n",
      " -51.  18. -19.  74. -11. -92.  56.  36. -36. -58.  50.  -6.   6. -61.\n",
      "  -5.   9. -28.  28.  13. -46.  15.  -9. -15.  61.  83. -96.  96. -22.\n",
      " -73.  73.  66. -66.  33. -33.  12.  37.  67.]\n"
     ]
    },
    {
     "ename": "KeyboardInterrupt",
     "evalue": "",
     "output_type": "error",
     "traceback": [
      "\u001B[0;31m---------------------------------------------------------------------------\u001B[0m",
      "\u001B[0;31mKeyboardInterrupt\u001B[0m                         Traceback (most recent call last)",
      "\u001B[0;32m<ipython-input-6-feb786761fa7>\u001B[0m in \u001B[0;36m<module>\u001B[0;34m\u001B[0m\n\u001B[1;32m      3\u001B[0m \u001B[0mdata_frame_to_process\u001B[0m \u001B[0;34m=\u001B[0m \u001B[0;34m{\u001B[0m\u001B[0;34m}\u001B[0m\u001B[0;34m\u001B[0m\u001B[0;34m\u001B[0m\u001B[0m\n\u001B[1;32m      4\u001B[0m \u001B[0;32mfor\u001B[0m \u001B[0mdriver\u001B[0m \u001B[0;32min\u001B[0m \u001B[0mdriver_numbers\u001B[0m\u001B[0;34m:\u001B[0m\u001B[0;34m\u001B[0m\u001B[0;34m\u001B[0m\u001B[0m\n\u001B[0;32m----> 5\u001B[0;31m     \u001B[0mtelemetry\u001B[0m \u001B[0;34m=\u001B[0m \u001B[0mlaps\u001B[0m\u001B[0;34m.\u001B[0m\u001B[0mpick_driver\u001B[0m\u001B[0;34m(\u001B[0m\u001B[0mdriver\u001B[0m\u001B[0;34m)\u001B[0m\u001B[0;34m.\u001B[0m\u001B[0mget_telemetry\u001B[0m\u001B[0;34m(\u001B[0m\u001B[0;34m)\u001B[0m\u001B[0;34m\u001B[0m\u001B[0;34m\u001B[0m\u001B[0m\n\u001B[0m\u001B[1;32m      6\u001B[0m     \u001B[0mdf\u001B[0m \u001B[0;34m=\u001B[0m \u001B[0mtelemetry\u001B[0m\u001B[0;34m[\u001B[0m\u001B[0;34m'DriverAhead'\u001B[0m\u001B[0;34m]\u001B[0m\u001B[0;34m.\u001B[0m\u001B[0mto_frame\u001B[0m\u001B[0;34m(\u001B[0m\u001B[0;34m)\u001B[0m\u001B[0;34m\u001B[0m\u001B[0;34m\u001B[0m\u001B[0m\n\u001B[1;32m      7\u001B[0m     \u001B[0mdf\u001B[0m\u001B[0;34m[\u001B[0m\u001B[0;34m'DriverAhead'\u001B[0m\u001B[0;34m]\u001B[0m \u001B[0;34m=\u001B[0m \u001B[0mpd\u001B[0m\u001B[0;34m.\u001B[0m\u001B[0mto_numeric\u001B[0m\u001B[0;34m(\u001B[0m\u001B[0mdf\u001B[0m\u001B[0;34m[\u001B[0m\u001B[0;34m'DriverAhead'\u001B[0m\u001B[0;34m]\u001B[0m\u001B[0;34m)\u001B[0m\u001B[0;34m\u001B[0m\u001B[0;34m\u001B[0m\u001B[0m\n",
      "\u001B[0;32m~/opt/anaconda3/lib/python3.8/site-packages/fastf1/core.py\u001B[0m in \u001B[0;36mget_telemetry\u001B[0;34m(self)\u001B[0m\n\u001B[1;32m   1717\u001B[0m         \u001B[0;31m# calculate driver ahead from from data without padding to\u001B[0m\u001B[0;34m\u001B[0m\u001B[0;34m\u001B[0m\u001B[0;34m\u001B[0m\u001B[0m\n\u001B[1;32m   1718\u001B[0m         \u001B[0;31m# prevent out of bounds errors\u001B[0m\u001B[0;34m\u001B[0m\u001B[0;34m\u001B[0m\u001B[0;34m\u001B[0m\u001B[0m\n\u001B[0;32m-> 1719\u001B[0;31m         \u001B[0mdrv_ahead\u001B[0m \u001B[0;34m=\u001B[0m \u001B[0mcar_data\u001B[0m\u001B[0;34m.\u001B[0m\u001B[0miloc\u001B[0m\u001B[0;34m[\u001B[0m\u001B[0;36m1\u001B[0m\u001B[0;34m:\u001B[0m\u001B[0;34m-\u001B[0m\u001B[0;36m1\u001B[0m\u001B[0;34m]\u001B[0m\u001B[0;34m.\u001B[0m\u001B[0madd_driver_ahead\u001B[0m\u001B[0;34m(\u001B[0m\u001B[0;34m)\u001B[0m\u001B[0;31m \u001B[0m\u001B[0;31m\\\u001B[0m\u001B[0;34m\u001B[0m\u001B[0;34m\u001B[0m\u001B[0m\n\u001B[0m\u001B[1;32m   1720\u001B[0m             .loc[:, ('DriverAhead', 'DistanceToDriverAhead',\n\u001B[1;32m   1721\u001B[0m                      'Date', 'Time', 'SessionTime')]\n",
      "\u001B[0;32m~/opt/anaconda3/lib/python3.8/site-packages/fastf1/core.py\u001B[0m in \u001B[0;36madd_driver_ahead\u001B[0;34m(self, drop_existing)\u001B[0m\n\u001B[1;32m    827\u001B[0m             \u001B[0md\u001B[0m \u001B[0;34m=\u001B[0m \u001B[0mself\u001B[0m\u001B[0;34m\u001B[0m\u001B[0;34m\u001B[0m\u001B[0m\n\u001B[1;32m    828\u001B[0m \u001B[0;34m\u001B[0m\u001B[0m\n\u001B[0;32m--> 829\u001B[0;31m         \u001B[0mdrv_ahead\u001B[0m\u001B[0;34m,\u001B[0m \u001B[0mdist\u001B[0m \u001B[0;34m=\u001B[0m \u001B[0mself\u001B[0m\u001B[0;34m.\u001B[0m\u001B[0mcalculate_driver_ahead\u001B[0m\u001B[0;34m(\u001B[0m\u001B[0;34m)\u001B[0m\u001B[0;34m\u001B[0m\u001B[0;34m\u001B[0m\u001B[0m\n\u001B[0m\u001B[1;32m    830\u001B[0m         return d.join(pd.DataFrame({'DriverAhead': drv_ahead,\n\u001B[1;32m    831\u001B[0m                                     'DistanceToDriverAhead': dist},\n",
      "\u001B[0;32m~/opt/anaconda3/lib/python3.8/site-packages/fastf1/core.py\u001B[0m in \u001B[0;36mcalculate_driver_ahead\u001B[0;34m(self)\u001B[0m\n\u001B[1;32m    923\u001B[0m \u001B[0;34m\u001B[0m\u001B[0m\n\u001B[1;32m    924\u001B[0m             \u001B[0;31m# first slice by lap and calculate distance, so that distance is zero at finish line\u001B[0m\u001B[0;34m\u001B[0m\u001B[0;34m\u001B[0m\u001B[0;34m\u001B[0m\u001B[0m\n\u001B[0;32m--> 925\u001B[0;31m             \u001B[0mdrv_tel\u001B[0m \u001B[0;34m=\u001B[0m \u001B[0mself\u001B[0m\u001B[0;34m.\u001B[0m\u001B[0msession\u001B[0m\u001B[0;34m.\u001B[0m\u001B[0mcar_data\u001B[0m\u001B[0;34m[\u001B[0m\u001B[0mdrv\u001B[0m\u001B[0;34m]\u001B[0m\u001B[0;34m.\u001B[0m\u001B[0mslice_by_lap\u001B[0m\u001B[0;34m(\u001B[0m\u001B[0mrelevant_laps\u001B[0m\u001B[0;34m)\u001B[0m\u001B[0;34m.\u001B[0m\u001B[0madd_distance\u001B[0m\u001B[0;34m(\u001B[0m\u001B[0;34m)\u001B[0m\u001B[0;31m \u001B[0m\u001B[0;31m\\\u001B[0m\u001B[0;34m\u001B[0m\u001B[0;34m\u001B[0m\u001B[0m\n\u001B[0m\u001B[1;32m    926\u001B[0m                           \u001B[0;34m.\u001B[0m\u001B[0mloc\u001B[0m\u001B[0;34m[\u001B[0m\u001B[0;34m:\u001B[0m\u001B[0;34m,\u001B[0m \u001B[0;34m(\u001B[0m\u001B[0;34m'SessionTime'\u001B[0m\u001B[0;34m,\u001B[0m \u001B[0;34m'Distance'\u001B[0m\u001B[0;34m)\u001B[0m\u001B[0;34m]\u001B[0m\u001B[0;34m.\u001B[0m\u001B[0mrename\u001B[0m\u001B[0;34m(\u001B[0m\u001B[0mcolumns\u001B[0m\u001B[0;34m=\u001B[0m\u001B[0;34m{\u001B[0m\u001B[0;34m'Distance'\u001B[0m\u001B[0;34m:\u001B[0m \u001B[0mdrv\u001B[0m\u001B[0;34m}\u001B[0m\u001B[0;34m)\u001B[0m\u001B[0;34m\u001B[0m\u001B[0;34m\u001B[0m\u001B[0m\n\u001B[1;32m    927\u001B[0m \u001B[0;34m\u001B[0m\u001B[0m\n",
      "\u001B[0;32m~/opt/anaconda3/lib/python3.8/site-packages/fastf1/core.py\u001B[0m in \u001B[0;36mslice_by_lap\u001B[0;34m(self, ref_laps, pad, pad_side, interpolate_edges)\u001B[0m\n\u001B[1;32m    434\u001B[0m             \u001B[0;32mraise\u001B[0m \u001B[0mTypeError\u001B[0m\u001B[0;34m(\u001B[0m\u001B[0;34m\"Attribute 'ref_laps' needs to be an instance of `Lap` or `Laps`\"\u001B[0m\u001B[0;34m)\u001B[0m\u001B[0;34m\u001B[0m\u001B[0;34m\u001B[0m\u001B[0m\n\u001B[1;32m    435\u001B[0m \u001B[0;34m\u001B[0m\u001B[0m\n\u001B[0;32m--> 436\u001B[0;31m         \u001B[0;32mreturn\u001B[0m \u001B[0mself\u001B[0m\u001B[0;34m.\u001B[0m\u001B[0mslice_by_time\u001B[0m\u001B[0;34m(\u001B[0m\u001B[0mstart_time\u001B[0m\u001B[0;34m,\u001B[0m \u001B[0mend_time\u001B[0m\u001B[0;34m,\u001B[0m \u001B[0mpad\u001B[0m\u001B[0;34m,\u001B[0m \u001B[0mpad_side\u001B[0m\u001B[0;34m,\u001B[0m \u001B[0minterpolate_edges\u001B[0m\u001B[0;34m)\u001B[0m\u001B[0;34m\u001B[0m\u001B[0;34m\u001B[0m\u001B[0m\n\u001B[0m\u001B[1;32m    437\u001B[0m \u001B[0;34m\u001B[0m\u001B[0m\n\u001B[1;32m    438\u001B[0m     \u001B[0;32mdef\u001B[0m \u001B[0mslice_by_time\u001B[0m\u001B[0;34m(\u001B[0m\u001B[0mself\u001B[0m\u001B[0;34m,\u001B[0m \u001B[0mstart_time\u001B[0m\u001B[0;34m,\u001B[0m \u001B[0mend_time\u001B[0m\u001B[0;34m,\u001B[0m \u001B[0mpad\u001B[0m\u001B[0;34m=\u001B[0m\u001B[0;36m0\u001B[0m\u001B[0;34m,\u001B[0m \u001B[0mpad_side\u001B[0m\u001B[0;34m=\u001B[0m\u001B[0;34m'both'\u001B[0m\u001B[0;34m,\u001B[0m \u001B[0minterpolate_edges\u001B[0m\u001B[0;34m=\u001B[0m\u001B[0;32mFalse\u001B[0m\u001B[0;34m)\u001B[0m\u001B[0;34m:\u001B[0m\u001B[0;34m\u001B[0m\u001B[0;34m\u001B[0m\u001B[0m\n",
      "\u001B[0;32m~/opt/anaconda3/lib/python3.8/site-packages/fastf1/core.py\u001B[0m in \u001B[0;36mslice_by_time\u001B[0;34m(self, start_time, end_time, pad, pad_side, interpolate_edges)\u001B[0m\n\u001B[1;32m    467\u001B[0m             \u001B[0;32mif\u001B[0m \u001B[0;34m'Time'\u001B[0m \u001B[0;32min\u001B[0m \u001B[0mdata_slice\u001B[0m\u001B[0;34m.\u001B[0m\u001B[0mcolumns\u001B[0m\u001B[0;34m:\u001B[0m\u001B[0;34m\u001B[0m\u001B[0;34m\u001B[0m\u001B[0m\n\u001B[1;32m    468\u001B[0m                 \u001B[0;31m# shift time to 0 so laps can overlap\u001B[0m\u001B[0;34m\u001B[0m\u001B[0;34m\u001B[0m\u001B[0;34m\u001B[0m\u001B[0m\n\u001B[0;32m--> 469\u001B[0;31m                 \u001B[0mdata_slice\u001B[0m\u001B[0;34m.\u001B[0m\u001B[0mloc\u001B[0m\u001B[0;34m[\u001B[0m\u001B[0;34m:\u001B[0m\u001B[0;34m,\u001B[0m \u001B[0;34m'Time'\u001B[0m\u001B[0;34m]\u001B[0m \u001B[0;34m=\u001B[0m \u001B[0mdata_slice\u001B[0m\u001B[0;34m[\u001B[0m\u001B[0;34m'SessionTime'\u001B[0m\u001B[0;34m]\u001B[0m \u001B[0;34m-\u001B[0m \u001B[0mstart_time\u001B[0m\u001B[0;34m\u001B[0m\u001B[0;34m\u001B[0m\u001B[0m\n\u001B[0m\u001B[1;32m    470\u001B[0m \u001B[0;34m\u001B[0m\u001B[0m\n\u001B[1;32m    471\u001B[0m             \u001B[0;32mreturn\u001B[0m \u001B[0mdata_slice\u001B[0m\u001B[0;34m\u001B[0m\u001B[0;34m\u001B[0m\u001B[0m\n",
      "\u001B[0;32m~/opt/anaconda3/lib/python3.8/site-packages/pandas/core/frame.py\u001B[0m in \u001B[0;36m__getitem__\u001B[0;34m(self, key)\u001B[0m\n\u001B[1;32m   2994\u001B[0m                 \u001B[0;32mif\u001B[0m \u001B[0misinstance\u001B[0m\u001B[0;34m(\u001B[0m\u001B[0mself\u001B[0m\u001B[0;34m.\u001B[0m\u001B[0mcolumns\u001B[0m\u001B[0;34m,\u001B[0m \u001B[0mMultiIndex\u001B[0m\u001B[0;34m)\u001B[0m\u001B[0;34m:\u001B[0m\u001B[0;34m\u001B[0m\u001B[0;34m\u001B[0m\u001B[0m\n\u001B[1;32m   2995\u001B[0m                     \u001B[0;32mreturn\u001B[0m \u001B[0mself\u001B[0m\u001B[0;34m.\u001B[0m\u001B[0m_getitem_multilevel\u001B[0m\u001B[0;34m(\u001B[0m\u001B[0mkey\u001B[0m\u001B[0;34m)\u001B[0m\u001B[0;34m\u001B[0m\u001B[0;34m\u001B[0m\u001B[0m\n\u001B[0;32m-> 2996\u001B[0;31m                 \u001B[0;32mreturn\u001B[0m \u001B[0mself\u001B[0m\u001B[0;34m.\u001B[0m\u001B[0m_get_item_cache\u001B[0m\u001B[0;34m(\u001B[0m\u001B[0mkey\u001B[0m\u001B[0;34m)\u001B[0m\u001B[0;34m\u001B[0m\u001B[0;34m\u001B[0m\u001B[0m\n\u001B[0m\u001B[1;32m   2997\u001B[0m \u001B[0;34m\u001B[0m\u001B[0m\n\u001B[1;32m   2998\u001B[0m         \u001B[0;31m# Do we have a slicer (on rows)?\u001B[0m\u001B[0;34m\u001B[0m\u001B[0;34m\u001B[0m\u001B[0;34m\u001B[0m\u001B[0m\n",
      "\u001B[0;32m~/opt/anaconda3/lib/python3.8/site-packages/pandas/core/generic.py\u001B[0m in \u001B[0;36m_get_item_cache\u001B[0;34m(self, item)\u001B[0m\n\u001B[1;32m   3798\u001B[0m \u001B[0;34m\u001B[0m\u001B[0m\n\u001B[1;32m   3799\u001B[0m             \u001B[0;31m# for a chain\u001B[0m\u001B[0;34m\u001B[0m\u001B[0;34m\u001B[0m\u001B[0;34m\u001B[0m\u001B[0m\n\u001B[0;32m-> 3800\u001B[0;31m             \u001B[0mres\u001B[0m\u001B[0;34m.\u001B[0m\u001B[0m_is_copy\u001B[0m \u001B[0;34m=\u001B[0m \u001B[0mself\u001B[0m\u001B[0;34m.\u001B[0m\u001B[0m_is_copy\u001B[0m\u001B[0;34m\u001B[0m\u001B[0;34m\u001B[0m\u001B[0m\n\u001B[0m\u001B[1;32m   3801\u001B[0m         \u001B[0;32mreturn\u001B[0m \u001B[0mres\u001B[0m\u001B[0;34m\u001B[0m\u001B[0;34m\u001B[0m\u001B[0m\n\u001B[1;32m   3802\u001B[0m \u001B[0;34m\u001B[0m\u001B[0m\n",
      "\u001B[0;32m~/opt/anaconda3/lib/python3.8/site-packages/pandas/core/generic.py\u001B[0m in \u001B[0;36m__setattr__\u001B[0;34m(self, name, value)\u001B[0m\n\u001B[1;32m   5474\u001B[0m         \u001B[0;31m# the same attribute.\u001B[0m\u001B[0;34m\u001B[0m\u001B[0;34m\u001B[0m\u001B[0;34m\u001B[0m\u001B[0m\n\u001B[1;32m   5475\u001B[0m \u001B[0;34m\u001B[0m\u001B[0m\n\u001B[0;32m-> 5476\u001B[0;31m         \u001B[0;32mtry\u001B[0m\u001B[0;34m:\u001B[0m\u001B[0;34m\u001B[0m\u001B[0;34m\u001B[0m\u001B[0m\n\u001B[0m\u001B[1;32m   5477\u001B[0m             \u001B[0mobject\u001B[0m\u001B[0;34m.\u001B[0m\u001B[0m__getattribute__\u001B[0m\u001B[0;34m(\u001B[0m\u001B[0mself\u001B[0m\u001B[0;34m,\u001B[0m \u001B[0mname\u001B[0m\u001B[0;34m)\u001B[0m\u001B[0;34m\u001B[0m\u001B[0;34m\u001B[0m\u001B[0m\n\u001B[1;32m   5478\u001B[0m             \u001B[0;32mreturn\u001B[0m \u001B[0mobject\u001B[0m\u001B[0;34m.\u001B[0m\u001B[0m__setattr__\u001B[0m\u001B[0;34m(\u001B[0m\u001B[0mself\u001B[0m\u001B[0;34m,\u001B[0m \u001B[0mname\u001B[0m\u001B[0;34m,\u001B[0m \u001B[0mvalue\u001B[0m\u001B[0;34m)\u001B[0m\u001B[0;34m\u001B[0m\u001B[0;34m\u001B[0m\u001B[0m\n",
      "\u001B[0;31mKeyboardInterrupt\u001B[0m: "
     ]
    }
   ],
   "source": [
    "driver_numbers =  laps['DriverNumber'].unique()\n",
    "overtakes = []\n",
    "data_frame_to_process = {}\n",
    "for driver in driver_numbers:\n",
    "    telemetry = laps.pick_driver(driver).get_telemetry()\n",
    "    df = telemetry['DriverAhead'].to_frame()\n",
    "    df['DriverAhead'] = pd.to_numeric(df['DriverAhead'])\n",
    "    df = df.fillna(0)\n",
    "    df = df.diff(axis=0)\n",
    "    telemetry['DriverAhead_difference'] = df['DriverAhead']\n",
    "    telemetry.dropna(subset = ['DriverAhead_difference'], inplace=True)\n",
    "    telemetry = telemetry[(telemetry['DriverAhead_difference'] != 0)]\n",
    "    print(telemetry['DriverAhead_difference'].unique())\n",
    "    # for _, overtake in telemetry.iterrows():\n",
    "    #     drivers = sorted([int(overtake['DriverAhead']), int(driver)])\n",
    "    #     overtakes.append({\n",
    "    #         'First_driver': drivers[0],\n",
    "    #         'Second_driver': drivers[1],\n",
    "    #         'X': math.floor(overtake['X'] // 10 // x_size_of_sector),\n",
    "    #         'Y': math.floor(overtake['Y'] // 10 // y_size_of_sector),\n",
    "    #         'Date': overtake['Time'] - datetime.timedelta(microseconds=overtake['Time'].microseconds)\n",
    "    #     })\n",
    "overtakes = pd.DataFrame(overtakes)"
   ],
   "metadata": {
    "collapsed": false,
    "pycharm": {
     "name": "#%%\n"
    }
   }
  },
  {
   "cell_type": "code",
   "execution_count": 319,
   "outputs": [],
   "source": [
    "overtakes = overtakes.drop_duplicates(subset=['First_driver', 'Second_driver', 'Date'])"
   ],
   "metadata": {
    "collapsed": false,
    "pycharm": {
     "name": "#%%\n"
    }
   }
  },
  {
   "cell_type": "markdown",
   "source": [
    "<h2> Давайте создадим нашу трассу </h2>"
   ],
   "metadata": {
    "collapsed": false
   }
  },
  {
   "cell_type": "code",
   "execution_count": 320,
   "outputs": [],
   "source": [
    "def num_of_overtakes_in_segment(point, overtakes_df):\n",
    "    return len(overtakes_df[(overtakes_df['X'] == math.floor(point['X'] // 10  // x_size_of_sector)) & (overtakes_df['Y'] == math.floor(point['Y'] // 10 // y_size_of_sector))])\n",
    "\n",
    "lap = laps.pick_fastest()\n",
    "tel = lap.get_telemetry()\n",
    "\n",
    "x = np.array(tel['X'].values)\n",
    "y = np.array(tel['Y'].values)\n",
    "\n",
    "overtakes_to_display = pd.DataFrame({\"X\": x, \"Y\": y})\n",
    "overtakes_to_display['nOvertakes'] = overtakes_to_display.apply(lambda i: num_of_overtakes_in_segment(i, overtakes), axis=1)\n",
    "\n",
    "points = np.array([x, y]).T.reshape(-1, 1, 2)\n",
    "segments = np.concatenate([points[:-1], points[1:]], axis=1)"
   ],
   "metadata": {
    "collapsed": false,
    "pycharm": {
     "name": "#%%\n"
    }
   }
  },
  {
   "cell_type": "code",
   "execution_count": null,
   "outputs": [],
   "source": [
    "overtakes_to_display.sort_values(by='nOvertakes', ascending=False)"
   ],
   "metadata": {
    "collapsed": false,
    "pycharm": {
     "name": "#%%\n"
    }
   }
  },
  {
   "cell_type": "code",
   "execution_count": null,
   "outputs": [],
   "source": [
    "from matplotlib.collections import LineCollection\n",
    "from matplotlib import cm\n",
    "import matplotlib.pyplot as plt\n",
    "from matplotlib.pyplot import figure\n",
    "\n",
    "fig,ax = plt.subplots(figsize=(30, 30), dpi=200)\n",
    "\n",
    "overtake = overtakes_to_display['nOvertakes'].to_numpy().astype(float)\n",
    "\n",
    "cmap = cm.get_cmap('Paired')\n",
    "lc_comp = LineCollection(segments, norm=plt.Normalize(1, cmap.N+1), cmap=cmap)\n",
    "lc_comp.set_array(overtake)\n",
    "lc_comp.set_linewidth(4)\n",
    "ax.add_collection(lc_comp)\n",
    "\n",
    "# plt.plot(x, y)\n",
    "# plt.scatter(overtakes_to_display[overtakes_to_display['nOvertakes'] != 0]['X'], overtakes_to_display[overtakes_to_display['nOvertakes'] != 0]['Y'], color='y', s=20)\n",
    "# plt.scatter(overtakes['X'] * 10 * x_size_of_sector, overtakes['Y'] * 10 * y_size_of_sector, color='r', s=10)\n",
    "# plt.axis('equal')\n",
    "\n",
    "major_ticks = np.arange(-7000, 23000, 500)\n",
    "minor_ticks = np.arange(-7000, 23000, 500)\n",
    "\n",
    "ax.set_xticks(major_ticks)\n",
    "ax.set_xticks(minor_ticks, minor=True)\n",
    "ax.set_yticks(major_ticks)\n",
    "ax.set_yticks(minor_ticks, minor=True)\n",
    "plt.grid()\n",
    "plt.xticks(rotation=90)\n",
    "plt.show()"
   ],
   "metadata": {
    "collapsed": false,
    "pycharm": {
     "name": "#%%\n"
    }
   }
  },
  {
   "cell_type": "code",
   "execution_count": null,
   "outputs": [],
   "source": [],
   "metadata": {
    "collapsed": false,
    "pycharm": {
     "name": "#%%\n"
    }
   }
  }
 ],
 "metadata": {
  "kernelspec": {
   "display_name": "Python 3",
   "language": "python",
   "name": "python3"
  },
  "language_info": {
   "codemirror_mode": {
    "name": "ipython",
    "version": 2
   },
   "file_extension": ".py",
   "mimetype": "text/x-python",
   "name": "python",
   "nbconvert_exporter": "python",
   "pygments_lexer": "ipython2",
   "version": "2.7.6"
  }
 },
 "nbformat": 4,
 "nbformat_minor": 0
}