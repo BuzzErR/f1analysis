{
 "cells": [
  {
   "cell_type": "markdown",
   "source": [
    "<h1>Анализ формулы один с использованием методов машинного обучения и математической статистики</h1>"
   ],
   "metadata": {
    "collapsed": false
   }
  },
  {
   "cell_type": "markdown",
   "source": [
    "<h2>Первоначальной нашей целью будет прогноз вероятности совершения обгона на каждом из участков трассы.</h2>"
   ],
   "metadata": {
    "collapsed": false
   }
  },
  {
   "cell_type": "code",
   "execution_count": 1,
   "metadata": {
    "collapsed": true
   },
   "outputs": [],
   "source": [
    "import fastf1 as ff1\n",
    "import pandas as pd\n",
    "import numpy as np\n",
    "import datetime\n",
    "import math\n",
    "\n",
    "ff1.Cache.enable_cache('cache')\n",
    "session = ff1.get_session(2021, 22, 'R')\n",
    "quali = ff1.get_session(2021, 22, 'Q')\n",
    "quali = pd.DataFrame(quali.results)"
   ]
  },
  {
   "cell_type": "code",
   "execution_count": 2,
   "outputs": [
    {
     "name": "stderr",
     "output_type": "stream",
     "text": [
      "core           INFO \tLoading laps for Abu Dhabi Grand Prix - Race [v2.1.13]\n",
      "api            INFO \tUsing cached data for timing_data\n",
      "api            INFO \tUsing cached data for timing_app_data\n",
      "core           INFO \tProcessing timing data...\n",
      "api            INFO \tUsing cached data for driver_info\n",
      "api            INFO \tUsing cached data for session_status_data\n",
      "utils          INFO \tNumExpr defaulting to 8 threads.\n",
      "api            INFO \tUsing cached data for track_status_data\n",
      "api            INFO \tUsing cached data for car_data\n",
      "api            INFO \tUsing cached data for position_data\n",
      "api            INFO \tUsing cached data for weather_data\n",
      "core           INFO \tLoaded data for 19 drivers: ['55', '7', '31', '33', '18', '77', '22', '14', '16', '44', '6', '63', '99', '3', '47', '11', '10', '4', '5']\n",
      "api            INFO \tUsing cached data for car_data\n",
      "api            INFO \tUsing cached data for position_data\n"
     ]
    }
   ],
   "source": [
    "laps = session.load_laps(with_telemetry=True)\n",
    "session.load_telemetry()"
   ],
   "metadata": {
    "collapsed": false,
    "pycharm": {
     "name": "#%%\n"
    }
   }
  },
  {
   "cell_type": "code",
   "execution_count": 3,
   "outputs": [
    {
     "data": {
      "text/plain": "                      Time DriverNumber                LapTime  LapNumber  \\\n0   0 days 01:03:54.885000           33                    NaT          1   \n1   0 days 01:05:23.988000           33 0 days 00:01:29.103000          2   \n2   0 days 01:06:52.815000           33 0 days 00:01:28.827000          3   \n3   0 days 01:08:21.841000           33 0 days 00:01:29.026000          4   \n4   0 days 01:09:50.559000           33 0 days 00:01:28.718000          5   \n..                     ...          ...                    ...        ...   \n993 0 days 02:24:55.281000           47 0 days 00:02:11.605000         53   \n994 0 days 02:26:39.361000           47 0 days 00:01:44.080000         54   \n995 0 days 02:28:57.976000           47 0 days 00:02:18.615000         55   \n996 0 days 02:31:17.001000           47 0 days 00:02:19.025000         56   \n997 0 days 02:32:48.022000           47 0 days 00:01:31.021000         57   \n\n     Stint             PitOutTime PitInTime            Sector1Time  \\\n0        1 0 days 00:23:01.492000       NaT                    NaT   \n1        1                    NaT       NaT 0 days 00:00:18.116000   \n2        1                    NaT       NaT 0 days 00:00:17.999000   \n3        1                    NaT       NaT 0 days 00:00:18.019000   \n4        1                    NaT       NaT 0 days 00:00:17.999000   \n..     ...                    ...       ...                    ...   \n993      3 0 days 02:23:04.752000       NaT 0 days 00:00:40.395000   \n994      3                    NaT       NaT 0 days 00:00:19.591000   \n995      3                    NaT       NaT 0 days 00:00:22.400000   \n996      3                    NaT       NaT 0 days 00:00:28.870000   \n997      3                    NaT       NaT 0 days 00:00:19.287000   \n\n               Sector2Time            Sector3Time  ... SpeedST Compound  \\\n0   0 days 00:00:38.428000 0 days 00:00:33.563000  ...   318.0     SOFT   \n1   0 days 00:00:38.026000 0 days 00:00:32.961000  ...   302.0     SOFT   \n2   0 days 00:00:38.043000 0 days 00:00:32.785000  ...   301.0     SOFT   \n3   0 days 00:00:38.125000 0 days 00:00:32.882000  ...   303.0     SOFT   \n4   0 days 00:00:38.083000 0 days 00:00:32.636000  ...   303.0     SOFT   \n..                     ...                    ...  ...     ...      ...   \n993 0 days 00:00:48.541000 0 days 00:00:42.669000  ...   203.0     SOFT   \n994 0 days 00:00:42.890000 0 days 00:00:41.599000  ...   268.0     SOFT   \n995 0 days 00:01:02.169000 0 days 00:00:54.046000  ...   257.0     SOFT   \n996 0 days 00:00:56.316000 0 days 00:00:53.839000  ...   258.0     SOFT   \n997 0 days 00:00:37.859000 0 days 00:00:33.875000  ...   309.0     SOFT   \n\n    TyreLife  FreshTyre           LapStartTime          Team  Driver  \\\n0        4.0      False 0 days 01:02:21.871000      Red Bull     VER   \n1        5.0      False 0 days 01:03:54.885000      Red Bull     VER   \n2        6.0      False 0 days 01:05:23.988000      Red Bull     VER   \n3        7.0      False 0 days 01:06:52.815000      Red Bull     VER   \n4        8.0      False 0 days 01:08:21.841000      Red Bull     VER   \n..       ...        ...                    ...           ...     ...   \n993      4.0      False 0 days 02:22:43.676000  Haas F1 Team     MSC   \n994      5.0      False 0 days 02:24:55.281000  Haas F1 Team     MSC   \n995      6.0      False 0 days 02:26:39.361000  Haas F1 Team     MSC   \n996      7.0      False 0 days 02:28:57.976000  Haas F1 Team     MSC   \n997      8.0      False 0 days 02:31:17.001000  Haas F1 Team     MSC   \n\n    TrackStatus  IsAccurate            LapStartDate  \n0             1       False 2021-12-12 13:03:21.881  \n1             1        True 2021-12-12 13:04:54.895  \n2             1        True 2021-12-12 13:06:23.998  \n3             1        True 2021-12-12 13:07:52.825  \n4             1        True 2021-12-12 13:09:21.851  \n..          ...         ...                     ...  \n993           4       False 2021-12-12 14:23:43.686  \n994           4       False 2021-12-12 14:25:55.291  \n995           4       False 2021-12-12 14:27:39.371  \n996           4       False 2021-12-12 14:29:57.986  \n997           1       False 2021-12-12 14:32:17.011  \n\n[998 rows x 26 columns]",
      "text/html": "<div>\n<style scoped>\n    .dataframe tbody tr th:only-of-type {\n        vertical-align: middle;\n    }\n\n    .dataframe tbody tr th {\n        vertical-align: top;\n    }\n\n    .dataframe thead th {\n        text-align: right;\n    }\n</style>\n<table border=\"1\" class=\"dataframe\">\n  <thead>\n    <tr style=\"text-align: right;\">\n      <th></th>\n      <th>Time</th>\n      <th>DriverNumber</th>\n      <th>LapTime</th>\n      <th>LapNumber</th>\n      <th>Stint</th>\n      <th>PitOutTime</th>\n      <th>PitInTime</th>\n      <th>Sector1Time</th>\n      <th>Sector2Time</th>\n      <th>Sector3Time</th>\n      <th>...</th>\n      <th>SpeedST</th>\n      <th>Compound</th>\n      <th>TyreLife</th>\n      <th>FreshTyre</th>\n      <th>LapStartTime</th>\n      <th>Team</th>\n      <th>Driver</th>\n      <th>TrackStatus</th>\n      <th>IsAccurate</th>\n      <th>LapStartDate</th>\n    </tr>\n  </thead>\n  <tbody>\n    <tr>\n      <th>0</th>\n      <td>0 days 01:03:54.885000</td>\n      <td>33</td>\n      <td>NaT</td>\n      <td>1</td>\n      <td>1</td>\n      <td>0 days 00:23:01.492000</td>\n      <td>NaT</td>\n      <td>NaT</td>\n      <td>0 days 00:00:38.428000</td>\n      <td>0 days 00:00:33.563000</td>\n      <td>...</td>\n      <td>318.0</td>\n      <td>SOFT</td>\n      <td>4.0</td>\n      <td>False</td>\n      <td>0 days 01:02:21.871000</td>\n      <td>Red Bull</td>\n      <td>VER</td>\n      <td>1</td>\n      <td>False</td>\n      <td>2021-12-12 13:03:21.881</td>\n    </tr>\n    <tr>\n      <th>1</th>\n      <td>0 days 01:05:23.988000</td>\n      <td>33</td>\n      <td>0 days 00:01:29.103000</td>\n      <td>2</td>\n      <td>1</td>\n      <td>NaT</td>\n      <td>NaT</td>\n      <td>0 days 00:00:18.116000</td>\n      <td>0 days 00:00:38.026000</td>\n      <td>0 days 00:00:32.961000</td>\n      <td>...</td>\n      <td>302.0</td>\n      <td>SOFT</td>\n      <td>5.0</td>\n      <td>False</td>\n      <td>0 days 01:03:54.885000</td>\n      <td>Red Bull</td>\n      <td>VER</td>\n      <td>1</td>\n      <td>True</td>\n      <td>2021-12-12 13:04:54.895</td>\n    </tr>\n    <tr>\n      <th>2</th>\n      <td>0 days 01:06:52.815000</td>\n      <td>33</td>\n      <td>0 days 00:01:28.827000</td>\n      <td>3</td>\n      <td>1</td>\n      <td>NaT</td>\n      <td>NaT</td>\n      <td>0 days 00:00:17.999000</td>\n      <td>0 days 00:00:38.043000</td>\n      <td>0 days 00:00:32.785000</td>\n      <td>...</td>\n      <td>301.0</td>\n      <td>SOFT</td>\n      <td>6.0</td>\n      <td>False</td>\n      <td>0 days 01:05:23.988000</td>\n      <td>Red Bull</td>\n      <td>VER</td>\n      <td>1</td>\n      <td>True</td>\n      <td>2021-12-12 13:06:23.998</td>\n    </tr>\n    <tr>\n      <th>3</th>\n      <td>0 days 01:08:21.841000</td>\n      <td>33</td>\n      <td>0 days 00:01:29.026000</td>\n      <td>4</td>\n      <td>1</td>\n      <td>NaT</td>\n      <td>NaT</td>\n      <td>0 days 00:00:18.019000</td>\n      <td>0 days 00:00:38.125000</td>\n      <td>0 days 00:00:32.882000</td>\n      <td>...</td>\n      <td>303.0</td>\n      <td>SOFT</td>\n      <td>7.0</td>\n      <td>False</td>\n      <td>0 days 01:06:52.815000</td>\n      <td>Red Bull</td>\n      <td>VER</td>\n      <td>1</td>\n      <td>True</td>\n      <td>2021-12-12 13:07:52.825</td>\n    </tr>\n    <tr>\n      <th>4</th>\n      <td>0 days 01:09:50.559000</td>\n      <td>33</td>\n      <td>0 days 00:01:28.718000</td>\n      <td>5</td>\n      <td>1</td>\n      <td>NaT</td>\n      <td>NaT</td>\n      <td>0 days 00:00:17.999000</td>\n      <td>0 days 00:00:38.083000</td>\n      <td>0 days 00:00:32.636000</td>\n      <td>...</td>\n      <td>303.0</td>\n      <td>SOFT</td>\n      <td>8.0</td>\n      <td>False</td>\n      <td>0 days 01:08:21.841000</td>\n      <td>Red Bull</td>\n      <td>VER</td>\n      <td>1</td>\n      <td>True</td>\n      <td>2021-12-12 13:09:21.851</td>\n    </tr>\n    <tr>\n      <th>...</th>\n      <td>...</td>\n      <td>...</td>\n      <td>...</td>\n      <td>...</td>\n      <td>...</td>\n      <td>...</td>\n      <td>...</td>\n      <td>...</td>\n      <td>...</td>\n      <td>...</td>\n      <td>...</td>\n      <td>...</td>\n      <td>...</td>\n      <td>...</td>\n      <td>...</td>\n      <td>...</td>\n      <td>...</td>\n      <td>...</td>\n      <td>...</td>\n      <td>...</td>\n      <td>...</td>\n    </tr>\n    <tr>\n      <th>993</th>\n      <td>0 days 02:24:55.281000</td>\n      <td>47</td>\n      <td>0 days 00:02:11.605000</td>\n      <td>53</td>\n      <td>3</td>\n      <td>0 days 02:23:04.752000</td>\n      <td>NaT</td>\n      <td>0 days 00:00:40.395000</td>\n      <td>0 days 00:00:48.541000</td>\n      <td>0 days 00:00:42.669000</td>\n      <td>...</td>\n      <td>203.0</td>\n      <td>SOFT</td>\n      <td>4.0</td>\n      <td>False</td>\n      <td>0 days 02:22:43.676000</td>\n      <td>Haas F1 Team</td>\n      <td>MSC</td>\n      <td>4</td>\n      <td>False</td>\n      <td>2021-12-12 14:23:43.686</td>\n    </tr>\n    <tr>\n      <th>994</th>\n      <td>0 days 02:26:39.361000</td>\n      <td>47</td>\n      <td>0 days 00:01:44.080000</td>\n      <td>54</td>\n      <td>3</td>\n      <td>NaT</td>\n      <td>NaT</td>\n      <td>0 days 00:00:19.591000</td>\n      <td>0 days 00:00:42.890000</td>\n      <td>0 days 00:00:41.599000</td>\n      <td>...</td>\n      <td>268.0</td>\n      <td>SOFT</td>\n      <td>5.0</td>\n      <td>False</td>\n      <td>0 days 02:24:55.281000</td>\n      <td>Haas F1 Team</td>\n      <td>MSC</td>\n      <td>4</td>\n      <td>False</td>\n      <td>2021-12-12 14:25:55.291</td>\n    </tr>\n    <tr>\n      <th>995</th>\n      <td>0 days 02:28:57.976000</td>\n      <td>47</td>\n      <td>0 days 00:02:18.615000</td>\n      <td>55</td>\n      <td>3</td>\n      <td>NaT</td>\n      <td>NaT</td>\n      <td>0 days 00:00:22.400000</td>\n      <td>0 days 00:01:02.169000</td>\n      <td>0 days 00:00:54.046000</td>\n      <td>...</td>\n      <td>257.0</td>\n      <td>SOFT</td>\n      <td>6.0</td>\n      <td>False</td>\n      <td>0 days 02:26:39.361000</td>\n      <td>Haas F1 Team</td>\n      <td>MSC</td>\n      <td>4</td>\n      <td>False</td>\n      <td>2021-12-12 14:27:39.371</td>\n    </tr>\n    <tr>\n      <th>996</th>\n      <td>0 days 02:31:17.001000</td>\n      <td>47</td>\n      <td>0 days 00:02:19.025000</td>\n      <td>56</td>\n      <td>3</td>\n      <td>NaT</td>\n      <td>NaT</td>\n      <td>0 days 00:00:28.870000</td>\n      <td>0 days 00:00:56.316000</td>\n      <td>0 days 00:00:53.839000</td>\n      <td>...</td>\n      <td>258.0</td>\n      <td>SOFT</td>\n      <td>7.0</td>\n      <td>False</td>\n      <td>0 days 02:28:57.976000</td>\n      <td>Haas F1 Team</td>\n      <td>MSC</td>\n      <td>4</td>\n      <td>False</td>\n      <td>2021-12-12 14:29:57.986</td>\n    </tr>\n    <tr>\n      <th>997</th>\n      <td>0 days 02:32:48.022000</td>\n      <td>47</td>\n      <td>0 days 00:01:31.021000</td>\n      <td>57</td>\n      <td>3</td>\n      <td>NaT</td>\n      <td>NaT</td>\n      <td>0 days 00:00:19.287000</td>\n      <td>0 days 00:00:37.859000</td>\n      <td>0 days 00:00:33.875000</td>\n      <td>...</td>\n      <td>309.0</td>\n      <td>SOFT</td>\n      <td>8.0</td>\n      <td>False</td>\n      <td>0 days 02:31:17.001000</td>\n      <td>Haas F1 Team</td>\n      <td>MSC</td>\n      <td>1</td>\n      <td>False</td>\n      <td>2021-12-12 14:32:17.011</td>\n    </tr>\n  </tbody>\n</table>\n<p>998 rows × 26 columns</p>\n</div>"
     },
     "execution_count": 3,
     "metadata": {},
     "output_type": "execute_result"
    }
   ],
   "source": [
    "laps"
   ],
   "metadata": {
    "collapsed": false,
    "pycharm": {
     "name": "#%%\n"
    }
   }
  },
  {
   "cell_type": "markdown",
   "source": [
    "Сделаем подготовку данных для просчета обгонов\n",
    "Отберем для каждого гонщика те записи, где менялся гонщик впереди, аналогичные же записи отберем для других гонщиков"
   ],
   "metadata": {
    "collapsed": false
   }
  },
  {
   "cell_type": "code",
   "execution_count": 28,
   "outputs": [],
   "source": [
    "def get_ticks_to_process(laps_to_process):\n",
    "    driver_numbers =  laps_to_process['DriverNumber'].unique()\n",
    "    ticks_to_process = []\n",
    "    for driver in driver_numbers:\n",
    "        telemetry = laps_to_process.pick_driver(driver).get_telemetry()\n",
    "        data = telemetry['DriverAhead'].to_frame()\n",
    "        data['DriverAhead'] = pd.to_numeric(data['DriverAhead'])\n",
    "        data = data.fillna(0)\n",
    "        data = data.diff(axis=0)\n",
    "        telemetry['DriverAhead_difference'] = data['DriverAhead']\n",
    "        telemetry.dropna(subset = ['DriverAhead_difference'], inplace=True)\n",
    "        telemetry = telemetry[(telemetry['DriverAhead_difference'] != 0)]\n",
    "        ticks_to_process += list(telemetry['Time'].unique())\n",
    "    return list(sorted(list(dict.fromkeys(ticks_to_process))))"
   ],
   "metadata": {
    "collapsed": false,
    "pycharm": {
     "name": "#%%\n"
    }
   }
  },
  {
   "cell_type": "code",
   "execution_count": 78,
   "outputs": [],
   "source": [
    "# взять текущий тик -> ближайший тик гонщика впереди -> ближайший тик его гонщика и т.д. ...\n",
    "def sort_not_calculated(drivers_to_process, laps_to_process, last_driver_in_peleton, current_time):\n",
    "    drivers_dict = {}\n",
    "    drivers_to_delete = []\n",
    "    result = []\n",
    "\n",
    "    for driver in drivers_to_process:\n",
    "        driver_ahead = laps_to_process.pick_driver(driver).get_telemetry()\n",
    "        ahead_tick = driver_ahead[(driver_ahead['Time'] >= current_time)].index.min()\n",
    "        ahead_tick = driver_ahead.loc[ahead_tick]\n",
    "        if len(ahead_tick) == 0:\n",
    "            drivers_to_delete.append(driver)\n",
    "            break\n",
    "        driver_ahead_num = ahead_tick['DriverAhead']\n",
    "        try:\n",
    "            _ = drivers_dict[driver_ahead_num]\n",
    "            return [], drivers_to_delete, True\n",
    "        except Exception as _:\n",
    "            drivers_dict[driver_ahead_num] = driver\n",
    "\n",
    "    for c in range(len(drivers_dict)):\n",
    "        try:\n",
    "            last_driver_in_peleton = drivers_dict[last_driver_in_peleton]\n",
    "            result.append(last_driver_in_peleton)\n",
    "        except Exception as _:\n",
    "            return [], drivers_to_delete, True\n",
    "\n",
    "    return result, drivers_to_delete, False\n",
    "\n",
    "\n",
    "def get_peleton_by_tick(current_time, driver_laps_to_process, drivers_peleton_to_process, laps_to_process):\n",
    "    current_time_index = driver_laps_to_process[driver_laps_to_process['Time'] > current_time].index.min()\n",
    "    tick = driver_laps_to_process.loc[[current_time_index]].iloc[0]\n",
    "    current_time = tick['Time']\n",
    "    print(current_time)\n",
    "    driver_ahead_num = tick['DriverAhead']\n",
    "    current_peleton = [int(drivers_peleton_to_process[0]), int(tick['DriverAhead'])]\n",
    "    error_counter = 0\n",
    "    max_possible_num_of_errors = 0\n",
    "    while driver_ahead_num != '':\n",
    "        driver_ahead = laps.pick_driver(driver_ahead_num).get_telemetry()\n",
    "        ahead_tick = driver_ahead[(driver_ahead['Time'] >= current_time)].index.min()\n",
    "        ahead_tick = driver_ahead.loc[ahead_tick]\n",
    "        driver_ahead_num = ahead_tick['DriverAhead']\n",
    "\n",
    "        if error_counter > max_possible_num_of_errors:\n",
    "            not_calculated_drivers = list(set(drivers_peleton_to_process).difference(current_peleton))\n",
    "            print(not_calculated_drivers, driver_ahead_num, current_peleton, 'too much errors')\n",
    "            return current_peleton, not_calculated_drivers, True, current_time # последний параметр отвечает за успешность обработки tick'а\n",
    "\n",
    "        if driver_ahead_num != '':\n",
    "            driver_ahead_num = int(driver_ahead_num)\n",
    "            if driver_ahead_num not in current_peleton:\n",
    "                current_peleton.append(driver_ahead_num)\n",
    "            elif driver_ahead_num == current_peleton[-2]:\n",
    "                current_peleton = current_peleton[:-2] + [current_peleton[-1], current_peleton[-2]]\n",
    "                driver_ahead = laps_to_process.pick_driver(driver_ahead_num).get_telemetry()\n",
    "                current_time_index = driver_ahead[(driver_ahead['Time'] > current_time) & (driver_ahead['DriverAhead'] != '')].index.min()\n",
    "                current_time = driver_ahead.loc[[current_time_index]].iloc[0]['Time']\n",
    "            else:\n",
    "                driver_ahead_num = current_peleton[0]\n",
    "                current_peleton = current_peleton[:1]\n",
    "                current_time_index = driver_laps_to_process[driver_laps_to_process['Time'] > current_time].index.min()\n",
    "                tick = driver_laps_to_process.loc[[current_time_index + 1]].iloc[0]\n",
    "                current_time = tick['Time']\n",
    "                max_possible_num_of_errors = 2\n",
    "                error_counter += 1\n",
    "                print('tick updated')\n",
    "        else:\n",
    "            not_calculated_drivers = list(set(drivers_peleton_to_process).difference(current_peleton))\n",
    "            updated_tail, drivers_to_delete, error = sort_not_calculated(not_calculated_drivers, laps_to_process, current_peleton[0], current_time)\n",
    "            current_peleton = updated_tail + current_peleton\n",
    "            for driver in drivers_to_delete:\n",
    "                drivers_peleton_to_process.remove(driver)\n",
    "            if error:\n",
    "                driver_ahead_num = not_calculated_drivers[0]\n",
    "                current_peleton = not_calculated_drivers[:1]\n",
    "                current_time_index = driver_laps_to_process[driver_laps_to_process['Time'] > current_time].index.min()\n",
    "                tick = driver_laps_to_process.loc[[current_time_index + 1]].iloc[0]\n",
    "                current_time = tick['Time']\n",
    "                max_possible_num_of_errors = max(2, len(not_calculated_drivers))\n",
    "                error_counter += 1\n",
    "                print('tick updated from tail')\n",
    "            else:\n",
    "                return current_peleton, not_calculated_drivers, False, current_time # последний параметр отвечает за успешность обработки tick'а"
   ],
   "metadata": {
    "collapsed": false,
    "pycharm": {
     "name": "#%%\n"
    }
   }
  },
  {
   "cell_type": "code",
   "execution_count": 48,
   "outputs": [],
   "source": [
    "drivers_peleton_all = list(map(int, reversed(quali['number'].tolist())))\n",
    "drivers_peleton = []\n",
    "for i in range(len(drivers_peleton_all)):\n",
    "    try:\n",
    "        _ = laps.pick_driver(drivers_peleton_all[i]).get_telemetry()\n",
    "        drivers_peleton.append(drivers_peleton_all[i])\n",
    "    except Exception as _:\n",
    "        pass\n",
    "\n",
    "overtakes_to_process = get_ticks_to_process(laps)"
   ],
   "metadata": {
    "collapsed": false,
    "pycharm": {
     "name": "#%%\n"
    }
   }
  },
  {
   "cell_type": "code",
   "execution_count": null,
   "outputs": [
    {
     "name": "stdout",
     "output_type": "stream",
     "text": [
      "2022-03-10 01:40:31.315311\n",
      "0 days 00:00:00.681000\n",
      "tick updated\n",
      "tick updated from tail\n",
      "success [5, 47, 18, 33, 22, 14, 10, 11, 55, 63, 99, 3, 4, 77, 31, 7, 16, 6, 44] []\n",
      "0 days 00:00:02.661000\n",
      "tick updated from tail\n",
      "tick updated from tail\n",
      "success [47, 5, 33, 18, 10, 22, 14, 63, 11, 55, 99, 31, 4, 77, 3, 16, 6, 7, 44] []\n",
      "0 days 00:00:03.321000\n",
      "success [47, 5, 33, 10, 18, 14, 22, 63, 11, 55, 31, 99, 4, 77, 16, 3, 7, 6, 44] []\n",
      "0 days 00:00:03.541000\n",
      "success [47, 5, 33, 18, 10, 14, 22, 11, 63, 55, 31, 4, 99, 77, 3, 16, 7, 6, 44] []\n",
      "0 days 00:00:03.761000\n",
      "success [47, 5, 33, 14, 18, 10, 22, 11, 63, 55, 31, 4, 99, 77, 16, 3, 6, 7, 44] []\n",
      "0 days 00:00:03.981000\n",
      "success [47, 5, 33, 14, 10, 18, 22, 11, 31, 63, 55, 4, 99, 77, 16, 3, 6, 7, 44] []\n",
      "0 days 00:00:04.201000\n",
      "success [47, 5, 33, 14, 18, 10, 22, 11, 31, 63, 55, 4, 99, 77, 16, 3, 6, 7, 44] []\n",
      "0 days 00:00:04.421000\n",
      "success [47, 33, 5, 14, 18, 10, 22, 11, 31, 63, 55, 99, 4, 77, 16, 3, 7, 6, 44] []\n",
      "0 days 00:00:04.861000\n",
      "success [47, 33, 5, 14, 18, 10, 22, 31, 11, 63, 55, 4, 99, 77, 16, 3, 6, 7, 44] []\n",
      "0 days 00:00:05.080000\n",
      "success [47, 33, 5, 14, 18, 10, 22, 31, 11, 63, 55, 4, 99, 16, 77, 3, 6, 7, 44] []\n",
      "0 days 00:00:05.300000\n",
      "success [47, 33, 5, 14, 18, 10, 22, 31, 11, 55, 63, 4, 16, 99, 77, 3, 6, 7, 44] []\n",
      "0 days 00:00:05.520000\n",
      "success [47, 33, 5, 14, 18, 10, 22, 31, 11, 55, 63, 4, 16, 77, 99, 3, 6, 7, 44] []\n",
      "0 days 00:00:05.960000\n",
      "success [47, 33, 5, 14, 18, 10, 22, 31, 11, 55, 63, 16, 4, 77, 99, 3, 6, 7, 44] []\n",
      "0 days 00:00:06.180000\n",
      "success [47, 33, 5, 14, 18, 10, 22, 31, 11, 55, 63, 4, 16, 77, 3, 99, 6, 7, 44] []\n",
      "0 days 00:00:06.400000\n",
      "success [47, 33, 5, 14, 18, 10, 22, 31, 11, 55, 4, 63, 3, 16, 77, 99, 6, 7, 44] []\n",
      "0 days 00:00:06.620000\n",
      "success [47, 33, 5, 14, 18, 10, 22, 31, 55, 4, 11, 63, 3, 16, 77, 99, 6, 7, 44] []\n",
      "0 days 00:00:07.041000\n",
      "success [47, 33, 5, 14, 4, 55, 18, 10, 22, 11, 31, 3, 16, 63, 77, 99, 6, 44, 7] []\n",
      "0 days 00:00:07.261000\n",
      "success [47, 33, 4, 55, 5, 11, 14, 18, 22, 10, 31, 16, 3, 77, 63, 99, 44, 6, 7] []\n",
      "0 days 00:00:07.481000\n",
      "success [47, 33, 4, 55, 11, 22, 14, 5, 18, 10, 16, 77, 3, 31, 63, 44, 99, 6, 7] []\n",
      "0 days 00:00:07.701000\n",
      "tick updated from tail\n",
      "success [33, 4, 47, 55, 11, 22, 77, 16, 31, 3, 18, 10, 14, 5, 44, 63, 99, 6, 7] []\n",
      "0 days 00:00:08.141000\n",
      "tick updated\n",
      "tick updated from tail\n",
      "tick updated from tail\n",
      "[3, 5, 6, 7, 10, 11, 77, 14, 16, 18, 22, 31, 33, 99, 44, 47, 55, 63] 55 [4] too much errors\n",
      "failed [4] [3, 5, 6, 7, 10, 11, 77, 14, 16, 18, 22, 31, 33, 99, 44, 47, 55, 63]\n",
      "0 days 00:00:09.021000\n",
      "tick updated\n",
      "tick updated from tail\n",
      "tick updated from tail\n",
      "[3, 5, 6, 7, 10, 11, 77, 14, 16, 18, 22, 31, 33, 99, 44, 47, 55, 63] 55 [4] too much errors\n",
      "failed [4] [3, 5, 6, 7, 10, 11, 77, 14, 16, 18, 22, 31, 33, 99, 44, 47, 55, 63]\n",
      "0 days 00:00:10.121000\n",
      "tick updated\n",
      "tick updated from tail\n",
      "tick updated from tail\n",
      "[3, 5, 6, 7, 10, 11, 77, 14, 16, 18, 22, 31, 33, 99, 44, 47, 55, 63] 16 [4] too much errors\n",
      "failed [4] [3, 5, 6, 7, 10, 11, 77, 14, 16, 18, 22, 31, 33, 99, 44, 47, 55, 63]\n",
      "0 days 00:00:11.001000\n",
      "tick updated\n",
      "tick updated from tail\n",
      "tick updated from tail\n",
      "[3, 4, 5, 6, 7, 10, 11, 77, 14, 16, 18, 31, 33, 99, 44, 47, 55, 63] 31 [22] too much errors\n",
      "failed [22] [3, 4, 5, 6, 7, 10, 11, 77, 14, 16, 18, 31, 33, 99, 44, 47, 55, 63]\n",
      "0 days 00:00:12.100000\n",
      "tick updated\n",
      "tick updated from tail\n",
      "success [3, 31, 22, 10, 18, 14, 99, 77, 63, 6, 16, 5, 55, 47, 7, 33, 4, 11, 44] []\n",
      "0 days 00:00:12.760000\n",
      "tick updated\n",
      "tick updated from tail\n",
      "tick updated from tail\n",
      "[3, 4, 5, 6, 7, 11, 77, 14, 16, 18, 22, 31, 33, 99, 44, 47, 55, 63] 18 [10] too much errors\n",
      "failed [10] [3, 4, 5, 6, 7, 11, 77, 14, 16, 18, 22, 31, 33, 99, 44, 47, 55, 63]\n",
      "0 days 00:00:13.841000\n",
      "tick updated\n",
      "tick updated from tail\n",
      "tick updated from tail\n",
      "[3, 4, 5, 6, 7, 10, 11, 77, 14, 16, 22, 31, 33, 99, 44, 47, 55, 63] 14 [18] too much errors\n",
      "failed [18] [3, 4, 5, 6, 7, 10, 11, 77, 14, 16, 22, 31, 33, 99, 44, 47, 55, 63]\n",
      "0 days 00:00:14.721000\n",
      "tick updated\n",
      "tick updated from tail\n",
      "tick updated from tail\n",
      "[3, 4, 5, 6, 7, 11, 77, 14, 16, 18, 22, 31, 33, 99, 44, 47, 55, 63] 14 [10] too much errors\n",
      "failed [10] [3, 4, 5, 6, 7, 11, 77, 14, 16, 18, 22, 31, 33, 99, 44, 47, 55, 63]\n",
      "0 days 00:00:15.821000\n",
      "tick updated\n",
      "tick updated from tail\n",
      "tick updated from tail\n",
      "[3, 4, 6, 7, 10, 11, 77, 14, 16, 18, 22, 31, 33, 99, 44, 47, 55, 63] 6 [5] too much errors\n",
      "failed [5] [3, 4, 6, 7, 10, 11, 77, 14, 16, 18, 22, 31, 33, 99, 44, 47, 55, 63]\n",
      "0 days 00:00:16.701000\n",
      "tick updated\n",
      "tick updated from tail\n",
      "tick updated from tail\n",
      "[3, 4, 5, 6, 7, 10, 11, 77, 14, 16, 18, 22, 31, 33, 44, 47, 55, 63] 18 [99] too much errors\n",
      "failed [99] [3, 4, 5, 6, 7, 10, 11, 77, 14, 16, 18, 22, 31, 33, 44, 47, 55, 63]\n",
      "0 days 00:00:17.801000\n",
      "tick updated from tail\n",
      "tick updated from tail\n",
      "success [10, 5, 63, 47, 18, 99, 7, 6, 14, 31, 3, 22, 77, 16, 55, 4, 11, 33, 44] []\n",
      "0 days 00:00:18.680000\n",
      "tick updated from tail\n",
      "tick updated from tail\n",
      "success [63, 5, 10, 47, 18, 99, 7, 6, 14, 31, 3, 22, 77, 16, 55, 4, 11, 33, 44] []\n",
      "0 days 00:00:19.340000\n",
      "tick updated from tail\n",
      "tick updated from tail\n",
      "tick updated from tail\n",
      "[3, 4, 5, 6, 7, 10, 11, 77, 14, 16, 18, 22, 31, 33, 99, 44, 47, 55] 5 [63] too much errors\n",
      "failed [63] [3, 4, 5, 6, 7, 10, 11, 77, 14, 16, 18, 22, 31, 33, 99, 44, 47, 55]\n",
      "0 days 00:00:20.421000\n",
      "tick updated\n",
      "tick updated from tail\n",
      "tick updated from tail\n",
      "[3, 4, 6, 7, 10, 11, 77, 14, 16, 18, 22, 31, 33, 99, 44, 47, 55, 63] 18 [5] too much errors\n",
      "failed [5] [3, 4, 6, 7, 10, 11, 77, 14, 16, 18, 22, 31, 33, 99, 44, 47, 55, 63]\n",
      "0 days 00:00:21.521000\n",
      "tick updated from tail\n",
      "tick updated from tail\n",
      "success [63, 5, 47, 18, 7, 6, 10, 99, 14, 31, 3, 77, 22, 16, 55, 4, 11, 33, 44] []\n",
      "0 days 00:00:22.401000\n",
      "tick updated from tail\n",
      "success [63, 5, 47, 7, 18, 6, 10, 99, 14, 31, 3, 77, 22, 16, 55, 4, 11, 33, 44] []\n",
      "0 days 00:00:23.501000\n",
      "tick updated\n",
      "tick updated from tail\n",
      "tick updated from tail\n",
      "[3, 4, 5, 6, 7, 10, 11, 77, 14, 16, 18, 22, 31, 33, 99, 44, 47, 55] 5 [63] too much errors\n",
      "failed [63] [3, 4, 5, 6, 7, 10, 11, 77, 14, 16, 18, 22, 31, 33, 99, 44, 47, 55]\n",
      "0 days 00:00:24.820000\n",
      "tick updated\n",
      "tick updated from tail\n",
      "tick updated from tail\n",
      "[3, 4, 5, 6, 7, 10, 11, 77, 14, 16, 18, 22, 31, 33, 99, 44, 47, 55] 5 [63] too much errors\n",
      "failed [63] [3, 4, 5, 6, 7, 10, 11, 77, 14, 16, 18, 22, 31, 33, 99, 44, 47, 55]\n",
      "0 days 00:00:25.920000\n",
      "tick updated\n",
      "tick updated from tail\n",
      "tick updated from tail\n",
      "[3, 4, 5, 6, 7, 10, 11, 77, 14, 16, 18, 22, 31, 33, 99, 44, 47, 55] 18 [63] too much errors\n",
      "failed [63] [3, 4, 5, 6, 7, 10, 11, 77, 14, 16, 18, 22, 31, 33, 99, 44, 47, 55]\n",
      "0 days 00:00:26.781000\n",
      "tick updated\n",
      "tick updated from tail\n",
      "tick updated from tail\n",
      "[3, 4, 5, 7, 10, 11, 77, 14, 16, 18, 22, 31, 33, 99, 44, 47, 55, 63] 10 [6] too much errors\n",
      "failed [6] [3, 4, 5, 7, 10, 11, 77, 14, 16, 18, 22, 31, 33, 99, 44, 47, 55, 63]\n",
      "0 days 00:00:27.661000\n",
      "tick updated\n",
      "tick updated from tail\n",
      "tick updated from tail\n",
      "[3, 5, 6, 7, 10, 11, 77, 14, 16, 18, 22, 31, 33, 99, 44, 47, 55, 63] 6 [4] too much errors\n",
      "failed [4] [3, 5, 6, 7, 10, 11, 77, 14, 16, 18, 22, 31, 33, 99, 44, 47, 55, 63]\n",
      "0 days 00:00:28.761000\n",
      "tick updated\n",
      "tick updated from tail\n",
      "tick updated from tail\n",
      "[3, 4, 5, 6, 7, 11, 77, 14, 16, 18, 22, 31, 33, 99, 44, 47, 55, 63] 3 [10] too much errors\n",
      "failed [10] [3, 4, 5, 6, 7, 11, 77, 14, 16, 18, 22, 31, 33, 99, 44, 47, 55, 63]\n",
      "0 days 00:00:29.641000\n",
      "tick updated\n",
      "tick updated from tail\n",
      "tick updated from tail\n",
      "[3, 4, 5, 6, 7, 11, 77, 14, 16, 18, 22, 31, 33, 99, 44, 47, 55, 63] 6 [10] too much errors\n",
      "failed [10] [3, 4, 5, 6, 7, 11, 77, 14, 16, 18, 22, 31, 33, 99, 44, 47, 55, 63]\n",
      "0 days 00:00:30.741000\n",
      "tick updated\n",
      "tick updated from tail\n",
      "tick updated from tail\n",
      "[3, 4, 6, 7, 10, 11, 77, 14, 16, 18, 22, 31, 33, 99, 44, 47, 55, 63] 77 [5] too much errors\n",
      "failed [5] [3, 4, 6, 7, 10, 11, 77, 14, 16, 18, 22, 31, 33, 99, 44, 47, 55, 63]\n",
      "0 days 00:00:31.620000\n",
      "tick updated from tail\n",
      "tick updated from tail\n",
      "success [18, 6, 7, 5, 47, 63, 10, 99, 31, 77, 3, 14, 22, 16, 4, 55, 11, 33, 44] []\n",
      "0 days 00:00:32.500000\n",
      "tick updated\n",
      "tick updated from tail\n",
      "tick updated from tail\n",
      "[3, 4, 5, 7, 10, 11, 77, 14, 16, 18, 22, 31, 33, 99, 44, 47, 55, 63] 7 [6] too much errors\n",
      "failed [6] [3, 4, 5, 7, 10, 11, 77, 14, 16, 18, 22, 31, 33, 99, 44, 47, 55, 63]\n",
      "0 days 00:00:33.361000\n",
      "tick updated from tail\n",
      "tick updated from tail\n",
      "tick updated from tail\n",
      "[3, 4, 5, 6, 7, 10, 11, 77, 14, 16, 18, 22, 31, 33, 99, 44, 47, 55] 7 [63] too much errors\n",
      "failed [63] [3, 4, 5, 6, 7, 10, 11, 77, 14, 16, 18, 22, 31, 33, 99, 44, 47, 55]\n",
      "0 days 00:00:34.681000\n",
      "tick updated\n",
      "tick updated from tail\n",
      "tick updated from tail\n",
      "[3, 4, 5, 6, 10, 11, 77, 14, 16, 18, 22, 31, 33, 99, 44, 47, 55, 63] 6 [7] too much errors\n",
      "failed [7] [3, 4, 5, 6, 10, 11, 77, 14, 16, 18, 22, 31, 33, 99, 44, 47, 55, 63]\n",
      "0 days 00:00:37.980000\n",
      "tick updated from tail\n",
      "tick updated from tail\n",
      "tick updated from tail\n",
      "[3, 4, 5, 6, 7, 10, 11, 77, 14, 16, 18, 22, 31, 33, 99, 44, 47, 55] 6 [63] too much errors\n",
      "failed [63] [3, 4, 5, 6, 7, 10, 11, 77, 14, 16, 18, 22, 31, 33, 99, 44, 47, 55]\n",
      "0 days 00:00:42.141000\n",
      "tick updated\n",
      "tick updated from tail\n",
      "tick updated from tail\n",
      "[3, 4, 5, 6, 7, 10, 11, 77, 14, 16, 18, 22, 31, 33, 99, 44, 47, 55] 6 [63] too much errors\n",
      "failed [63] [3, 4, 5, 6, 7, 10, 11, 77, 14, 16, 18, 22, 31, 33, 99, 44, 47, 55]\n",
      "0 days 00:00:43.241000\n",
      "tick updated\n",
      "tick updated from tail\n",
      "tick updated from tail\n",
      "[3, 4, 5, 6, 7, 10, 11, 77, 14, 16, 18, 22, 31, 33, 99, 44, 47, 55] 6 [63] too much errors\n",
      "failed [63] [3, 4, 5, 6, 7, 10, 11, 77, 14, 16, 18, 22, 31, 33, 99, 44, 47, 55]\n",
      "0 days 00:00:44.121000\n",
      "tick updated from tail\n",
      "success [63, 47, 7, 6, 5, 18, 99, 10, 77, 31, 3, 14, 4, 11, 16, 22, 33, 55, 44] []\n",
      "0 days 00:00:44.560000\n",
      "tick updated from tail\n",
      "success [63, 47, 7, 6, 5, 18, 10, 77, 99, 31, 3, 4, 11, 16, 14, 33, 22, 44, 55] []\n",
      "0 days 00:00:45\n",
      "tick updated from tail\n",
      "success [63, 47, 7, 6, 5, 18, 77, 10, 99, 31, 4, 11, 3, 16, 33, 22, 14, 44, 55] []\n",
      "0 days 00:00:45.660000\n",
      "tick updated from tail\n",
      "success [63, 47, 6, 7, 5, 77, 18, 4, 10, 31, 11, 16, 99, 3, 33, 22, 55, 44, 14] []\n",
      "0 days 00:00:46.100000\n",
      "tick updated from tail\n",
      "tick updated from tail\n",
      "success [77, 63, 6, 47, 4, 18, 7, 31, 11, 5, 10, 16, 3, 33, 22, 55, 99, 44, 14] []\n",
      "0 days 00:00:46.741000\n",
      "tick updated\n",
      "tick updated from tail\n",
      "tick updated from tail\n",
      "[3, 4, 5, 6, 7, 10, 11, 14, 16, 18, 22, 31, 33, 99, 44, 47, 55, 63] 4 [77] too much errors\n",
      "failed [77] [3, 4, 5, 6, 7, 10, 11, 14, 16, 18, 22, 31, 33, 99, 44, 47, 55, 63]\n",
      "0 days 00:00:47.621000\n",
      "tick updated\n",
      "tick updated from tail\n",
      "tick updated from tail\n",
      "[3, 5, 6, 7, 10, 11, 77, 14, 16, 18, 22, 31, 33, 99, 44, 47, 55, 63] 31 [4] too much errors\n",
      "failed [4] [3, 5, 6, 7, 10, 11, 77, 14, 16, 18, 22, 31, 33, 99, 44, 47, 55, 63]\n",
      "0 days 00:00:48.721000\n",
      "tick updated\n",
      "tick updated from tail\n",
      "tick updated from tail\n",
      "[3, 5, 6, 7, 10, 11, 77, 14, 16, 18, 22, 31, 33, 99, 44, 47, 55, 63] 18 [4] too much errors\n",
      "failed [4] [3, 5, 6, 7, 10, 11, 77, 14, 16, 18, 22, 31, 33, 99, 44, 47, 55, 63]\n",
      "0 days 00:00:49.601000\n",
      "tick updated\n",
      "tick updated from tail\n",
      "tick updated from tail\n",
      "[3, 5, 6, 7, 10, 11, 77, 14, 16, 18, 22, 31, 33, 99, 44, 47, 55, 63] 47 [4] too much errors\n",
      "failed [4] [3, 5, 6, 7, 10, 11, 77, 14, 16, 18, 22, 31, 33, 99, 44, 47, 55, 63]\n",
      "0 days 00:00:50.701000\n",
      "tick updated from tail\n",
      "tick updated from tail\n",
      "tick updated from tail\n",
      "[3, 4, 5, 6, 7, 11, 77, 14, 16, 18, 22, 31, 33, 99, 44, 47, 55, 63] 6 [10] too much errors\n",
      "failed [10] [3, 4, 5, 6, 7, 11, 77, 14, 16, 18, 22, 31, 33, 99, 44, 47, 55, 63]\n",
      "0 days 00:00:51.580000\n",
      "tick updated\n",
      "tick updated from tail\n",
      "tick updated from tail\n",
      "[3, 4, 5, 7, 10, 11, 77, 14, 16, 18, 22, 31, 33, 99, 44, 47, 55, 63] 31 [6] too much errors\n",
      "failed [6] [3, 4, 5, 7, 10, 11, 77, 14, 16, 18, 22, 31, 33, 99, 44, 47, 55, 63]\n",
      "0 days 00:00:52.460000\n",
      "tick updated\n",
      "tick updated from tail\n",
      "tick updated from tail\n",
      "[3, 4, 5, 6, 7, 10, 11, 77, 14, 16, 22, 31, 33, 99, 44, 47, 55, 63] 47 [18] too much errors\n",
      "failed [18] [3, 4, 5, 6, 7, 10, 11, 77, 14, 16, 22, 31, 33, 99, 44, 47, 55, 63]\n",
      "0 days 00:00:53.541000\n",
      "tick updated from tail\n",
      "tick updated from tail\n",
      "success [6, 18, 7, 47, 63, 5, 10, 99, 31, 77, 3, 14, 22, 16, 4, 55, 11, 33, 44] []\n",
      "0 days 00:00:54.201000\n",
      "tick updated\n",
      "tick updated from tail\n",
      "success [6, 7, 47, 63, 18, 5, 10, 99, 31, 77, 3, 14, 22, 16, 4, 55, 11, 33, 44] []\n",
      "0 days 00:00:55.081000\n",
      "tick updated from tail\n",
      "success [6, 7, 47, 63, 18, 5, 10, 99, 31, 3, 77, 14, 22, 16, 4, 55, 11, 33, 44] []\n",
      "0 days 00:00:55.961000\n",
      "tick updated from tail\n",
      "success [6, 47, 7, 63, 18, 5, 10, 99, 31, 3, 77, 14, 22, 16, 4, 55, 11, 33, 44] []\n",
      "0 days 00:00:56.401000\n",
      "tick updated from tail\n",
      "success [6, 47, 63, 7, 5, 18, 10, 99, 31, 3, 77, 14, 22, 16, 4, 55, 11, 33, 44] []\n",
      "0 days 00:00:57.940000\n",
      "tick updated from tail\n",
      "success [6, 47, 63, 7, 5, 18, 99, 10, 31, 3, 77, 14, 22, 16, 4, 55, 11, 33, 44] []\n",
      "0 days 00:00:58.600000\n",
      "tick updated from tail\n",
      "tick updated from tail\n",
      "success [47, 6, 7, 63, 5, 18, 99, 10, 31, 3, 77, 14, 22, 16, 4, 55, 11, 33, 44] []\n",
      "0 days 00:01:00.341000\n",
      "success [47, 6, 7, 63, 5, 18, 99, 10, 31, 3, 77, 14, 22, 16, 4, 11, 55, 33, 44] []\n",
      "0 days 00:01:01.661000\n",
      "tick updated from tail\n",
      "success [6, 47, 7, 63, 5, 18, 99, 10, 31, 3, 77, 14, 22, 16, 4, 11, 55, 33, 44] []\n",
      "0 days 00:01:02.981000\n",
      "tick updated from tail\n",
      "success [6, 47, 7, 63, 5, 18, 99, 10, 31, 77, 3, 14, 22, 16, 11, 4, 55, 33, 44] []\n",
      "0 days 00:01:03.421000\n",
      "tick updated from tail\n",
      "success [6, 7, 47, 63, 5, 18, 99, 10, 77, 31, 3, 14, 22, 16, 11, 4, 55, 33, 44] []\n",
      "0 days 00:01:04.081000\n",
      "tick updated from tail\n",
      "success [6, 7, 47, 63, 5, 18, 10, 77, 31, 99, 3, 14, 16, 22, 11, 4, 55, 33, 44] []\n",
      "0 days 00:01:04.740000\n",
      "tick updated from tail\n",
      "success [6, 7, 47, 63, 5, 18, 77, 10, 31, 99, 3, 14, 16, 22, 11, 4, 55, 33, 44] []\n",
      "0 days 00:01:05.608000\n",
      "tick updated from tail\n",
      "success [6, 7, 47, 63, 5, 18, 77, 10, 31, 99, 3, 14, 22, 16, 11, 4, 55, 33, 44] []\n",
      "0 days 00:01:06.261000\n",
      "tick updated\n",
      "tick updated from tail\n",
      "success [6, 63, 47, 7, 5, 10, 77, 18, 31, 99, 3, 14, 22, 16, 11, 4, 55, 33, 44] []\n",
      "0 days 00:01:06.921000\n",
      "tick updated from tail\n",
      "success [6, 63, 47, 7, 5, 18, 10, 77, 31, 99, 3, 14, 22, 16, 4, 11, 55, 33, 44] []\n",
      "0 days 00:01:08.021000\n",
      "tick updated from tail\n",
      "success [6, 47, 63, 7, 18, 5, 10, 77, 31, 99, 3, 14, 22, 16, 4, 11, 55, 33, 44] []\n",
      "0 days 00:01:08.681000\n",
      "tick updated from tail\n",
      "success [6, 47, 63, 7, 18, 5, 10, 77, 99, 31, 3, 14, 22, 16, 4, 11, 55, 33, 44] []\n",
      "0 days 00:01:09.341000\n",
      "tick updated from tail\n",
      "success [6, 63, 47, 7, 18, 5, 10, 99, 77, 31, 3, 14, 22, 16, 4, 11, 55, 33, 44] []\n",
      "0 days 00:01:09.781000\n",
      "tick updated from tail\n",
      "success [6, 63, 47, 7, 18, 5, 10, 99, 31, 77, 3, 14, 22, 16, 4, 11, 55, 33, 44] []\n",
      "0 days 00:01:10.441000\n",
      "tick updated from tail\n",
      "success [6, 63, 47, 7, 18, 5, 10, 99, 3, 31, 77, 14, 22, 16, 4, 11, 55, 33, 44] []\n",
      "0 days 00:01:11.100000\n",
      "tick updated from tail\n",
      "tick updated from tail\n",
      "success [63, 6, 47, 7, 5, 18, 10, 99, 3, 31, 14, 77, 22, 16, 4, 11, 55, 33, 44] []\n",
      "0 days 00:01:12.841000\n",
      "tick updated from tail\n",
      "success [63, 47, 6, 7, 5, 18, 10, 99, 3, 31, 14, 77, 22, 16, 4, 11, 55, 33, 44] []\n",
      "0 days 00:01:13.501000\n",
      "tick updated from tail\n",
      "success [63, 47, 6, 7, 5, 18, 10, 99, 3, 31, 14, 77, 22, 16, 11, 4, 55, 33, 44] []\n",
      "0 days 00:01:13.941000\n",
      "tick updated from tail\n",
      "success [63, 47, 6, 7, 5, 18, 10, 99, 31, 3, 77, 14, 16, 22, 11, 4, 55, 33, 44] []\n",
      "0 days 00:01:14.821000\n",
      "tick updated from tail\n",
      "success [63, 47, 6, 7, 5, 18, 10, 99, 77, 31, 3, 14, 16, 11, 22, 4, 55, 33, 44] []\n",
      "0 days 00:01:15.481000\n",
      "tick updated from tail\n",
      "success [63, 47, 6, 7, 5, 18, 10, 77, 99, 31, 3, 14, 16, 11, 22, 4, 55, 33, 44] []\n",
      "0 days 00:01:15.921000\n",
      "tick updated from tail\n",
      "success [63, 47, 6, 7, 5, 18, 10, 77, 99, 31, 3, 16, 11, 14, 4, 22, 55, 33, 44] []\n",
      "0 days 00:01:16.361000\n",
      "tick updated from tail\n",
      "success [63, 47, 6, 7, 18, 5, 77, 10, 31, 99, 16, 3, 11, 4, 22, 14, 55, 33, 44] []\n",
      "0 days 00:01:17.021000\n",
      "tick updated from tail\n",
      "success [63, 47, 6, 7, 77, 10, 18, 5, 31, 16, 3, 99, 4, 22, 11, 14, 55, 33, 44] []\n",
      "0 days 00:01:17.460000\n",
      "tick updated from tail\n",
      "success [63, 47, 6, 7, 77, 10, 18, 5, 31, 16, 3, 99, 22, 4, 11, 14, 55, 33, 44] []\n",
      "0 days 00:01:17.900000\n",
      "tick updated from tail\n",
      "success [63, 47, 6, 77, 7, 10, 18, 31, 5, 3, 16, 99, 22, 4, 14, 11, 55, 33, 44] []\n",
      "0 days 00:01:18.340000\n",
      "tick updated from tail\n"
     ]
    }
   ],
   "source": [
    "print(datetime.datetime.now())\n",
    "success_ticks = 0\n",
    "failed_ticks = 0\n",
    "peleton = drivers_peleton[:1]\n",
    "last_time = 0\n",
    "drivers_peleton_updates = {'Peleton': [], 'Not_proceeded': [], 'Time_min': [], 'Time_max': []}\n",
    "for overtake_tick in overtakes_to_process:\n",
    "    if overtake_tick > last_time:\n",
    "        driver_laps = laps.pick_driver(peleton[0]).get_telemetry()\n",
    "        peleton, not_processed, failed, last_time = get_peleton_by_tick(overtake_tick, driver_laps, drivers_peleton, laps)\n",
    "        if not failed:\n",
    "            success_ticks += 1\n",
    "            drivers_peleton_updates['Peleton'].append(peleton)\n",
    "            drivers_peleton_updates['Not_proceeded'].append(not_processed)\n",
    "            drivers_peleton_updates['Time_min'].append([overtake_tick])\n",
    "            drivers_peleton_updates['Time_max'].append([overtake_tick])\n",
    "            print('success', peleton, not_processed)\n",
    "        else:\n",
    "            failed_ticks += 1\n",
    "            print('failed', peleton, not_processed)\n",
    "print(success_ticks / (success_ticks + failed_ticks))"
   ],
   "metadata": {
    "collapsed": false,
    "pycharm": {
     "name": "#%%\n",
     "is_executing": true
    }
   }
  },
  {
   "cell_type": "code",
   "execution_count": null,
   "outputs": [],
   "source": [
    "drivers_peleton_updates_df = pd.DataFrame(drivers_peleton_updates)\n",
    "drivers_peleton_updates_df.to_csv('overtakes.csv', encoding='utf-8', index=False)"
   ],
   "metadata": {
    "collapsed": false,
    "pycharm": {
     "name": "#%%\n"
    }
   }
  },
  {
   "cell_type": "markdown",
   "source": [
    "## Посмотрим на визуализацию мест обгонов на одной конкретной трассе за разные года. Для этого выберем трассу которая не менялась с 2014 года.\n",
    " <i style=\"color: #ff2800\"> небольшое уточнение, все координаты представлены в 1/10 метра, мы разделим всю трассу на зоны"
   ],
   "metadata": {
    "collapsed": false
   }
  },
  {
   "cell_type": "code",
   "execution_count": 175,
   "outputs": [
    {
     "data": {
      "text/plain": "                         Date            SessionTime DriverAhead  \\\n369   2021-12-05 17:34:26.770 0 days 01:02:19.552000               \n370   2021-12-05 17:34:26.875 0 days 01:02:19.657000               \n371   2021-12-05 17:34:27.010 0 days 01:02:19.792000               \n372   2021-12-05 17:34:27.095 0 days 01:02:19.877000               \n373   2021-12-05 17:34:27.250 0 days 01:02:20.032000               \n...                       ...                    ...         ...   \n66112 2021-12-05 19:39:59.709 0 days 03:07:52.491000               \n66113 2021-12-05 19:39:59.720 0 days 03:07:52.502000               \n66114 2021-12-05 19:39:59.939 0 days 03:07:52.721000               \n66115 2021-12-05 19:39:59.949 0 days 03:07:52.731000               \n66116 2021-12-05 19:40:00.023 0 days 03:07:52.805000               \n\n       DistanceToDriverAhead                   Time   RPM  Speed  nGear  \\\n369                 3.407942 0 days 00:00:42.038000  9058    145      4   \n370                 3.408469 0 days 00:00:42.143000  9244    146      4   \n371                 3.408997 0 days 00:00:42.278000  9431    148      4   \n372                 3.409524 0 days 00:00:42.363000  9571    150      4   \n373                 3.410051 0 days 00:00:42.518000  9711    153      4   \n...                      ...                    ...   ...    ...    ...   \n66112               0.230000 0 days 02:06:14.977000  8799    248      8   \n66113               0.230000 0 days 02:06:14.988000  8711    246      8   \n66114               0.230000 0 days 02:06:15.207000  8624    244      8   \n66115               0.230000 0 days 02:06:15.217000  8537    243      8   \n66116               0.230000 0 days 02:06:15.291000  8687    238      8   \n\n       Throttle  Brake  DRS         Source       Distance  RelativeDistance  \\\n369          64      0    1            car    2192.728333          0.007188   \n370          66      0    1            pos    2197.014681          0.007202   \n371          68      0    1            car    2202.595000          0.007220   \n372          72      0    1            pos    2206.162137          0.007232   \n373          77      0    1            car    2212.795000          0.007254   \n...         ...    ...  ...            ...            ...               ...   \n66112         0    100    0            car  305027.872222          0.999898   \n66113         0    100    0            pos  305028.624336          0.999900   \n66114         0    100    0            pos  305043.416787          0.999948   \n66115         0    100    0            car  305044.072222          0.999951   \n66116         0    100    0  interpolation  305048.853722          0.999966   \n\n        Status     X      Y    Z  \n369    OnTrack -4355  21782  123  \n370    OnTrack -4396  21769  123  \n371    OnTrack -4446  21745  122  \n372    OnTrack -4477  21728  122  \n373    OnTrack -4531  21690  122  \n...        ...   ...    ...  ...  \n66112  OnTrack -1191    -70  118  \n66113  OnTrack -1194    -64  118  \n66114  OnTrack -1238     63  118  \n66115  OnTrack -1240     68  118  \n66116  OnTrack -1255    109  118  \n\n[65748 rows x 18 columns]",
      "text/html": "<div>\n<style scoped>\n    .dataframe tbody tr th:only-of-type {\n        vertical-align: middle;\n    }\n\n    .dataframe tbody tr th {\n        vertical-align: top;\n    }\n\n    .dataframe thead th {\n        text-align: right;\n    }\n</style>\n<table border=\"1\" class=\"dataframe\">\n  <thead>\n    <tr style=\"text-align: right;\">\n      <th></th>\n      <th>Date</th>\n      <th>SessionTime</th>\n      <th>DriverAhead</th>\n      <th>DistanceToDriverAhead</th>\n      <th>Time</th>\n      <th>RPM</th>\n      <th>Speed</th>\n      <th>nGear</th>\n      <th>Throttle</th>\n      <th>Brake</th>\n      <th>DRS</th>\n      <th>Source</th>\n      <th>Distance</th>\n      <th>RelativeDistance</th>\n      <th>Status</th>\n      <th>X</th>\n      <th>Y</th>\n      <th>Z</th>\n    </tr>\n  </thead>\n  <tbody>\n    <tr>\n      <th>369</th>\n      <td>2021-12-05 17:34:26.770</td>\n      <td>0 days 01:02:19.552000</td>\n      <td></td>\n      <td>3.407942</td>\n      <td>0 days 00:00:42.038000</td>\n      <td>9058</td>\n      <td>145</td>\n      <td>4</td>\n      <td>64</td>\n      <td>0</td>\n      <td>1</td>\n      <td>car</td>\n      <td>2192.728333</td>\n      <td>0.007188</td>\n      <td>OnTrack</td>\n      <td>-4355</td>\n      <td>21782</td>\n      <td>123</td>\n    </tr>\n    <tr>\n      <th>370</th>\n      <td>2021-12-05 17:34:26.875</td>\n      <td>0 days 01:02:19.657000</td>\n      <td></td>\n      <td>3.408469</td>\n      <td>0 days 00:00:42.143000</td>\n      <td>9244</td>\n      <td>146</td>\n      <td>4</td>\n      <td>66</td>\n      <td>0</td>\n      <td>1</td>\n      <td>pos</td>\n      <td>2197.014681</td>\n      <td>0.007202</td>\n      <td>OnTrack</td>\n      <td>-4396</td>\n      <td>21769</td>\n      <td>123</td>\n    </tr>\n    <tr>\n      <th>371</th>\n      <td>2021-12-05 17:34:27.010</td>\n      <td>0 days 01:02:19.792000</td>\n      <td></td>\n      <td>3.408997</td>\n      <td>0 days 00:00:42.278000</td>\n      <td>9431</td>\n      <td>148</td>\n      <td>4</td>\n      <td>68</td>\n      <td>0</td>\n      <td>1</td>\n      <td>car</td>\n      <td>2202.595000</td>\n      <td>0.007220</td>\n      <td>OnTrack</td>\n      <td>-4446</td>\n      <td>21745</td>\n      <td>122</td>\n    </tr>\n    <tr>\n      <th>372</th>\n      <td>2021-12-05 17:34:27.095</td>\n      <td>0 days 01:02:19.877000</td>\n      <td></td>\n      <td>3.409524</td>\n      <td>0 days 00:00:42.363000</td>\n      <td>9571</td>\n      <td>150</td>\n      <td>4</td>\n      <td>72</td>\n      <td>0</td>\n      <td>1</td>\n      <td>pos</td>\n      <td>2206.162137</td>\n      <td>0.007232</td>\n      <td>OnTrack</td>\n      <td>-4477</td>\n      <td>21728</td>\n      <td>122</td>\n    </tr>\n    <tr>\n      <th>373</th>\n      <td>2021-12-05 17:34:27.250</td>\n      <td>0 days 01:02:20.032000</td>\n      <td></td>\n      <td>3.410051</td>\n      <td>0 days 00:00:42.518000</td>\n      <td>9711</td>\n      <td>153</td>\n      <td>4</td>\n      <td>77</td>\n      <td>0</td>\n      <td>1</td>\n      <td>car</td>\n      <td>2212.795000</td>\n      <td>0.007254</td>\n      <td>OnTrack</td>\n      <td>-4531</td>\n      <td>21690</td>\n      <td>122</td>\n    </tr>\n    <tr>\n      <th>...</th>\n      <td>...</td>\n      <td>...</td>\n      <td>...</td>\n      <td>...</td>\n      <td>...</td>\n      <td>...</td>\n      <td>...</td>\n      <td>...</td>\n      <td>...</td>\n      <td>...</td>\n      <td>...</td>\n      <td>...</td>\n      <td>...</td>\n      <td>...</td>\n      <td>...</td>\n      <td>...</td>\n      <td>...</td>\n      <td>...</td>\n    </tr>\n    <tr>\n      <th>66112</th>\n      <td>2021-12-05 19:39:59.709</td>\n      <td>0 days 03:07:52.491000</td>\n      <td></td>\n      <td>0.230000</td>\n      <td>0 days 02:06:14.977000</td>\n      <td>8799</td>\n      <td>248</td>\n      <td>8</td>\n      <td>0</td>\n      <td>100</td>\n      <td>0</td>\n      <td>car</td>\n      <td>305027.872222</td>\n      <td>0.999898</td>\n      <td>OnTrack</td>\n      <td>-1191</td>\n      <td>-70</td>\n      <td>118</td>\n    </tr>\n    <tr>\n      <th>66113</th>\n      <td>2021-12-05 19:39:59.720</td>\n      <td>0 days 03:07:52.502000</td>\n      <td></td>\n      <td>0.230000</td>\n      <td>0 days 02:06:14.988000</td>\n      <td>8711</td>\n      <td>246</td>\n      <td>8</td>\n      <td>0</td>\n      <td>100</td>\n      <td>0</td>\n      <td>pos</td>\n      <td>305028.624336</td>\n      <td>0.999900</td>\n      <td>OnTrack</td>\n      <td>-1194</td>\n      <td>-64</td>\n      <td>118</td>\n    </tr>\n    <tr>\n      <th>66114</th>\n      <td>2021-12-05 19:39:59.939</td>\n      <td>0 days 03:07:52.721000</td>\n      <td></td>\n      <td>0.230000</td>\n      <td>0 days 02:06:15.207000</td>\n      <td>8624</td>\n      <td>244</td>\n      <td>8</td>\n      <td>0</td>\n      <td>100</td>\n      <td>0</td>\n      <td>pos</td>\n      <td>305043.416787</td>\n      <td>0.999948</td>\n      <td>OnTrack</td>\n      <td>-1238</td>\n      <td>63</td>\n      <td>118</td>\n    </tr>\n    <tr>\n      <th>66115</th>\n      <td>2021-12-05 19:39:59.949</td>\n      <td>0 days 03:07:52.731000</td>\n      <td></td>\n      <td>0.230000</td>\n      <td>0 days 02:06:15.217000</td>\n      <td>8537</td>\n      <td>243</td>\n      <td>8</td>\n      <td>0</td>\n      <td>100</td>\n      <td>0</td>\n      <td>car</td>\n      <td>305044.072222</td>\n      <td>0.999951</td>\n      <td>OnTrack</td>\n      <td>-1240</td>\n      <td>68</td>\n      <td>118</td>\n    </tr>\n    <tr>\n      <th>66116</th>\n      <td>2021-12-05 19:40:00.023</td>\n      <td>0 days 03:07:52.805000</td>\n      <td></td>\n      <td>0.230000</td>\n      <td>0 days 02:06:15.291000</td>\n      <td>8687</td>\n      <td>238</td>\n      <td>8</td>\n      <td>0</td>\n      <td>100</td>\n      <td>0</td>\n      <td>interpolation</td>\n      <td>305048.853722</td>\n      <td>0.999966</td>\n      <td>OnTrack</td>\n      <td>-1255</td>\n      <td>109</td>\n      <td>118</td>\n    </tr>\n  </tbody>\n</table>\n<p>65748 rows × 18 columns</p>\n</div>"
     },
     "execution_count": 175,
     "metadata": {},
     "output_type": "execute_result"
    }
   ],
   "source": [
    "df = laps.pick_driver(44).get_telemetry()\n",
    "df[df['Time'] > pd.Timedelta('0 days 00:00:42')]"
   ],
   "metadata": {
    "collapsed": false,
    "pycharm": {
     "name": "#%%\n"
    }
   }
  },
  {
   "cell_type": "code",
   "execution_count": 317,
   "outputs": [],
   "source": [
    "x_size_of_sector = 50\n",
    "y_size_of_sector = 50"
   ],
   "metadata": {
    "collapsed": false,
    "pycharm": {
     "name": "#%%\n"
    }
   }
  },
  {
   "cell_type": "code",
   "execution_count": 319,
   "outputs": [],
   "source": [
    "overtakes = overtakes.drop_duplicates(subset=['First_driver', 'Second_driver', 'Date'])"
   ],
   "metadata": {
    "collapsed": false,
    "pycharm": {
     "name": "#%%\n"
    }
   }
  },
  {
   "cell_type": "markdown",
   "source": [
    "<h2> Давайте создадим нашу трассу </h2>"
   ],
   "metadata": {
    "collapsed": false
   }
  },
  {
   "cell_type": "code",
   "execution_count": 320,
   "outputs": [],
   "source": [
    "def num_of_overtakes_in_segment(point, overtakes_df):\n",
    "    return len(overtakes_df[(overtakes_df['X'] == math.floor(point['X'] // 10  // x_size_of_sector)) & (overtakes_df['Y'] == math.floor(point['Y'] // 10 // y_size_of_sector))])\n",
    "\n",
    "lap = laps.pick_fastest()\n",
    "tel = lap.get_telemetry()\n",
    "\n",
    "x = np.array(tel['X'].values)\n",
    "y = np.array(tel['Y'].values)\n",
    "\n",
    "overtakes_to_display = pd.DataFrame({\"X\": x, \"Y\": y})\n",
    "overtakes_to_display['nOvertakes'] = overtakes_to_display.apply(lambda i: num_of_overtakes_in_segment(i, overtakes), axis=1)\n",
    "\n",
    "points = np.array([x, y]).T.reshape(-1, 1, 2)\n",
    "segments = np.concatenate([points[:-1], points[1:]], axis=1)"
   ],
   "metadata": {
    "collapsed": false,
    "pycharm": {
     "name": "#%%\n"
    }
   }
  },
  {
   "cell_type": "code",
   "execution_count": null,
   "outputs": [],
   "source": [
    "overtakes_to_display.sort_values(by='nOvertakes', ascending=False)"
   ],
   "metadata": {
    "collapsed": false,
    "pycharm": {
     "name": "#%%\n"
    }
   }
  },
  {
   "cell_type": "code",
   "execution_count": null,
   "outputs": [],
   "source": [
    "from matplotlib.collections import LineCollection\n",
    "from matplotlib import cm\n",
    "import matplotlib.pyplot as plt\n",
    "from matplotlib.pyplot import figure\n",
    "\n",
    "fig,ax = plt.subplots(figsize=(30, 30), dpi=200)\n",
    "\n",
    "overtake = overtakes_to_display['nOvertakes'].to_numpy().astype(float)\n",
    "\n",
    "cmap = cm.get_cmap('Paired')\n",
    "lc_comp = LineCollection(segments, norm=plt.Normalize(1, cmap.N+1), cmap=cmap)\n",
    "lc_comp.set_array(overtake)\n",
    "lc_comp.set_linewidth(4)\n",
    "ax.add_collection(lc_comp)\n",
    "\n",
    "# plt.plot(x, y)\n",
    "# plt.scatter(overtakes_to_display[overtakes_to_display['nOvertakes'] != 0]['X'], overtakes_to_display[overtakes_to_display['nOvertakes'] != 0]['Y'], color='y', s=20)\n",
    "# plt.scatter(overtakes['X'] * 10 * x_size_of_sector, overtakes['Y'] * 10 * y_size_of_sector, color='r', s=10)\n",
    "# plt.axis('equal')\n",
    "\n",
    "major_ticks = np.arange(-7000, 23000, 500)\n",
    "minor_ticks = np.arange(-7000, 23000, 500)\n",
    "\n",
    "ax.set_xticks(major_ticks)\n",
    "ax.set_xticks(minor_ticks, minor=True)\n",
    "ax.set_yticks(major_ticks)\n",
    "ax.set_yticks(minor_ticks, minor=True)\n",
    "plt.grid()\n",
    "plt.xticks(rotation=90)\n",
    "plt.show()"
   ],
   "metadata": {
    "collapsed": false,
    "pycharm": {
     "name": "#%%\n"
    }
   }
  },
  {
   "cell_type": "code",
   "execution_count": null,
   "outputs": [],
   "source": [],
   "metadata": {
    "collapsed": false,
    "pycharm": {
     "name": "#%%\n"
    }
   }
  }
 ],
 "metadata": {
  "kernelspec": {
   "display_name": "Python 3",
   "language": "python",
   "name": "python3"
  },
  "language_info": {
   "codemirror_mode": {
    "name": "ipython",
    "version": 2
   },
   "file_extension": ".py",
   "mimetype": "text/x-python",
   "name": "python",
   "nbconvert_exporter": "python",
   "pygments_lexer": "ipython2",
   "version": "2.7.6"
  }
 },
 "nbformat": 4,
 "nbformat_minor": 0
}